{
  "cells": [
    {
      "cell_type": "markdown",
      "metadata": {
        "id": "CoMPcK9ec7_x"
      },
      "source": [
        "\n",
        "프로젝트 주제 :자동차의 종에 따라 분류 및 사고의 규모를 보고 차종을 예측하는 모델 만들기\n",
        "\n",
        "분석 기법 : 의사결정 트리, 로지스틱회귀, 선형회귀"
      ]
    },
    {
      "cell_type": "code",
      "execution_count": 227,
      "metadata": {
        "id": "bjEAk4EKctYr"
      },
      "outputs": [],
      "source": [
        "# 사용할 라이브러리 불러오기\n",
        "import pandas as pd\n",
        "import numpy as np\n",
        "#선형회귀\n",
        "from sklearn.model_selection import train_test_split\n",
        "from sklearn.linear_model import LinearRegression\n",
        "from sklearn.metrics import mean_squared_error\n",
        "import matplotlib.pyplot as plt\n",
        "from sklearn.preprocessing import StandardScaler\n",
        "from sklearn.preprocessing import LabelEncoder\n",
        "# 의사결정트리 라이브러리\n",
        "from sklearn.tree import DecisionTreeClassifier\n",
        "from sklearn.metrics import accuracy_score, confusion_matrix\n",
        "from sklearn.tree import export_graphviz\n",
        "import graphviz\n",
        "from sklearn.tree import DecisionTreeRegressor\n",
        "#로직스틱회귀\n",
        "from sklearn.linear_model import LogisticRegression\n",
        "import seaborn as sns\n",
        "#랜덤포레스트\n",
        "from sklearn.ensemble import RandomForestClassifier\n"
      ]
    },
    {
      "cell_type": "code",
      "execution_count": 228,
      "metadata": {
        "colab": {
          "base_uri": "https://localhost:8080/"
        },
        "id": "HN3-QoSnc7cf",
        "outputId": "70d47ff0-043d-42b2-96a0-84b9af23d237"
      },
      "outputs": [
        {
          "name": "stdout",
          "output_type": "stream",
          "text": [
            "Drive already mounted at /content/drive; to attempt to forcibly remount, call drive.mount(\"/content/drive\", force_remount=True).\n"
          ]
        }
      ],
      "source": [
        "from google.colab import drive\n",
        "drive.mount('/content/drive')"
      ]
    },
    {
      "cell_type": "code",
      "execution_count": 229,
      "metadata": {
        "colab": {
          "base_uri": "https://localhost:8080/",
          "height": 687
        },
        "id": "Mpl8dVPqc7fw",
        "outputId": "026ccd99-4d6a-400b-e22e-2e49e68bade7"
      },
      "outputs": [
        {
          "data": {
            "text/html": [
              "\n",
              "  <div id=\"df-6bddf9b6-4656-42d0-9095-77b41e521dba\" class=\"colab-df-container\">\n",
              "    <div>\n",
              "<style scoped>\n",
              "    .dataframe tbody tr th:only-of-type {\n",
              "        vertical-align: middle;\n",
              "    }\n",
              "\n",
              "    .dataframe tbody tr th {\n",
              "        vertical-align: top;\n",
              "    }\n",
              "\n",
              "    .dataframe thead th {\n",
              "        text-align: right;\n",
              "    }\n",
              "</style>\n",
              "<table border=\"1\" class=\"dataframe\">\n",
              "  <thead>\n",
              "    <tr style=\"text-align: right;\">\n",
              "      <th></th>\n",
              "      <th>Large classification of the use of the offender's vehicle</th>\n",
              "      <th>Classification of the perpetrator's vehicle use</th>\n",
              "      <th>Perpetrator vehicle use</th>\n",
              "      <th>timezone</th>\n",
              "      <th>number of accidents</th>\n",
              "      <th>number of death</th>\n",
              "      <th>number of slanderers</th>\n",
              "      <th>number of casualties</th>\n",
              "      <th>number of reported injuries</th>\n",
              "    </tr>\n",
              "  </thead>\n",
              "  <tbody>\n",
              "    <tr>\n",
              "      <th>0</th>\n",
              "      <td>for business</td>\n",
              "      <td>route bus</td>\n",
              "      <td>city bus</td>\n",
              "      <td>00hour-02hour</td>\n",
              "      <td>24</td>\n",
              "      <td>0</td>\n",
              "      <td>13</td>\n",
              "      <td>15</td>\n",
              "      <td>3</td>\n",
              "    </tr>\n",
              "    <tr>\n",
              "      <th>1</th>\n",
              "      <td>for business</td>\n",
              "      <td>route bus</td>\n",
              "      <td>city bus</td>\n",
              "      <td>02hour-04hour</td>\n",
              "      <td>1</td>\n",
              "      <td>0</td>\n",
              "      <td>0</td>\n",
              "      <td>0</td>\n",
              "      <td>1</td>\n",
              "    </tr>\n",
              "    <tr>\n",
              "      <th>2</th>\n",
              "      <td>for business</td>\n",
              "      <td>route bus</td>\n",
              "      <td>city bus</td>\n",
              "      <td>04hour-06hour</td>\n",
              "      <td>41</td>\n",
              "      <td>4</td>\n",
              "      <td>16</td>\n",
              "      <td>25</td>\n",
              "      <td>2</td>\n",
              "    </tr>\n",
              "    <tr>\n",
              "      <th>3</th>\n",
              "      <td>for business</td>\n",
              "      <td>route bus</td>\n",
              "      <td>city bus</td>\n",
              "      <td>06hour-08hour</td>\n",
              "      <td>237</td>\n",
              "      <td>6</td>\n",
              "      <td>88</td>\n",
              "      <td>238</td>\n",
              "      <td>14</td>\n",
              "    </tr>\n",
              "    <tr>\n",
              "      <th>4</th>\n",
              "      <td>for business</td>\n",
              "      <td>route bus</td>\n",
              "      <td>city bus</td>\n",
              "      <td>08hour-10hour</td>\n",
              "      <td>432</td>\n",
              "      <td>3</td>\n",
              "      <td>136</td>\n",
              "      <td>435</td>\n",
              "      <td>37</td>\n",
              "    </tr>\n",
              "    <tr>\n",
              "      <th>...</th>\n",
              "      <td>...</td>\n",
              "      <td>...</td>\n",
              "      <td>...</td>\n",
              "      <td>...</td>\n",
              "      <td>...</td>\n",
              "      <td>...</td>\n",
              "      <td>...</td>\n",
              "      <td>...</td>\n",
              "      <td>...</td>\n",
              "    </tr>\n",
              "    <tr>\n",
              "      <th>302</th>\n",
              "      <td>other/unknown</td>\n",
              "      <td>other/unknown</td>\n",
              "      <td>other/unknown</td>\n",
              "      <td>14hour-16hour</td>\n",
              "      <td>205</td>\n",
              "      <td>1</td>\n",
              "      <td>28</td>\n",
              "      <td>143</td>\n",
              "      <td>46</td>\n",
              "    </tr>\n",
              "    <tr>\n",
              "      <th>303</th>\n",
              "      <td>other/unknown</td>\n",
              "      <td>other/unknown</td>\n",
              "      <td>other/unknown</td>\n",
              "      <td>16hour-18hour</td>\n",
              "      <td>323</td>\n",
              "      <td>1</td>\n",
              "      <td>51</td>\n",
              "      <td>211</td>\n",
              "      <td>90</td>\n",
              "    </tr>\n",
              "    <tr>\n",
              "      <th>304</th>\n",
              "      <td>other/unknown</td>\n",
              "      <td>other/unknown</td>\n",
              "      <td>other/unknown</td>\n",
              "      <td>18hour-20hour</td>\n",
              "      <td>542</td>\n",
              "      <td>1</td>\n",
              "      <td>62</td>\n",
              "      <td>388</td>\n",
              "      <td>136</td>\n",
              "    </tr>\n",
              "    <tr>\n",
              "      <th>305</th>\n",
              "      <td>other/unknown</td>\n",
              "      <td>other/unknown</td>\n",
              "      <td>other/unknown</td>\n",
              "      <td>20hour-22hour</td>\n",
              "      <td>419</td>\n",
              "      <td>0</td>\n",
              "      <td>40</td>\n",
              "      <td>341</td>\n",
              "      <td>109</td>\n",
              "    </tr>\n",
              "    <tr>\n",
              "      <th>306</th>\n",
              "      <td>other/unknown</td>\n",
              "      <td>other/unknown</td>\n",
              "      <td>other/unknown</td>\n",
              "      <td>22hour-24hour</td>\n",
              "      <td>311</td>\n",
              "      <td>0</td>\n",
              "      <td>39</td>\n",
              "      <td>221</td>\n",
              "      <td>75</td>\n",
              "    </tr>\n",
              "  </tbody>\n",
              "</table>\n",
              "<p>307 rows × 9 columns</p>\n",
              "</div>\n",
              "    <div class=\"colab-df-buttons\">\n",
              "\n",
              "  <div class=\"colab-df-container\">\n",
              "    <button class=\"colab-df-convert\" onclick=\"convertToInteractive('df-6bddf9b6-4656-42d0-9095-77b41e521dba')\"\n",
              "            title=\"Convert this dataframe to an interactive table.\"\n",
              "            style=\"display:none;\">\n",
              "\n",
              "  <svg xmlns=\"http://www.w3.org/2000/svg\" height=\"24px\" viewBox=\"0 -960 960 960\">\n",
              "    <path d=\"M120-120v-720h720v720H120Zm60-500h600v-160H180v160Zm220 220h160v-160H400v160Zm0 220h160v-160H400v160ZM180-400h160v-160H180v160Zm440 0h160v-160H620v160ZM180-180h160v-160H180v160Zm440 0h160v-160H620v160Z\"/>\n",
              "  </svg>\n",
              "    </button>\n",
              "\n",
              "  <style>\n",
              "    .colab-df-container {\n",
              "      display:flex;\n",
              "      gap: 12px;\n",
              "    }\n",
              "\n",
              "    .colab-df-convert {\n",
              "      background-color: #E8F0FE;\n",
              "      border: none;\n",
              "      border-radius: 50%;\n",
              "      cursor: pointer;\n",
              "      display: none;\n",
              "      fill: #1967D2;\n",
              "      height: 32px;\n",
              "      padding: 0 0 0 0;\n",
              "      width: 32px;\n",
              "    }\n",
              "\n",
              "    .colab-df-convert:hover {\n",
              "      background-color: #E2EBFA;\n",
              "      box-shadow: 0px 1px 2px rgba(60, 64, 67, 0.3), 0px 1px 3px 1px rgba(60, 64, 67, 0.15);\n",
              "      fill: #174EA6;\n",
              "    }\n",
              "\n",
              "    .colab-df-buttons div {\n",
              "      margin-bottom: 4px;\n",
              "    }\n",
              "\n",
              "    [theme=dark] .colab-df-convert {\n",
              "      background-color: #3B4455;\n",
              "      fill: #D2E3FC;\n",
              "    }\n",
              "\n",
              "    [theme=dark] .colab-df-convert:hover {\n",
              "      background-color: #434B5C;\n",
              "      box-shadow: 0px 1px 3px 1px rgba(0, 0, 0, 0.15);\n",
              "      filter: drop-shadow(0px 1px 2px rgba(0, 0, 0, 0.3));\n",
              "      fill: #FFFFFF;\n",
              "    }\n",
              "  </style>\n",
              "\n",
              "    <script>\n",
              "      const buttonEl =\n",
              "        document.querySelector('#df-6bddf9b6-4656-42d0-9095-77b41e521dba button.colab-df-convert');\n",
              "      buttonEl.style.display =\n",
              "        google.colab.kernel.accessAllowed ? 'block' : 'none';\n",
              "\n",
              "      async function convertToInteractive(key) {\n",
              "        const element = document.querySelector('#df-6bddf9b6-4656-42d0-9095-77b41e521dba');\n",
              "        const dataTable =\n",
              "          await google.colab.kernel.invokeFunction('convertToInteractive',\n",
              "                                                    [key], {});\n",
              "        if (!dataTable) return;\n",
              "\n",
              "        const docLinkHtml = 'Like what you see? Visit the ' +\n",
              "          '<a target=\"_blank\" href=https://colab.research.google.com/notebooks/data_table.ipynb>data table notebook</a>'\n",
              "          + ' to learn more about interactive tables.';\n",
              "        element.innerHTML = '';\n",
              "        dataTable['output_type'] = 'display_data';\n",
              "        await google.colab.output.renderOutput(dataTable, element);\n",
              "        const docLink = document.createElement('div');\n",
              "        docLink.innerHTML = docLinkHtml;\n",
              "        element.appendChild(docLink);\n",
              "      }\n",
              "    </script>\n",
              "  </div>\n",
              "\n",
              "\n",
              "<div id=\"df-168ac04b-69f7-4a47-aa80-a9ebc4e9631e\">\n",
              "  <button class=\"colab-df-quickchart\" onclick=\"quickchart('df-168ac04b-69f7-4a47-aa80-a9ebc4e9631e')\"\n",
              "            title=\"Suggest charts\"\n",
              "            style=\"display:none;\">\n",
              "\n",
              "<svg xmlns=\"http://www.w3.org/2000/svg\" height=\"24px\"viewBox=\"0 0 24 24\"\n",
              "     width=\"24px\">\n",
              "    <g>\n",
              "        <path d=\"M19 3H5c-1.1 0-2 .9-2 2v14c0 1.1.9 2 2 2h14c1.1 0 2-.9 2-2V5c0-1.1-.9-2-2-2zM9 17H7v-7h2v7zm4 0h-2V7h2v10zm4 0h-2v-4h2v4z\"/>\n",
              "    </g>\n",
              "</svg>\n",
              "  </button>\n",
              "\n",
              "<style>\n",
              "  .colab-df-quickchart {\n",
              "      --bg-color: #E8F0FE;\n",
              "      --fill-color: #1967D2;\n",
              "      --hover-bg-color: #E2EBFA;\n",
              "      --hover-fill-color: #174EA6;\n",
              "      --disabled-fill-color: #AAA;\n",
              "      --disabled-bg-color: #DDD;\n",
              "  }\n",
              "\n",
              "  [theme=dark] .colab-df-quickchart {\n",
              "      --bg-color: #3B4455;\n",
              "      --fill-color: #D2E3FC;\n",
              "      --hover-bg-color: #434B5C;\n",
              "      --hover-fill-color: #FFFFFF;\n",
              "      --disabled-bg-color: #3B4455;\n",
              "      --disabled-fill-color: #666;\n",
              "  }\n",
              "\n",
              "  .colab-df-quickchart {\n",
              "    background-color: var(--bg-color);\n",
              "    border: none;\n",
              "    border-radius: 50%;\n",
              "    cursor: pointer;\n",
              "    display: none;\n",
              "    fill: var(--fill-color);\n",
              "    height: 32px;\n",
              "    padding: 0;\n",
              "    width: 32px;\n",
              "  }\n",
              "\n",
              "  .colab-df-quickchart:hover {\n",
              "    background-color: var(--hover-bg-color);\n",
              "    box-shadow: 0 1px 2px rgba(60, 64, 67, 0.3), 0 1px 3px 1px rgba(60, 64, 67, 0.15);\n",
              "    fill: var(--button-hover-fill-color);\n",
              "  }\n",
              "\n",
              "  .colab-df-quickchart-complete:disabled,\n",
              "  .colab-df-quickchart-complete:disabled:hover {\n",
              "    background-color: var(--disabled-bg-color);\n",
              "    fill: var(--disabled-fill-color);\n",
              "    box-shadow: none;\n",
              "  }\n",
              "\n",
              "  .colab-df-spinner {\n",
              "    border: 2px solid var(--fill-color);\n",
              "    border-color: transparent;\n",
              "    border-bottom-color: var(--fill-color);\n",
              "    animation:\n",
              "      spin 1s steps(1) infinite;\n",
              "  }\n",
              "\n",
              "  @keyframes spin {\n",
              "    0% {\n",
              "      border-color: transparent;\n",
              "      border-bottom-color: var(--fill-color);\n",
              "      border-left-color: var(--fill-color);\n",
              "    }\n",
              "    20% {\n",
              "      border-color: transparent;\n",
              "      border-left-color: var(--fill-color);\n",
              "      border-top-color: var(--fill-color);\n",
              "    }\n",
              "    30% {\n",
              "      border-color: transparent;\n",
              "      border-left-color: var(--fill-color);\n",
              "      border-top-color: var(--fill-color);\n",
              "      border-right-color: var(--fill-color);\n",
              "    }\n",
              "    40% {\n",
              "      border-color: transparent;\n",
              "      border-right-color: var(--fill-color);\n",
              "      border-top-color: var(--fill-color);\n",
              "    }\n",
              "    60% {\n",
              "      border-color: transparent;\n",
              "      border-right-color: var(--fill-color);\n",
              "    }\n",
              "    80% {\n",
              "      border-color: transparent;\n",
              "      border-right-color: var(--fill-color);\n",
              "      border-bottom-color: var(--fill-color);\n",
              "    }\n",
              "    90% {\n",
              "      border-color: transparent;\n",
              "      border-bottom-color: var(--fill-color);\n",
              "    }\n",
              "  }\n",
              "</style>\n",
              "\n",
              "  <script>\n",
              "    async function quickchart(key) {\n",
              "      const quickchartButtonEl =\n",
              "        document.querySelector('#' + key + ' button');\n",
              "      quickchartButtonEl.disabled = true;  // To prevent multiple clicks.\n",
              "      quickchartButtonEl.classList.add('colab-df-spinner');\n",
              "      try {\n",
              "        const charts = await google.colab.kernel.invokeFunction(\n",
              "            'suggestCharts', [key], {});\n",
              "      } catch (error) {\n",
              "        console.error('Error during call to suggestCharts:', error);\n",
              "      }\n",
              "      quickchartButtonEl.classList.remove('colab-df-spinner');\n",
              "      quickchartButtonEl.classList.add('colab-df-quickchart-complete');\n",
              "    }\n",
              "    (() => {\n",
              "      let quickchartButtonEl =\n",
              "        document.querySelector('#df-168ac04b-69f7-4a47-aa80-a9ebc4e9631e button');\n",
              "      quickchartButtonEl.style.display =\n",
              "        google.colab.kernel.accessAllowed ? 'block' : 'none';\n",
              "    })();\n",
              "  </script>\n",
              "</div>\n",
              "    </div>\n",
              "  </div>\n"
            ],
            "text/plain": [
              "    Large classification of the use of the offender's vehicle  \\\n",
              "0                                         for business          \n",
              "1                                         for business          \n",
              "2                                         for business          \n",
              "3                                         for business          \n",
              "4                                         for business          \n",
              "..                                                 ...          \n",
              "302                                      other/unknown          \n",
              "303                                      other/unknown          \n",
              "304                                      other/unknown          \n",
              "305                                      other/unknown          \n",
              "306                                      other/unknown          \n",
              "\n",
              "    Classification of the perpetrator's vehicle use Perpetrator vehicle use  \\\n",
              "0                                         route bus                city bus   \n",
              "1                                         route bus                city bus   \n",
              "2                                         route bus                city bus   \n",
              "3                                         route bus                city bus   \n",
              "4                                         route bus                city bus   \n",
              "..                                              ...                     ...   \n",
              "302                                   other/unknown           other/unknown   \n",
              "303                                   other/unknown           other/unknown   \n",
              "304                                   other/unknown           other/unknown   \n",
              "305                                   other/unknown           other/unknown   \n",
              "306                                   other/unknown           other/unknown   \n",
              "\n",
              "          timezone  number of accidents  number of death  \\\n",
              "0    00hour-02hour                   24                0   \n",
              "1    02hour-04hour                    1                0   \n",
              "2    04hour-06hour                   41                4   \n",
              "3    06hour-08hour                  237                6   \n",
              "4    08hour-10hour                  432                3   \n",
              "..             ...                  ...              ...   \n",
              "302  14hour-16hour                  205                1   \n",
              "303  16hour-18hour                  323                1   \n",
              "304  18hour-20hour                  542                1   \n",
              "305  20hour-22hour                  419                0   \n",
              "306  22hour-24hour                  311                0   \n",
              "\n",
              "     number of slanderers  number of casualties  number of reported injuries  \n",
              "0                      13                    15                            3  \n",
              "1                       0                     0                            1  \n",
              "2                      16                    25                            2  \n",
              "3                      88                   238                           14  \n",
              "4                     136                   435                           37  \n",
              "..                    ...                   ...                          ...  \n",
              "302                    28                   143                           46  \n",
              "303                    51                   211                           90  \n",
              "304                    62                   388                          136  \n",
              "305                    40                   341                          109  \n",
              "306                    39                   221                           75  \n",
              "\n",
              "[307 rows x 9 columns]"
            ]
          },
          "execution_count": 229,
          "metadata": {},
          "output_type": "execute_result"
        }
      ],
      "source": [
        "data_set = pd.read_excel('/content/drive/MyDrive/데이터마이닝실습/데마프로젝트/Korea Road Traffic Authority_Statistics of traffic accidents 20211231.xlsx')\n",
        "\n",
        "data_set"
      ]
    },
    {
      "cell_type": "markdown",
      "metadata": {
        "id": "e4ebPzHJdt3k"
      },
      "source": [
        "1. 선형회귀 시간대에 따른 사고횟수를 선형회귀로 분석\n"
      ]
    },
    {
      "cell_type": "code",
      "execution_count": 230,
      "metadata": {
        "colab": {
          "base_uri": "https://localhost:8080/"
        },
        "id": "uKyIyL_Qd_0T",
        "outputId": "86758346-b028-4565-fd4a-529d96cc5487"
      },
      "outputs": [
        {
          "name": "stdout",
          "output_type": "stream",
          "text": [
            "Index(['Large classification of the use of the offender's vehicle',\n",
            "       'Classification of the perpetrator's vehicle use',\n",
            "       'Perpetrator vehicle use', 'timezone', 'number of accidents',\n",
            "       'number of death', 'number of slanderers', 'number of casualties',\n",
            "       'number of reported injuries'],\n",
            "      dtype='object')\n"
          ]
        }
      ],
      "source": [
        "print(data_set.columns) #열 확인"
      ]
    },
    {
      "cell_type": "code",
      "execution_count": 231,
      "metadata": {
        "colab": {
          "base_uri": "https://localhost:8080/"
        },
        "id": "lsiBdUbNc7i7",
        "outputId": "7a0bd55c-388c-4e37-cee9-e635b1c64f40"
      },
      "outputs": [
        {
          "name": "stderr",
          "output_type": "stream",
          "text": [
            "<ipython-input-231-67829f9b8f40>:5: SettingWithCopyWarning: \n",
            "A value is trying to be set on a copy of a slice from a DataFrame.\n",
            "Try using .loc[row_indexer,col_indexer] = value instead\n",
            "\n",
            "See the caveats in the documentation: https://pandas.pydata.org/pandas-docs/stable/user_guide/indexing.html#returning-a-view-versus-a-copy\n",
            "  features['timezone'] = pd.factorize(features['timezone'])[0]\n"
          ]
        }
      ],
      "source": [
        "# 필요한 열 선택, 시간과 사고횟수를 선택\n",
        "features = data_set[['timezone', 'number of accidents']]\n",
        "\n",
        "# 'timezone' 열을 수치형으로 변환 (예: 0, 1, 2, ...)\n",
        "features['timezone'] = pd.factorize(features['timezone'])[0]"
      ]
    },
    {
      "cell_type": "code",
      "execution_count": 232,
      "metadata": {
        "id": "iHmDvZfLdyup"
      },
      "outputs": [],
      "source": [
        "# 목표 변수 설정\n",
        "target = features['number of accidents']"
      ]
    },
    {
      "cell_type": "code",
      "execution_count": 233,
      "metadata": {
        "id": "BJHdz6Upc7mB"
      },
      "outputs": [],
      "source": [
        "# 훈련 데이터와 테스트 데이터로 나누기\n",
        "X_train, X_test, y_train, y_test = train_test_split(features[['timezone']], target, test_size=0.2, random_state=42)"
      ]
    },
    {
      "cell_type": "code",
      "execution_count": 234,
      "metadata": {
        "colab": {
          "base_uri": "https://localhost:8080/"
        },
        "id": "hG7SjPXOd3l8",
        "outputId": "6fde3ff4-2ea1-4935-d6cb-fbb82744e55f"
      },
      "outputs": [
        {
          "name": "stdout",
          "output_type": "stream",
          "text": [
            "Mean Squared Error (Linear Regression): 6508571.475646327\n"
          ]
        }
      ],
      "source": [
        "# 선형 회귀 모델 생성 및 훈련\n",
        "linear_model = LinearRegression()\n",
        "linear_model.fit(X_train, y_train)\n",
        "\n",
        "# 테스트 데이터로 성능 평가\n",
        "y_pred_linear = linear_model.predict(X_test)\n",
        "mse_linear = mean_squared_error(y_test, y_pred_linear)\n",
        "print(f\"Mean Squared Error (Linear Regression): {mse_linear}\")"
      ]
    },
    {
      "cell_type": "code",
      "execution_count": 235,
      "metadata": {
        "colab": {
          "base_uri": "https://localhost:8080/",
          "height": 463
        },
        "id": "2lJE-Q4e7__m",
        "outputId": "a13a8fc6-da35-41c7-d717-1b146a8bd2d4"
      },
      "outputs": [
        {
          "data": {
            "image/png": "[encoded data removed]",
            "text/plain": [
              "<Figure size 1600x800 with 1 Axes>"
            ]
          },
          "metadata": {},
          "output_type": "display_data"
        }
      ],
      "source": [
        "# 테스트 데이터와 예측 결과를 그래프로 나타내기\n",
        "plt.figure(figsize=(16, 8))\n",
        "plt.scatter(X_test, y_test, color='red', label='Accidents')\n",
        "plt.plot(X_test, y_pred_linear, color='blue', linewidth=3, label='Linear Regression')\n",
        "plt.xlabel('Timezone')\n",
        "plt.ylabel('Number of Accidents')\n",
        "plt.title('Linear Regression')\n",
        "plt.legend()\n",
        "plt.show()"
      ]
    },
    {
      "cell_type": "markdown",
      "metadata": {
        "id": "WRXhm5VyeQoj"
      },
      "source": [
        "의사 결정트리를 이용한 시간대의 따른 사상자의 수 파악 해보기"
      ]
    },
    {
      "cell_type": "code",
      "execution_count": 236,
      "metadata": {
        "id": "34t5mzoTePLz"
      },
      "outputs": [],
      "source": [
        "# 필요한 열 선택\n",
        "features = data_set[['timezone']]\n",
        "target = data_set[['number of death', 'number of slanderers', 'number of casualties', 'number of reported injuries']]"
      ]
    },
    {
      "cell_type": "code",
      "execution_count": 237,
      "metadata": {
        "colab": {
          "base_uri": "https://localhost:8080/"
        },
        "id": "Q4Cplk3aer2a",
        "outputId": "7fadf405-c2ef-43d2-e83d-4aa020350ef2"
      },
      "outputs": [
        {
          "name": "stderr",
          "output_type": "stream",
          "text": [
            "<ipython-input-237-403f92a7c60d>:2: SettingWithCopyWarning: \n",
            "A value is trying to be set on a copy of a slice from a DataFrame.\n",
            "Try using .loc[row_indexer,col_indexer] = value instead\n",
            "\n",
            "See the caveats in the documentation: https://pandas.pydata.org/pandas-docs/stable/user_guide/indexing.html#returning-a-view-versus-a-copy\n",
            "  features['timezone'] = pd.factorize(features['timezone'])[0]\n"
          ]
        }
      ],
      "source": [
        "# 'timezone' 열을 수치형으로 변환 (예: 0, 1, 2, ...)\n",
        "features['timezone'] = pd.factorize(features['timezone'])[0]"
      ]
    },
    {
      "cell_type": "code",
      "execution_count": 238,
      "metadata": {
        "id": "G5kddOaaer_X"
      },
      "outputs": [],
      "source": [
        "# 훈련 데이터와 테스트 데이터로 나누기\n",
        "X_train, X_test, y_train, y_test = train_test_split(features, target, test_size=0.2, random_state=42)"
      ]
    },
    {
      "cell_type": "code",
      "execution_count": 239,
      "metadata": {
        "colab": {
          "base_uri": "https://localhost:8080/"
        },
        "id": "Ob-H7Yy-esC0",
        "outputId": "d67f7a85-9ef7-4573-c470-83176c1f9697"
      },
      "outputs": [
        {
          "name": "stdout",
          "output_type": "stream",
          "text": [
            "Mean Squared Error: 2280689.376849166\n"
          ]
        }
      ],
      "source": [
        "# 회귀용 의사결정트리 모델 생성 및 훈련\n",
        "regression_model = DecisionTreeRegressor()\n",
        "regression_model.fit(X_train, y_train)\n",
        "\n",
        "# 테스트 데이터로 성능 평가\n",
        "y_pred_regression = regression_model.predict(X_test)\n",
        "mse = mean_squared_error(y_test, y_pred_regression)\n",
        "print(f\"Mean Squared Error: {mse}\")"
      ]
    },
    {
      "cell_type": "code",
      "execution_count": 240,
      "metadata": {
        "colab": {
          "base_uri": "https://localhost:8080/",
          "height": 1000
        },
        "id": "Ik2nyifVexUq",
        "outputId": "962388a2-0566-4ccb-e686-fec420e022cf"
      },
      "outputs": [
        {
          "data": {
            "image/svg+xml": [
              "<?xml version=\"1.0\" encoding=\"UTF-8\" standalone=\"no\"?>\n",
              "<!DOCTYPE svg PUBLIC \"-//W3C//DTD SVG 1.1//EN\"\n",
              " \"http://www.w3.org/Graphics/SVG/1.1/DTD/svg11.dtd\">\n",
              "<!-- Generated by graphviz version 2.43.0 (0)\n",
              " -->\n",
              "<!-- Title: Tree Pages: 1 -->\n",
              "<svg width=\"1630pt\" height=\"851pt\"\n",
              " viewBox=\"0.00 0.00 1629.50 851.00\" xmlns=\"http://www.w3.org/2000/svg\" xmlns:xlink=\"http://www.w3.org/1999/xlink\">\n",
              "<g id=\"graph0\" class=\"graph\" transform=\"scale(1 1) rotate(0) translate(4 847)\">\n",
              "<title>Tree</title>\n",
              "<polygon fill=\"white\" stroke=\"transparent\" points=\"-4,4 -4,-847 1625.5,-847 1625.5,4 -4,4\"/>\n",
              "<!-- 0 -->\n",
              "<g id=\"node1\" class=\"node\">\n",
              "<title>0</title>\n",
              "<path fill=\"#efb387\" stroke=\"black\" d=\"M865.5,-843C865.5,-843 693.5,-843 693.5,-843 687.5,-843 681.5,-837 681.5,-831 681.5,-831 681.5,-742 681.5,-742 681.5,-736 687.5,-730 693.5,-730 693.5,-730 865.5,-730 865.5,-730 871.5,-730 877.5,-736 877.5,-742 877.5,-742 877.5,-831 877.5,-831 877.5,-837 871.5,-843 865.5,-843\"/>\n",
              "<text text-anchor=\"start\" x=\"734.5\" y=\"-827.8\" font-family=\"Helvetica,sans-Serif\" font-size=\"14.00\">timezone ≤ 4.5</text>\n",
              "<text text-anchor=\"start\" x=\"689.5\" y=\"-812.8\" font-family=\"Helvetica,sans-Serif\" font-size=\"14.00\">squared_error = 1296537.333</text>\n",
              "<text text-anchor=\"start\" x=\"734.5\" y=\"-797.8\" font-family=\"Helvetica,sans-Serif\" font-size=\"14.00\">samples = 245</text>\n",
              "<text text-anchor=\"start\" x=\"732.5\" y=\"-782.8\" font-family=\"Helvetica,sans-Serif\" font-size=\"14.00\">value = [[8.996]</text>\n",
              "<text text-anchor=\"start\" x=\"751\" y=\"-767.8\" font-family=\"Helvetica,sans-Serif\" font-size=\"14.00\">[171.865]</text>\n",
              "<text text-anchor=\"start\" x=\"751\" y=\"-752.8\" font-family=\"Helvetica,sans-Serif\" font-size=\"14.00\">[664.653]</text>\n",
              "<text text-anchor=\"start\" x=\"753\" y=\"-737.8\" font-family=\"Helvetica,sans-Serif\" font-size=\"14.00\">[51.735]]</text>\n",
              "</g>\n",
              "<!-- 1 -->\n",
              "<g id=\"node2\" class=\"node\">\n",
              "<title>1</title>\n",
              "<path fill=\"#e5833b\" stroke=\"black\" d=\"M755,-694C755,-694 598,-694 598,-694 592,-694 586,-688 586,-682 586,-682 586,-593 586,-593 586,-587 592,-581 598,-581 598,-581 755,-581 755,-581 761,-581 767,-587 767,-593 767,-593 767,-682 767,-682 767,-688 761,-694 755,-694\"/>\n",
              "<text text-anchor=\"start\" x=\"631.5\" y=\"-678.8\" font-family=\"Helvetica,sans-Serif\" font-size=\"14.00\">timezone ≤ 3.5</text>\n",
              "<text text-anchor=\"start\" x=\"594\" y=\"-663.8\" font-family=\"Helvetica,sans-Serif\" font-size=\"14.00\">squared_error = 42284.244</text>\n",
              "<text text-anchor=\"start\" x=\"635.5\" y=\"-648.8\" font-family=\"Helvetica,sans-Serif\" font-size=\"14.00\">samples = 88</text>\n",
              "<text text-anchor=\"start\" x=\"629.5\" y=\"-633.8\" font-family=\"Helvetica,sans-Serif\" font-size=\"14.00\">value = [[6.443]</text>\n",
              "<text text-anchor=\"start\" x=\"655.5\" y=\"-618.8\" font-family=\"Helvetica,sans-Serif\" font-size=\"14.00\">[66.42]</text>\n",
              "<text text-anchor=\"start\" x=\"648\" y=\"-603.8\" font-family=\"Helvetica,sans-Serif\" font-size=\"14.00\">[202.932]</text>\n",
              "<text text-anchor=\"start\" x=\"650\" y=\"-588.8\" font-family=\"Helvetica,sans-Serif\" font-size=\"14.00\">[19.409]]</text>\n",
              "</g>\n",
              "<!-- 0&#45;&gt;1 -->\n",
              "<g id=\"edge1\" class=\"edge\">\n",
              "<title>0&#45;&gt;1</title>\n",
              "<path fill=\"none\" stroke=\"black\" d=\"M740.56,-729.93C734.28,-720.96 727.73,-711.62 721.33,-702.48\"/>\n",
              "<polygon fill=\"black\" stroke=\"black\" points=\"724.1,-700.33 715.49,-694.15 718.37,-704.35 724.1,-700.33\"/>\n",
              "<text text-anchor=\"middle\" x=\"711.16\" y=\"-715.07\" font-family=\"Helvetica,sans-Serif\" font-size=\"14.00\">True</text>\n",
              "</g>\n",
              "<!-- 10 -->\n",
              "<g id=\"node11\" class=\"node\">\n",
              "<title>10</title>\n",
              "<path fill=\"#f5ccaf\" stroke=\"black\" d=\"M966.5,-694C966.5,-694 802.5,-694 802.5,-694 796.5,-694 790.5,-688 790.5,-682 790.5,-682 790.5,-593 790.5,-593 790.5,-587 796.5,-581 802.5,-581 802.5,-581 966.5,-581 966.5,-581 972.5,-581 978.5,-587 978.5,-593 978.5,-593 978.5,-682 978.5,-682 978.5,-688 972.5,-694 966.5,-694\"/>\n",
              "<text text-anchor=\"start\" x=\"839.5\" y=\"-678.8\" font-family=\"Helvetica,sans-Serif\" font-size=\"14.00\">timezone ≤ 8.5</text>\n",
              "<text text-anchor=\"start\" x=\"798.5\" y=\"-663.8\" font-family=\"Helvetica,sans-Serif\" font-size=\"14.00\">squared_error = 1950279.42</text>\n",
              "<text text-anchor=\"start\" x=\"839.5\" y=\"-648.8\" font-family=\"Helvetica,sans-Serif\" font-size=\"14.00\">samples = 157</text>\n",
              "<text text-anchor=\"start\" x=\"834\" y=\"-633.8\" font-family=\"Helvetica,sans-Serif\" font-size=\"14.00\">value = [[10.427]</text>\n",
              "<text text-anchor=\"start\" x=\"856\" y=\"-618.8\" font-family=\"Helvetica,sans-Serif\" font-size=\"14.00\">[230.968]</text>\n",
              "<text text-anchor=\"start\" x=\"856\" y=\"-603.8\" font-family=\"Helvetica,sans-Serif\" font-size=\"14.00\">[923.452]</text>\n",
              "<text text-anchor=\"start\" x=\"858\" y=\"-588.8\" font-family=\"Helvetica,sans-Serif\" font-size=\"14.00\">[69.854]]</text>\n",
              "</g>\n",
              "<!-- 0&#45;&gt;10 -->\n",
              "<g id=\"edge10\" class=\"edge\">\n",
              "<title>0&#45;&gt;10</title>\n",
              "<path fill=\"none\" stroke=\"black\" d=\"M819.2,-729.93C825.6,-720.96 832.27,-711.62 838.8,-702.48\"/>\n",
              "<polygon fill=\"black\" stroke=\"black\" points=\"841.78,-704.32 844.75,-694.15 836.09,-700.26 841.78,-704.32\"/>\n",
              "<text text-anchor=\"middle\" x=\"848.86\" y=\"-715.11\" font-family=\"Helvetica,sans-Serif\" font-size=\"14.00\">False</text>\n",
              "</g>\n",
              "<!-- 2 -->\n",
              "<g id=\"node3\" class=\"node\">\n",
              "<title>2</title>\n",
              "<path fill=\"#e5823a\" stroke=\"black\" d=\"M555,-545C555,-545 398,-545 398,-545 392,-545 386,-539 386,-533 386,-533 386,-444 386,-444 386,-438 392,-432 398,-432 398,-432 555,-432 555,-432 561,-432 567,-438 567,-444 567,-444 567,-533 567,-533 567,-539 561,-545 555,-545\"/>\n",
              "<text text-anchor=\"start\" x=\"431.5\" y=\"-529.8\" font-family=\"Helvetica,sans-Serif\" font-size=\"14.00\">timezone ≤ 1.5</text>\n",
              "<text text-anchor=\"start\" x=\"394\" y=\"-514.8\" font-family=\"Helvetica,sans-Serif\" font-size=\"14.00\">squared_error = 24438.297</text>\n",
              "<text text-anchor=\"start\" x=\"435.5\" y=\"-499.8\" font-family=\"Helvetica,sans-Serif\" font-size=\"14.00\">samples = 68</text>\n",
              "<text text-anchor=\"start\" x=\"429.5\" y=\"-484.8\" font-family=\"Helvetica,sans-Serif\" font-size=\"14.00\">value = [[5.971]</text>\n",
              "<text text-anchor=\"start\" x=\"452\" y=\"-469.8\" font-family=\"Helvetica,sans-Serif\" font-size=\"14.00\">[51.294]</text>\n",
              "<text text-anchor=\"start\" x=\"448\" y=\"-454.8\" font-family=\"Helvetica,sans-Serif\" font-size=\"14.00\">[143.353]</text>\n",
              "<text text-anchor=\"start\" x=\"450\" y=\"-439.8\" font-family=\"Helvetica,sans-Serif\" font-size=\"14.00\">[15.162]]</text>\n",
              "</g>\n",
              "<!-- 1&#45;&gt;2 -->\n",
              "<g id=\"edge2\" class=\"edge\">\n",
              "<title>1&#45;&gt;2</title>\n",
              "<path fill=\"none\" stroke=\"black\" d=\"M600.89,-580.93C587.7,-571.23 573.9,-561.09 560.5,-551.24\"/>\n",
              "<polygon fill=\"black\" stroke=\"black\" points=\"562.35,-548.26 552.22,-545.15 558.2,-553.9 562.35,-548.26\"/>\n",
              "</g>\n",
              "<!-- 9 -->\n",
              "<g id=\"node10\" class=\"node\">\n",
              "<title>9</title>\n",
              "<path fill=\"#e6843e\" stroke=\"black\" d=\"M755,-537.5C755,-537.5 598,-537.5 598,-537.5 592,-537.5 586,-531.5 586,-525.5 586,-525.5 586,-451.5 586,-451.5 586,-445.5 592,-439.5 598,-439.5 598,-439.5 755,-439.5 755,-439.5 761,-439.5 767,-445.5 767,-451.5 767,-451.5 767,-525.5 767,-525.5 767,-531.5 761,-537.5 755,-537.5\"/>\n",
              "<text text-anchor=\"start\" x=\"594\" y=\"-522.3\" font-family=\"Helvetica,sans-Serif\" font-size=\"14.00\">squared_error = 88760.763</text>\n",
              "<text text-anchor=\"start\" x=\"635.5\" y=\"-507.3\" font-family=\"Helvetica,sans-Serif\" font-size=\"14.00\">samples = 20</text>\n",
              "<text text-anchor=\"start\" x=\"633.5\" y=\"-492.3\" font-family=\"Helvetica,sans-Serif\" font-size=\"14.00\">value = [[8.05]</text>\n",
              "<text text-anchor=\"start\" x=\"652\" y=\"-477.3\" font-family=\"Helvetica,sans-Serif\" font-size=\"14.00\">[117.85]</text>\n",
              "<text text-anchor=\"start\" x=\"655.5\" y=\"-462.3\" font-family=\"Helvetica,sans-Serif\" font-size=\"14.00\">[405.5]</text>\n",
              "<text text-anchor=\"start\" x=\"653.5\" y=\"-447.3\" font-family=\"Helvetica,sans-Serif\" font-size=\"14.00\">[33.85]]</text>\n",
              "</g>\n",
              "<!-- 1&#45;&gt;9 -->\n",
              "<g id=\"edge9\" class=\"edge\">\n",
              "<title>1&#45;&gt;9</title>\n",
              "<path fill=\"none\" stroke=\"black\" d=\"M676.5,-580.93C676.5,-570.2 676.5,-558.94 676.5,-548.13\"/>\n",
              "<polygon fill=\"black\" stroke=\"black\" points=\"680,-547.93 676.5,-537.93 673,-547.93 680,-547.93\"/>\n",
              "</g>\n",
              "<!-- 3 -->\n",
              "<g id=\"node4\" class=\"node\">\n",
              "<title>3</title>\n",
              "<path fill=\"#e58139\" stroke=\"black\" d=\"M356,-396C356,-396 207,-396 207,-396 201,-396 195,-390 195,-384 195,-384 195,-295 195,-295 195,-289 201,-283 207,-283 207,-283 356,-283 356,-283 362,-283 368,-289 368,-295 368,-295 368,-384 368,-384 368,-390 362,-396 356,-396\"/>\n",
              "<text text-anchor=\"start\" x=\"236.5\" y=\"-380.8\" font-family=\"Helvetica,sans-Serif\" font-size=\"14.00\">timezone ≤ 0.5</text>\n",
              "<text text-anchor=\"start\" x=\"203\" y=\"-365.8\" font-family=\"Helvetica,sans-Serif\" font-size=\"14.00\">squared_error = 8437.545</text>\n",
              "<text text-anchor=\"start\" x=\"240.5\" y=\"-350.8\" font-family=\"Helvetica,sans-Serif\" font-size=\"14.00\">samples = 29</text>\n",
              "<text text-anchor=\"start\" x=\"234.5\" y=\"-335.8\" font-family=\"Helvetica,sans-Serif\" font-size=\"14.00\">value = [[3.759]</text>\n",
              "<text text-anchor=\"start\" x=\"257\" y=\"-320.8\" font-family=\"Helvetica,sans-Serif\" font-size=\"14.00\">[31.621]</text>\n",
              "<text text-anchor=\"start\" x=\"253\" y=\"-305.8\" font-family=\"Helvetica,sans-Serif\" font-size=\"14.00\">[101.724]</text>\n",
              "<text text-anchor=\"start\" x=\"255\" y=\"-290.8\" font-family=\"Helvetica,sans-Serif\" font-size=\"14.00\">[12.483]]</text>\n",
              "</g>\n",
              "<!-- 2&#45;&gt;3 -->\n",
              "<g id=\"edge3\" class=\"edge\">\n",
              "<title>2&#45;&gt;3</title>\n",
              "<path fill=\"none\" stroke=\"black\" d=\"M402.78,-431.93C389.92,-422.23 376.47,-412.09 363.4,-402.24\"/>\n",
              "<polygon fill=\"black\" stroke=\"black\" points=\"365.42,-399.38 355.33,-396.15 361.2,-404.97 365.42,-399.38\"/>\n",
              "</g>\n",
              "<!-- 6 -->\n",
              "<g id=\"node7\" class=\"node\">\n",
              "<title>6</title>\n",
              "<path fill=\"#e5823b\" stroke=\"black\" d=\"M555,-396C555,-396 398,-396 398,-396 392,-396 386,-390 386,-384 386,-384 386,-295 386,-295 386,-289 392,-283 398,-283 398,-283 555,-283 555,-283 561,-283 567,-289 567,-295 567,-295 567,-384 567,-384 567,-390 561,-396 555,-396\"/>\n",
              "<text text-anchor=\"start\" x=\"431.5\" y=\"-380.8\" font-family=\"Helvetica,sans-Serif\" font-size=\"14.00\">timezone ≤ 2.5</text>\n",
              "<text text-anchor=\"start\" x=\"394\" y=\"-365.8\" font-family=\"Helvetica,sans-Serif\" font-size=\"14.00\">squared_error = 35645.227</text>\n",
              "<text text-anchor=\"start\" x=\"435.5\" y=\"-350.8\" font-family=\"Helvetica,sans-Serif\" font-size=\"14.00\">samples = 39</text>\n",
              "<text text-anchor=\"start\" x=\"429.5\" y=\"-335.8\" font-family=\"Helvetica,sans-Serif\" font-size=\"14.00\">value = [[7.615]</text>\n",
              "<text text-anchor=\"start\" x=\"452\" y=\"-320.8\" font-family=\"Helvetica,sans-Serif\" font-size=\"14.00\">[65.923]</text>\n",
              "<text text-anchor=\"start\" x=\"448\" y=\"-305.8\" font-family=\"Helvetica,sans-Serif\" font-size=\"14.00\">[174.308]</text>\n",
              "<text text-anchor=\"start\" x=\"450\" y=\"-290.8\" font-family=\"Helvetica,sans-Serif\" font-size=\"14.00\">[17.154]]</text>\n",
              "</g>\n",
              "<!-- 2&#45;&gt;6 -->\n",
              "<g id=\"edge6\" class=\"edge\">\n",
              "<title>2&#45;&gt;6</title>\n",
              "<path fill=\"none\" stroke=\"black\" d=\"M476.5,-431.93C476.5,-423.51 476.5,-414.76 476.5,-406.16\"/>\n",
              "<polygon fill=\"black\" stroke=\"black\" points=\"480,-406.15 476.5,-396.15 473,-406.15 480,-406.15\"/>\n",
              "</g>\n",
              "<!-- 4 -->\n",
              "<g id=\"node5\" class=\"node\">\n",
              "<title>4</title>\n",
              "<path fill=\"#e5813a\" stroke=\"black\" d=\"M169,-239.5C169,-239.5 12,-239.5 12,-239.5 6,-239.5 0,-233.5 0,-227.5 0,-227.5 0,-153.5 0,-153.5 0,-147.5 6,-141.5 12,-141.5 12,-141.5 169,-141.5 169,-141.5 175,-141.5 181,-147.5 181,-153.5 181,-153.5 181,-227.5 181,-227.5 181,-233.5 175,-239.5 169,-239.5\"/>\n",
              "<text text-anchor=\"start\" x=\"8\" y=\"-224.3\" font-family=\"Helvetica,sans-Serif\" font-size=\"14.00\">squared_error = 14315.645</text>\n",
              "<text text-anchor=\"start\" x=\"49.5\" y=\"-209.3\" font-family=\"Helvetica,sans-Serif\" font-size=\"14.00\">samples = 14</text>\n",
              "<text text-anchor=\"start\" x=\"43.5\" y=\"-194.3\" font-family=\"Helvetica,sans-Serif\" font-size=\"14.00\">value = [[4.643]</text>\n",
              "<text text-anchor=\"start\" x=\"66\" y=\"-179.3\" font-family=\"Helvetica,sans-Serif\" font-size=\"14.00\">[43.714]</text>\n",
              "<text text-anchor=\"start\" x=\"62\" y=\"-164.3\" font-family=\"Helvetica,sans-Serif\" font-size=\"14.00\">[142.857]</text>\n",
              "<text text-anchor=\"start\" x=\"64\" y=\"-149.3\" font-family=\"Helvetica,sans-Serif\" font-size=\"14.00\">[18.786]]</text>\n",
              "</g>\n",
              "<!-- 3&#45;&gt;4 -->\n",
              "<g id=\"edge4\" class=\"edge\">\n",
              "<title>3&#45;&gt;4</title>\n",
              "<path fill=\"none\" stroke=\"black\" d=\"M209.29,-282.93C193.55,-270.81 176.91,-258 161.22,-245.93\"/>\n",
              "<polygon fill=\"black\" stroke=\"black\" points=\"163.18,-243.02 153.12,-239.69 158.91,-248.56 163.18,-243.02\"/>\n",
              "</g>\n",
              "<!-- 5 -->\n",
              "<g id=\"node6\" class=\"node\">\n",
              "<title>5</title>\n",
              "<path fill=\"#e58139\" stroke=\"black\" d=\"M353.5,-239.5C353.5,-239.5 211.5,-239.5 211.5,-239.5 205.5,-239.5 199.5,-233.5 199.5,-227.5 199.5,-227.5 199.5,-153.5 199.5,-153.5 199.5,-147.5 205.5,-141.5 211.5,-141.5 211.5,-141.5 353.5,-141.5 353.5,-141.5 359.5,-141.5 365.5,-147.5 365.5,-153.5 365.5,-153.5 365.5,-227.5 365.5,-227.5 365.5,-233.5 359.5,-239.5 353.5,-239.5\"/>\n",
              "<text text-anchor=\"start\" x=\"207.5\" y=\"-224.3\" font-family=\"Helvetica,sans-Serif\" font-size=\"14.00\">squared_error = 2103.82</text>\n",
              "<text text-anchor=\"start\" x=\"241.5\" y=\"-209.3\" font-family=\"Helvetica,sans-Serif\" font-size=\"14.00\">samples = 15</text>\n",
              "<text text-anchor=\"start\" x=\"235.5\" y=\"-194.3\" font-family=\"Helvetica,sans-Serif\" font-size=\"14.00\">value = [[2.933]</text>\n",
              "<text text-anchor=\"start\" x=\"258\" y=\"-179.3\" font-family=\"Helvetica,sans-Serif\" font-size=\"14.00\">[20.333]</text>\n",
              "<text text-anchor=\"start\" x=\"258\" y=\"-164.3\" font-family=\"Helvetica,sans-Serif\" font-size=\"14.00\">[63.333]</text>\n",
              "<text text-anchor=\"start\" x=\"267\" y=\"-149.3\" font-family=\"Helvetica,sans-Serif\" font-size=\"14.00\">[6.6]]</text>\n",
              "</g>\n",
              "<!-- 3&#45;&gt;5 -->\n",
              "<g id=\"edge5\" class=\"edge\">\n",
              "<title>3&#45;&gt;5</title>\n",
              "<path fill=\"none\" stroke=\"black\" d=\"M281.88,-282.93C281.95,-272.2 282.03,-260.94 282.1,-250.13\"/>\n",
              "<polygon fill=\"black\" stroke=\"black\" points=\"285.6,-249.95 282.17,-239.93 278.6,-249.91 285.6,-249.95\"/>\n",
              "</g>\n",
              "<!-- 7 -->\n",
              "<g id=\"node8\" class=\"node\">\n",
              "<title>7</title>\n",
              "<path fill=\"#e5833c\" stroke=\"black\" d=\"M554,-239.5C554,-239.5 397,-239.5 397,-239.5 391,-239.5 385,-233.5 385,-227.5 385,-227.5 385,-153.5 385,-153.5 385,-147.5 391,-141.5 397,-141.5 397,-141.5 554,-141.5 554,-141.5 560,-141.5 566,-147.5 566,-153.5 566,-153.5 566,-227.5 566,-227.5 566,-233.5 560,-239.5 554,-239.5\"/>\n",
              "<text text-anchor=\"start\" x=\"393\" y=\"-224.3\" font-family=\"Helvetica,sans-Serif\" font-size=\"14.00\">squared_error = 43830.697</text>\n",
              "<text text-anchor=\"start\" x=\"434.5\" y=\"-209.3\" font-family=\"Helvetica,sans-Serif\" font-size=\"14.00\">samples = 19</text>\n",
              "<text text-anchor=\"start\" x=\"428.5\" y=\"-194.3\" font-family=\"Helvetica,sans-Serif\" font-size=\"14.00\">value = [[9.053]</text>\n",
              "<text text-anchor=\"start\" x=\"451\" y=\"-179.3\" font-family=\"Helvetica,sans-Serif\" font-size=\"14.00\">[65.526]</text>\n",
              "<text text-anchor=\"start\" x=\"447\" y=\"-164.3\" font-family=\"Helvetica,sans-Serif\" font-size=\"14.00\">[160.211]</text>\n",
              "<text text-anchor=\"start\" x=\"449\" y=\"-149.3\" font-family=\"Helvetica,sans-Serif\" font-size=\"14.00\">[15.316]]</text>\n",
              "</g>\n",
              "<!-- 6&#45;&gt;7 -->\n",
              "<g id=\"edge7\" class=\"edge\">\n",
              "<title>6&#45;&gt;7</title>\n",
              "<path fill=\"none\" stroke=\"black\" d=\"M476.12,-282.93C476.05,-272.2 475.97,-260.94 475.9,-250.13\"/>\n",
              "<polygon fill=\"black\" stroke=\"black\" points=\"479.4,-249.91 475.83,-239.93 472.4,-249.95 479.4,-249.91\"/>\n",
              "</g>\n",
              "<!-- 8 -->\n",
              "<g id=\"node9\" class=\"node\">\n",
              "<title>8</title>\n",
              "<path fill=\"#e5823b\" stroke=\"black\" d=\"M753,-239.5C753,-239.5 596,-239.5 596,-239.5 590,-239.5 584,-233.5 584,-227.5 584,-227.5 584,-153.5 584,-153.5 584,-147.5 590,-141.5 596,-141.5 596,-141.5 753,-141.5 753,-141.5 759,-141.5 765,-147.5 765,-153.5 765,-153.5 765,-227.5 765,-227.5 765,-233.5 759,-239.5 753,-239.5\"/>\n",
              "<text text-anchor=\"start\" x=\"592\" y=\"-224.3\" font-family=\"Helvetica,sans-Serif\" font-size=\"14.00\">squared_error = 27774.399</text>\n",
              "<text text-anchor=\"start\" x=\"633.5\" y=\"-209.3\" font-family=\"Helvetica,sans-Serif\" font-size=\"14.00\">samples = 20</text>\n",
              "<text text-anchor=\"start\" x=\"631.5\" y=\"-194.3\" font-family=\"Helvetica,sans-Serif\" font-size=\"14.00\">value = [[6.25]</text>\n",
              "<text text-anchor=\"start\" x=\"657.5\" y=\"-179.3\" font-family=\"Helvetica,sans-Serif\" font-size=\"14.00\">[66.3]</text>\n",
              "<text text-anchor=\"start\" x=\"653.5\" y=\"-164.3\" font-family=\"Helvetica,sans-Serif\" font-size=\"14.00\">[187.7]</text>\n",
              "<text text-anchor=\"start\" x=\"655.5\" y=\"-149.3\" font-family=\"Helvetica,sans-Serif\" font-size=\"14.00\">[18.9]]</text>\n",
              "</g>\n",
              "<!-- 6&#45;&gt;8 -->\n",
              "<g id=\"edge8\" class=\"edge\">\n",
              "<title>6&#45;&gt;8</title>\n",
              "<path fill=\"none\" stroke=\"black\" d=\"M551.36,-282.93C567.68,-270.81 584.93,-258 601.19,-245.93\"/>\n",
              "<polygon fill=\"black\" stroke=\"black\" points=\"603.65,-248.46 609.59,-239.69 599.47,-242.84 603.65,-248.46\"/>\n",
              "</g>\n",
              "<!-- 11 -->\n",
              "<g id=\"node12\" class=\"node\">\n",
              "<title>11</title>\n",
              "<path fill=\"#f9e4d4\" stroke=\"black\" d=\"M970.5,-545C970.5,-545 798.5,-545 798.5,-545 792.5,-545 786.5,-539 786.5,-533 786.5,-533 786.5,-444 786.5,-444 786.5,-438 792.5,-432 798.5,-432 798.5,-432 970.5,-432 970.5,-432 976.5,-432 982.5,-438 982.5,-444 982.5,-444 982.5,-533 982.5,-533 982.5,-539 976.5,-545 970.5,-545\"/>\n",
              "<text text-anchor=\"start\" x=\"839.5\" y=\"-529.8\" font-family=\"Helvetica,sans-Serif\" font-size=\"14.00\">timezone ≤ 5.5</text>\n",
              "<text text-anchor=\"start\" x=\"794.5\" y=\"-514.8\" font-family=\"Helvetica,sans-Serif\" font-size=\"14.00\">squared_error = 2557870.001</text>\n",
              "<text text-anchor=\"start\" x=\"843.5\" y=\"-499.8\" font-family=\"Helvetica,sans-Serif\" font-size=\"14.00\">samples = 92</text>\n",
              "<text text-anchor=\"start\" x=\"834\" y=\"-484.8\" font-family=\"Helvetica,sans-Serif\" font-size=\"14.00\">value = [[11.109]</text>\n",
              "<text text-anchor=\"start\" x=\"863.5\" y=\"-469.8\" font-family=\"Helvetica,sans-Serif\" font-size=\"14.00\">[269.5]</text>\n",
              "<text text-anchor=\"start\" x=\"852.5\" y=\"-454.8\" font-family=\"Helvetica,sans-Serif\" font-size=\"14.00\">[1093.685]</text>\n",
              "<text text-anchor=\"start\" x=\"858\" y=\"-439.8\" font-family=\"Helvetica,sans-Serif\" font-size=\"14.00\">[79.761]]</text>\n",
              "</g>\n",
              "<!-- 10&#45;&gt;11 -->\n",
              "<g id=\"edge11\" class=\"edge\">\n",
              "<title>10&#45;&gt;11</title>\n",
              "<path fill=\"none\" stroke=\"black\" d=\"M884.5,-580.93C884.5,-572.51 884.5,-563.76 884.5,-555.16\"/>\n",
              "<polygon fill=\"black\" stroke=\"black\" points=\"888,-555.15 884.5,-545.15 881,-555.15 888,-555.15\"/>\n",
              "</g>\n",
              "<!-- 18 -->\n",
              "<g id=\"node19\" class=\"node\">\n",
              "<title>18</title>\n",
              "<path fill=\"#edaa79\" stroke=\"black\" d=\"M1185.5,-545C1185.5,-545 1013.5,-545 1013.5,-545 1007.5,-545 1001.5,-539 1001.5,-533 1001.5,-533 1001.5,-444 1001.5,-444 1001.5,-438 1007.5,-432 1013.5,-432 1013.5,-432 1185.5,-432 1185.5,-432 1191.5,-432 1197.5,-438 1197.5,-444 1197.5,-444 1197.5,-533 1197.5,-533 1197.5,-539 1191.5,-545 1185.5,-545\"/>\n",
              "<text text-anchor=\"start\" x=\"1054.5\" y=\"-529.8\" font-family=\"Helvetica,sans-Serif\" font-size=\"14.00\">timezone ≤ 9.5</text>\n",
              "<text text-anchor=\"start\" x=\"1009.5\" y=\"-514.8\" font-family=\"Helvetica,sans-Serif\" font-size=\"14.00\">squared_error = 1064184.113</text>\n",
              "<text text-anchor=\"start\" x=\"1058.5\" y=\"-499.8\" font-family=\"Helvetica,sans-Serif\" font-size=\"14.00\">samples = 65</text>\n",
              "<text text-anchor=\"start\" x=\"1052.5\" y=\"-484.8\" font-family=\"Helvetica,sans-Serif\" font-size=\"14.00\">value = [[9.462]</text>\n",
              "<text text-anchor=\"start\" x=\"1071\" y=\"-469.8\" font-family=\"Helvetica,sans-Serif\" font-size=\"14.00\">[176.431]</text>\n",
              "<text text-anchor=\"start\" x=\"1071\" y=\"-454.8\" font-family=\"Helvetica,sans-Serif\" font-size=\"14.00\">[682.508]</text>\n",
              "<text text-anchor=\"start\" x=\"1073\" y=\"-439.8\" font-family=\"Helvetica,sans-Serif\" font-size=\"14.00\">[55.831]]</text>\n",
              "</g>\n",
              "<!-- 10&#45;&gt;18 -->\n",
              "<g id=\"edge18\" class=\"edge\">\n",
              "<title>10&#45;&gt;18</title>\n",
              "<path fill=\"none\" stroke=\"black\" d=\"M965.78,-580.93C980.1,-571.14 995.07,-560.9 1009.6,-550.96\"/>\n",
              "<polygon fill=\"black\" stroke=\"black\" points=\"1011.82,-553.69 1018.1,-545.15 1007.87,-547.91 1011.82,-553.69\"/>\n",
              "</g>\n",
              "<!-- 12 -->\n",
              "<g id=\"node13\" class=\"node\">\n",
              "<title>12</title>\n",
              "<path fill=\"#f2c09c\" stroke=\"black\" d=\"M761.5,-388.5C761.5,-388.5 597.5,-388.5 597.5,-388.5 591.5,-388.5 585.5,-382.5 585.5,-376.5 585.5,-376.5 585.5,-302.5 585.5,-302.5 585.5,-296.5 591.5,-290.5 597.5,-290.5 597.5,-290.5 761.5,-290.5 761.5,-290.5 767.5,-290.5 773.5,-296.5 773.5,-302.5 773.5,-302.5 773.5,-376.5 773.5,-376.5 773.5,-382.5 767.5,-388.5 761.5,-388.5\"/>\n",
              "<text text-anchor=\"start\" x=\"593.5\" y=\"-373.3\" font-family=\"Helvetica,sans-Serif\" font-size=\"14.00\">squared_error = 1639174.09</text>\n",
              "<text text-anchor=\"start\" x=\"638.5\" y=\"-358.3\" font-family=\"Helvetica,sans-Serif\" font-size=\"14.00\">samples = 23</text>\n",
              "<text text-anchor=\"start\" x=\"636.5\" y=\"-343.3\" font-family=\"Helvetica,sans-Serif\" font-size=\"14.00\">value = [[12.0]</text>\n",
              "<text text-anchor=\"start\" x=\"651\" y=\"-328.3\" font-family=\"Helvetica,sans-Serif\" font-size=\"14.00\">[238.174]</text>\n",
              "<text text-anchor=\"start\" x=\"651\" y=\"-313.3\" font-family=\"Helvetica,sans-Serif\" font-size=\"14.00\">[918.522]</text>\n",
              "<text text-anchor=\"start\" x=\"653\" y=\"-298.3\" font-family=\"Helvetica,sans-Serif\" font-size=\"14.00\">[67.348]]</text>\n",
              "</g>\n",
              "<!-- 11&#45;&gt;12 -->\n",
              "<g id=\"edge12\" class=\"edge\">\n",
              "<title>11&#45;&gt;12</title>\n",
              "<path fill=\"none\" stroke=\"black\" d=\"M807,-431.93C789.95,-419.7 771.91,-406.77 754.94,-394.6\"/>\n",
              "<polygon fill=\"black\" stroke=\"black\" points=\"756.87,-391.68 746.71,-388.69 752.79,-397.36 756.87,-391.68\"/>\n",
              "</g>\n",
              "<!-- 13 -->\n",
              "<g id=\"node14\" class=\"node\">\n",
              "<title>13</title>\n",
              "<path fill=\"#fcefe6\" stroke=\"black\" d=\"M975.5,-396C975.5,-396 803.5,-396 803.5,-396 797.5,-396 791.5,-390 791.5,-384 791.5,-384 791.5,-295 791.5,-295 791.5,-289 797.5,-283 803.5,-283 803.5,-283 975.5,-283 975.5,-283 981.5,-283 987.5,-289 987.5,-295 987.5,-295 987.5,-384 987.5,-384 987.5,-390 981.5,-396 975.5,-396\"/>\n",
              "<text text-anchor=\"start\" x=\"844.5\" y=\"-380.8\" font-family=\"Helvetica,sans-Serif\" font-size=\"14.00\">timezone ≤ 7.5</text>\n",
              "<text text-anchor=\"start\" x=\"799.5\" y=\"-365.8\" font-family=\"Helvetica,sans-Serif\" font-size=\"14.00\">squared_error = 2860566.606</text>\n",
              "<text text-anchor=\"start\" x=\"848.5\" y=\"-350.8\" font-family=\"Helvetica,sans-Serif\" font-size=\"14.00\">samples = 69</text>\n",
              "<text text-anchor=\"start\" x=\"839\" y=\"-335.8\" font-family=\"Helvetica,sans-Serif\" font-size=\"14.00\">value = [[10.812]</text>\n",
              "<text text-anchor=\"start\" x=\"861\" y=\"-320.8\" font-family=\"Helvetica,sans-Serif\" font-size=\"14.00\">[279.942]</text>\n",
              "<text text-anchor=\"start\" x=\"857.5\" y=\"-305.8\" font-family=\"Helvetica,sans-Serif\" font-size=\"14.00\">[1152.072]</text>\n",
              "<text text-anchor=\"start\" x=\"863\" y=\"-290.8\" font-family=\"Helvetica,sans-Serif\" font-size=\"14.00\">[83.899]]</text>\n",
              "</g>\n",
              "<!-- 11&#45;&gt;13 -->\n",
              "<g id=\"edge13\" class=\"edge\">\n",
              "<title>11&#45;&gt;13</title>\n",
              "<path fill=\"none\" stroke=\"black\" d=\"M886.39,-431.93C886.68,-423.51 886.97,-414.76 887.27,-406.16\"/>\n",
              "<polygon fill=\"black\" stroke=\"black\" points=\"890.76,-406.27 887.61,-396.15 883.77,-406.03 890.76,-406.27\"/>\n",
              "</g>\n",
              "<!-- 14 -->\n",
              "<g id=\"node15\" class=\"node\">\n",
              "<title>14</title>\n",
              "<path fill=\"#fae6d8\" stroke=\"black\" d=\"M967.5,-247C967.5,-247 795.5,-247 795.5,-247 789.5,-247 783.5,-241 783.5,-235 783.5,-235 783.5,-146 783.5,-146 783.5,-140 789.5,-134 795.5,-134 795.5,-134 967.5,-134 967.5,-134 973.5,-134 979.5,-140 979.5,-146 979.5,-146 979.5,-235 979.5,-235 979.5,-241 973.5,-247 967.5,-247\"/>\n",
              "<text text-anchor=\"start\" x=\"836.5\" y=\"-231.8\" font-family=\"Helvetica,sans-Serif\" font-size=\"14.00\">timezone ≤ 6.5</text>\n",
              "<text text-anchor=\"start\" x=\"791.5\" y=\"-216.8\" font-family=\"Helvetica,sans-Serif\" font-size=\"14.00\">squared_error = 2627644.346</text>\n",
              "<text text-anchor=\"start\" x=\"840.5\" y=\"-201.8\" font-family=\"Helvetica,sans-Serif\" font-size=\"14.00\">samples = 44</text>\n",
              "<text text-anchor=\"start\" x=\"831\" y=\"-186.8\" font-family=\"Helvetica,sans-Serif\" font-size=\"14.00\">value = [[11.318]</text>\n",
              "<text text-anchor=\"start\" x=\"853\" y=\"-171.8\" font-family=\"Helvetica,sans-Serif\" font-size=\"14.00\">[280.341]</text>\n",
              "<text text-anchor=\"start\" x=\"849.5\" y=\"-156.8\" font-family=\"Helvetica,sans-Serif\" font-size=\"14.00\">[1111.477]</text>\n",
              "<text text-anchor=\"start\" x=\"855\" y=\"-141.8\" font-family=\"Helvetica,sans-Serif\" font-size=\"14.00\">[78.886]]</text>\n",
              "</g>\n",
              "<!-- 13&#45;&gt;14 -->\n",
              "<g id=\"edge14\" class=\"edge\">\n",
              "<title>13&#45;&gt;14</title>\n",
              "<path fill=\"none\" stroke=\"black\" d=\"M886.48,-282.93C886.02,-274.51 885.54,-265.76 885.07,-257.16\"/>\n",
              "<polygon fill=\"black\" stroke=\"black\" points=\"888.57,-256.95 884.53,-247.15 881.58,-257.33 888.57,-256.95\"/>\n",
              "</g>\n",
              "<!-- 17 -->\n",
              "<g id=\"node18\" class=\"node\">\n",
              "<title>17</title>\n",
              "<path fill=\"#ffffff\" stroke=\"black\" d=\"M1181.5,-239.5C1181.5,-239.5 1009.5,-239.5 1009.5,-239.5 1003.5,-239.5 997.5,-233.5 997.5,-227.5 997.5,-227.5 997.5,-153.5 997.5,-153.5 997.5,-147.5 1003.5,-141.5 1009.5,-141.5 1009.5,-141.5 1181.5,-141.5 1181.5,-141.5 1187.5,-141.5 1193.5,-147.5 1193.5,-153.5 1193.5,-153.5 1193.5,-227.5 1193.5,-227.5 1193.5,-233.5 1187.5,-239.5 1181.5,-239.5\"/>\n",
              "<text text-anchor=\"start\" x=\"1005.5\" y=\"-224.3\" font-family=\"Helvetica,sans-Serif\" font-size=\"14.00\">squared_error = 3268477.477</text>\n",
              "<text text-anchor=\"start\" x=\"1054.5\" y=\"-209.3\" font-family=\"Helvetica,sans-Serif\" font-size=\"14.00\">samples = 25</text>\n",
              "<text text-anchor=\"start\" x=\"1052.5\" y=\"-194.3\" font-family=\"Helvetica,sans-Serif\" font-size=\"14.00\">value = [[9.92]</text>\n",
              "<text text-anchor=\"start\" x=\"1071\" y=\"-179.3\" font-family=\"Helvetica,sans-Serif\" font-size=\"14.00\">[279.24]</text>\n",
              "<text text-anchor=\"start\" x=\"1067\" y=\"-164.3\" font-family=\"Helvetica,sans-Serif\" font-size=\"14.00\">[1223.52]</text>\n",
              "<text text-anchor=\"start\" x=\"1072.5\" y=\"-149.3\" font-family=\"Helvetica,sans-Serif\" font-size=\"14.00\">[92.72]]</text>\n",
              "</g>\n",
              "<!-- 13&#45;&gt;17 -->\n",
              "<g id=\"edge17\" class=\"edge\">\n",
              "<title>13&#45;&gt;17</title>\n",
              "<path fill=\"none\" stroke=\"black\" d=\"M967.38,-282.93C984.51,-270.7 1002.64,-257.77 1019.69,-245.6\"/>\n",
              "<polygon fill=\"black\" stroke=\"black\" points=\"1021.86,-248.35 1027.97,-239.69 1017.79,-242.65 1021.86,-248.35\"/>\n",
              "</g>\n",
              "<!-- 15 -->\n",
              "<g id=\"node16\" class=\"node\">\n",
              "<title>15</title>\n",
              "<path fill=\"#f9e3d2\" stroke=\"black\" d=\"M860.5,-98C860.5,-98 688.5,-98 688.5,-98 682.5,-98 676.5,-92 676.5,-86 676.5,-86 676.5,-12 676.5,-12 676.5,-6 682.5,0 688.5,0 688.5,0 860.5,0 860.5,0 866.5,0 872.5,-6 872.5,-12 872.5,-12 872.5,-86 872.5,-86 872.5,-92 866.5,-98 860.5,-98\"/>\n",
              "<text text-anchor=\"start\" x=\"684.5\" y=\"-82.8\" font-family=\"Helvetica,sans-Serif\" font-size=\"14.00\">squared_error = 2529726.892</text>\n",
              "<text text-anchor=\"start\" x=\"733.5\" y=\"-67.8\" font-family=\"Helvetica,sans-Serif\" font-size=\"14.00\">samples = 21</text>\n",
              "<text text-anchor=\"start\" x=\"724\" y=\"-52.8\" font-family=\"Helvetica,sans-Serif\" font-size=\"14.00\">value = [[12.857]</text>\n",
              "<text text-anchor=\"start\" x=\"753.5\" y=\"-37.8\" font-family=\"Helvetica,sans-Serif\" font-size=\"14.00\">[305.0]</text>\n",
              "<text text-anchor=\"start\" x=\"746\" y=\"-22.8\" font-family=\"Helvetica,sans-Serif\" font-size=\"14.00\">[1163.19]</text>\n",
              "<text text-anchor=\"start\" x=\"748\" y=\"-7.8\" font-family=\"Helvetica,sans-Serif\" font-size=\"14.00\">[89.571]]</text>\n",
              "</g>\n",
              "<!-- 14&#45;&gt;15 -->\n",
              "<g id=\"edge15\" class=\"edge\">\n",
              "<title>14&#45;&gt;15</title>\n",
              "<path fill=\"none\" stroke=\"black\" d=\"M838.9,-133.97C831.87,-124.8 824.58,-115.29 817.54,-106.11\"/>\n",
              "<polygon fill=\"black\" stroke=\"black\" points=\"820.29,-103.94 811.42,-98.14 814.73,-108.2 820.29,-103.94\"/>\n",
              "</g>\n",
              "<!-- 16 -->\n",
              "<g id=\"node17\" class=\"node\">\n",
              "<title>16</title>\n",
              "<path fill=\"#fbeadd\" stroke=\"black\" d=\"M1074.5,-98C1074.5,-98 902.5,-98 902.5,-98 896.5,-98 890.5,-92 890.5,-86 890.5,-86 890.5,-12 890.5,-12 890.5,-6 896.5,0 902.5,0 902.5,0 1074.5,0 1074.5,0 1080.5,0 1086.5,-6 1086.5,-12 1086.5,-12 1086.5,-86 1086.5,-86 1086.5,-92 1080.5,-98 1074.5,-98\"/>\n",
              "<text text-anchor=\"start\" x=\"898.5\" y=\"-82.8\" font-family=\"Helvetica,sans-Serif\" font-size=\"14.00\">squared_error = 2715563.045</text>\n",
              "<text text-anchor=\"start\" x=\"947.5\" y=\"-67.8\" font-family=\"Helvetica,sans-Serif\" font-size=\"14.00\">samples = 23</text>\n",
              "<text text-anchor=\"start\" x=\"941.5\" y=\"-52.8\" font-family=\"Helvetica,sans-Serif\" font-size=\"14.00\">value = [[9.913]</text>\n",
              "<text text-anchor=\"start\" x=\"960\" y=\"-37.8\" font-family=\"Helvetica,sans-Serif\" font-size=\"14.00\">[257.826]</text>\n",
              "<text text-anchor=\"start\" x=\"956.5\" y=\"-22.8\" font-family=\"Helvetica,sans-Serif\" font-size=\"14.00\">[1064.261]</text>\n",
              "<text text-anchor=\"start\" x=\"965.5\" y=\"-7.8\" font-family=\"Helvetica,sans-Serif\" font-size=\"14.00\">[69.13]]</text>\n",
              "</g>\n",
              "<!-- 14&#45;&gt;16 -->\n",
              "<g id=\"edge16\" class=\"edge\">\n",
              "<title>14&#45;&gt;16</title>\n",
              "<path fill=\"none\" stroke=\"black\" d=\"M924.1,-133.97C931.13,-124.8 938.42,-115.29 945.46,-106.11\"/>\n",
              "<polygon fill=\"black\" stroke=\"black\" points=\"948.27,-108.2 951.58,-98.14 942.71,-103.94 948.27,-108.2\"/>\n",
              "</g>\n",
              "<!-- 19 -->\n",
              "<g id=\"node20\" class=\"node\">\n",
              "<title>19</title>\n",
              "<path fill=\"#e78844\" stroke=\"black\" d=\"M1181.5,-388.5C1181.5,-388.5 1017.5,-388.5 1017.5,-388.5 1011.5,-388.5 1005.5,-382.5 1005.5,-376.5 1005.5,-376.5 1005.5,-302.5 1005.5,-302.5 1005.5,-296.5 1011.5,-290.5 1017.5,-290.5 1017.5,-290.5 1181.5,-290.5 1181.5,-290.5 1187.5,-290.5 1193.5,-296.5 1193.5,-302.5 1193.5,-302.5 1193.5,-376.5 1193.5,-376.5 1193.5,-382.5 1187.5,-388.5 1181.5,-388.5\"/>\n",
              "<text text-anchor=\"start\" x=\"1013.5\" y=\"-373.3\" font-family=\"Helvetica,sans-Serif\" font-size=\"14.00\">squared_error = 191794.948</text>\n",
              "<text text-anchor=\"start\" x=\"1058.5\" y=\"-358.3\" font-family=\"Helvetica,sans-Serif\" font-size=\"14.00\">samples = 18</text>\n",
              "<text text-anchor=\"start\" x=\"1052.5\" y=\"-343.3\" font-family=\"Helvetica,sans-Serif\" font-size=\"14.00\">value = [[7.778]</text>\n",
              "<text text-anchor=\"start\" x=\"1071\" y=\"-328.3\" font-family=\"Helvetica,sans-Serif\" font-size=\"14.00\">[144.778]</text>\n",
              "<text text-anchor=\"start\" x=\"1071\" y=\"-313.3\" font-family=\"Helvetica,sans-Serif\" font-size=\"14.00\">[485.278]</text>\n",
              "<text text-anchor=\"start\" x=\"1073\" y=\"-298.3\" font-family=\"Helvetica,sans-Serif\" font-size=\"14.00\">[55.444]]</text>\n",
              "</g>\n",
              "<!-- 18&#45;&gt;19 -->\n",
              "<g id=\"edge19\" class=\"edge\">\n",
              "<title>18&#45;&gt;19</title>\n",
              "<path fill=\"none\" stroke=\"black\" d=\"M1099.5,-431.93C1099.5,-421.2 1099.5,-409.94 1099.5,-399.13\"/>\n",
              "<polygon fill=\"black\" stroke=\"black\" points=\"1103,-398.93 1099.5,-388.93 1096,-398.93 1103,-398.93\"/>\n",
              "</g>\n",
              "<!-- 20 -->\n",
              "<g id=\"node21\" class=\"node\">\n",
              "<title>20</title>\n",
              "<path fill=\"#f0b78d\" stroke=\"black\" d=\"M1395.5,-396C1395.5,-396 1223.5,-396 1223.5,-396 1217.5,-396 1211.5,-390 1211.5,-384 1211.5,-384 1211.5,-295 1211.5,-295 1211.5,-289 1217.5,-283 1223.5,-283 1223.5,-283 1395.5,-283 1395.5,-283 1401.5,-283 1407.5,-289 1407.5,-295 1407.5,-295 1407.5,-384 1407.5,-384 1407.5,-390 1401.5,-396 1395.5,-396\"/>\n",
              "<text text-anchor=\"start\" x=\"1261\" y=\"-380.8\" font-family=\"Helvetica,sans-Serif\" font-size=\"14.00\">timezone ≤ 10.5</text>\n",
              "<text text-anchor=\"start\" x=\"1219.5\" y=\"-365.8\" font-family=\"Helvetica,sans-Serif\" font-size=\"14.00\">squared_error = 1393006.729</text>\n",
              "<text text-anchor=\"start\" x=\"1268.5\" y=\"-350.8\" font-family=\"Helvetica,sans-Serif\" font-size=\"14.00\">samples = 47</text>\n",
              "<text text-anchor=\"start\" x=\"1259\" y=\"-335.8\" font-family=\"Helvetica,sans-Serif\" font-size=\"14.00\">value = [[10.106]</text>\n",
              "<text text-anchor=\"start\" x=\"1281\" y=\"-320.8\" font-family=\"Helvetica,sans-Serif\" font-size=\"14.00\">[188.553]</text>\n",
              "<text text-anchor=\"start\" x=\"1281\" y=\"-305.8\" font-family=\"Helvetica,sans-Serif\" font-size=\"14.00\">[758.043]</text>\n",
              "<text text-anchor=\"start\" x=\"1283\" y=\"-290.8\" font-family=\"Helvetica,sans-Serif\" font-size=\"14.00\">[55.979]]</text>\n",
              "</g>\n",
              "<!-- 18&#45;&gt;20 -->\n",
              "<g id=\"edge20\" class=\"edge\">\n",
              "<title>18&#45;&gt;20</title>\n",
              "<path fill=\"none\" stroke=\"black\" d=\"M1178.89,-431.93C1192.87,-422.14 1207.5,-411.9 1221.7,-401.96\"/>\n",
              "<polygon fill=\"black\" stroke=\"black\" points=\"1223.81,-404.75 1230,-396.15 1219.8,-399.02 1223.81,-404.75\"/>\n",
              "</g>\n",
              "<!-- 21 -->\n",
              "<g id=\"node22\" class=\"node\">\n",
              "<title>21</title>\n",
              "<path fill=\"#f3c3a0\" stroke=\"black\" d=\"M1395.5,-239.5C1395.5,-239.5 1223.5,-239.5 1223.5,-239.5 1217.5,-239.5 1211.5,-233.5 1211.5,-227.5 1211.5,-227.5 1211.5,-153.5 1211.5,-153.5 1211.5,-147.5 1217.5,-141.5 1223.5,-141.5 1223.5,-141.5 1395.5,-141.5 1395.5,-141.5 1401.5,-141.5 1407.5,-147.5 1407.5,-153.5 1407.5,-153.5 1407.5,-227.5 1407.5,-227.5 1407.5,-233.5 1401.5,-239.5 1395.5,-239.5\"/>\n",
              "<text text-anchor=\"start\" x=\"1219.5\" y=\"-224.3\" font-family=\"Helvetica,sans-Serif\" font-size=\"14.00\">squared_error = 1708975.054</text>\n",
              "<text text-anchor=\"start\" x=\"1268.5\" y=\"-209.3\" font-family=\"Helvetica,sans-Serif\" font-size=\"14.00\">samples = 25</text>\n",
              "<text text-anchor=\"start\" x=\"1262.5\" y=\"-194.3\" font-family=\"Helvetica,sans-Serif\" font-size=\"14.00\">value = [[10.72]</text>\n",
              "<text text-anchor=\"start\" x=\"1285\" y=\"-179.3\" font-family=\"Helvetica,sans-Serif\" font-size=\"14.00\">[218.12]</text>\n",
              "<text text-anchor=\"start\" x=\"1285\" y=\"-164.3\" font-family=\"Helvetica,sans-Serif\" font-size=\"14.00\">[867.64]</text>\n",
              "<text text-anchor=\"start\" x=\"1290.5\" y=\"-149.3\" font-family=\"Helvetica,sans-Serif\" font-size=\"14.00\">[61.8]]</text>\n",
              "</g>\n",
              "<!-- 20&#45;&gt;21 -->\n",
              "<g id=\"edge21\" class=\"edge\">\n",
              "<title>20&#45;&gt;21</title>\n",
              "<path fill=\"none\" stroke=\"black\" d=\"M1309.5,-282.93C1309.5,-272.2 1309.5,-260.94 1309.5,-250.13\"/>\n",
              "<polygon fill=\"black\" stroke=\"black\" points=\"1313,-249.93 1309.5,-239.93 1306,-249.93 1313,-249.93\"/>\n",
              "</g>\n",
              "<!-- 22 -->\n",
              "<g id=\"node23\" class=\"node\">\n",
              "<title>22</title>\n",
              "<path fill=\"#eda977\" stroke=\"black\" d=\"M1609.5,-239.5C1609.5,-239.5 1437.5,-239.5 1437.5,-239.5 1431.5,-239.5 1425.5,-233.5 1425.5,-227.5 1425.5,-227.5 1425.5,-153.5 1425.5,-153.5 1425.5,-147.5 1431.5,-141.5 1437.5,-141.5 1437.5,-141.5 1609.5,-141.5 1609.5,-141.5 1615.5,-141.5 1621.5,-147.5 1621.5,-153.5 1621.5,-153.5 1621.5,-227.5 1621.5,-227.5 1621.5,-233.5 1615.5,-239.5 1609.5,-239.5\"/>\n",
              "<text text-anchor=\"start\" x=\"1433.5\" y=\"-224.3\" font-family=\"Helvetica,sans-Serif\" font-size=\"14.00\">squared_error = 1026110.351</text>\n",
              "<text text-anchor=\"start\" x=\"1482.5\" y=\"-209.3\" font-family=\"Helvetica,sans-Serif\" font-size=\"14.00\">samples = 22</text>\n",
              "<text text-anchor=\"start\" x=\"1476.5\" y=\"-194.3\" font-family=\"Helvetica,sans-Serif\" font-size=\"14.00\">value = [[9.409]</text>\n",
              "<text text-anchor=\"start\" x=\"1495\" y=\"-179.3\" font-family=\"Helvetica,sans-Serif\" font-size=\"14.00\">[154.955]</text>\n",
              "<text text-anchor=\"start\" x=\"1502.5\" y=\"-164.3\" font-family=\"Helvetica,sans-Serif\" font-size=\"14.00\">[633.5]</text>\n",
              "<text text-anchor=\"start\" x=\"1497\" y=\"-149.3\" font-family=\"Helvetica,sans-Serif\" font-size=\"14.00\">[49.364]]</text>\n",
              "</g>\n",
              "<!-- 20&#45;&gt;22 -->\n",
              "<g id=\"edge22\" class=\"edge\">\n",
              "<title>20&#45;&gt;22</title>\n",
              "<path fill=\"none\" stroke=\"black\" d=\"M1390.4,-282.93C1408.2,-270.7 1427.03,-257.77 1444.75,-245.6\"/>\n",
              "<polygon fill=\"black\" stroke=\"black\" points=\"1447.08,-248.24 1453.34,-239.69 1443.12,-242.47 1447.08,-248.24\"/>\n",
              "</g>\n",
              "</g>\n",
              "</svg>\n"
            ],
            "text/plain": [
              "<graphviz.sources.Source at 0x7b622780cbe0>"
            ]
          },
          "execution_count": 240,
          "metadata": {},
          "output_type": "execute_result"
        }
      ],
      "source": [
        "# 의사결정트리를 dot 형식의 텍스트로 변환\n",
        "dot_data_regression = export_graphviz(regression_model, out_file=None, feature_names=features.columns, filled=True, rounded=True, special_characters=True)\n",
        "\n",
        "# dot 형식을 그래프로 변환\n",
        "graph_regression = graphviz.Source(dot_data_regression)\n",
        "graph_regression"
      ]
    },
    {
      "cell_type": "markdown",
      "metadata": {
        "id": "512ZuXXxe_8b"
      },
      "source": [
        "3. 로지스틱 회귀"
      ]
    },
    {
      "cell_type": "code",
      "execution_count": 241,
      "metadata": {
        "id": "Oe-R7llsgbMS"
      },
      "outputs": [],
      "source": [
        "# 'number of accidents'를 기반으로 다양한 규모의 사고에 대한 클래스 생성, 사고x 경미, 중형, 대형, 특대형사고\n",
        "data_set['Accident_Class'] = pd.cut(data_set['number of accidents'], bins=[-1, 0, 5, 10, 100, float('inf')],\n",
        "                                    labels=['No Accident', 'Small', 'Medium', 'Large', 'Very Large'])"
      ]
    },
    {
      "cell_type": "code",
      "execution_count": 242,
      "metadata": {
        "id": "3aXBLm4me-Z3"
      },
      "outputs": [],
      "source": [
        "# 필요한 열 선택\n",
        "features = data_set[['number of death', 'number of slanderers', 'number of casualties', 'number of reported injuries']]\n",
        "\n",
        "# 목표 변수 설정\n",
        "target = data_set['Accident_Class']"
      ]
    },
    {
      "cell_type": "code",
      "execution_count": 243,
      "metadata": {
        "colab": {
          "base_uri": "https://localhost:8080/",
          "height": 242
        },
        "id": "HfG4mn2yfV_2",
        "outputId": "6b433dfd-3dce-47bf-f6ee-e7de72c382fd"
      },
      "outputs": [
        {
          "name": "stderr",
          "output_type": "stream",
          "text": [
            "/usr/local/lib/python3.10/dist-packages/sklearn/linear_model/_logistic.py:458: ConvergenceWarning: lbfgs failed to converge (status=1):\n",
            "STOP: TOTAL NO. of ITERATIONS REACHED LIMIT.\n",
            "\n",
            "Increase the number of iterations (max_iter) or scale the data as shown in:\n",
            "    https://scikit-learn.org/stable/modules/preprocessing.html\n",
            "Please also refer to the documentation for alternative solver options:\n",
            "    https://scikit-learn.org/stable/modules/linear_model.html#logistic-regression\n",
            "  n_iter_i = _check_optimize_result(\n"
          ]
        },
        {
          "data": {
            "text/html": [
              "<style>#sk-container-id-24 {color: black;background-color: white;}#sk-container-id-24 pre{padding: 0;}#sk-container-id-24 div.sk-toggleable {background-color: white;}#sk-container-id-24 label.sk-toggleable__label {cursor: pointer;display: block;width: 100%;margin-bottom: 0;padding: 0.3em;box-sizing: border-box;text-align: center;}#sk-container-id-24 label.sk-toggleable__label-arrow:before {content: \"▸\";float: left;margin-right: 0.25em;color: #696969;}#sk-container-id-24 label.sk-toggleable__label-arrow:hover:before {color: black;}#sk-container-id-24 div.sk-estimator:hover label.sk-toggleable__label-arrow:before {color: black;}#sk-container-id-24 div.sk-toggleable__content {max-height: 0;max-width: 0;overflow: hidden;text-align: left;background-color: #f0f8ff;}#sk-container-id-24 div.sk-toggleable__content pre {margin: 0.2em;color: black;border-radius: 0.25em;background-color: #f0f8ff;}#sk-container-id-24 input.sk-toggleable__control:checked~div.sk-toggleable__content {max-height: 200px;max-width: 100%;overflow: auto;}#sk-container-id-24 input.sk-toggleable__control:checked~label.sk-toggleable__label-arrow:before {content: \"▾\";}#sk-container-id-24 div.sk-estimator input.sk-toggleable__control:checked~label.sk-toggleable__label {background-color: #d4ebff;}#sk-container-id-24 div.sk-label input.sk-toggleable__control:checked~label.sk-toggleable__label {background-color: #d4ebff;}#sk-container-id-24 input.sk-hidden--visually {border: 0;clip: rect(1px 1px 1px 1px);clip: rect(1px, 1px, 1px, 1px);height: 1px;margin: -1px;overflow: hidden;padding: 0;position: absolute;width: 1px;}#sk-container-id-24 div.sk-estimator {font-family: monospace;background-color: #f0f8ff;border: 1px dotted black;border-radius: 0.25em;box-sizing: border-box;margin-bottom: 0.5em;}#sk-container-id-24 div.sk-estimator:hover {background-color: #d4ebff;}#sk-container-id-24 div.sk-parallel-item::after {content: \"\";width: 100%;border-bottom: 1px solid gray;flex-grow: 1;}#sk-container-id-24 div.sk-label:hover label.sk-toggleable__label {background-color: #d4ebff;}#sk-container-id-24 div.sk-serial::before {content: \"\";position: absolute;border-left: 1px solid gray;box-sizing: border-box;top: 0;bottom: 0;left: 50%;z-index: 0;}#sk-container-id-24 div.sk-serial {display: flex;flex-direction: column;align-items: center;background-color: white;padding-right: 0.2em;padding-left: 0.2em;position: relative;}#sk-container-id-24 div.sk-item {position: relative;z-index: 1;}#sk-container-id-24 div.sk-parallel {display: flex;align-items: stretch;justify-content: center;background-color: white;position: relative;}#sk-container-id-24 div.sk-item::before, #sk-container-id-24 div.sk-parallel-item::before {content: \"\";position: absolute;border-left: 1px solid gray;box-sizing: border-box;top: 0;bottom: 0;left: 50%;z-index: -1;}#sk-container-id-24 div.sk-parallel-item {display: flex;flex-direction: column;z-index: 1;position: relative;background-color: white;}#sk-container-id-24 div.sk-parallel-item:first-child::after {align-self: flex-end;width: 50%;}#sk-container-id-24 div.sk-parallel-item:last-child::after {align-self: flex-start;width: 50%;}#sk-container-id-24 div.sk-parallel-item:only-child::after {width: 0;}#sk-container-id-24 div.sk-dashed-wrapped {border: 1px dashed gray;margin: 0 0.4em 0.5em 0.4em;box-sizing: border-box;padding-bottom: 0.4em;background-color: white;}#sk-container-id-24 div.sk-label label {font-family: monospace;font-weight: bold;display: inline-block;line-height: 1.2em;}#sk-container-id-24 div.sk-label-container {text-align: center;}#sk-container-id-24 div.sk-container {/* jupyter's `normalize.less` sets `[hidden] { display: none; }` but bootstrap.min.css set `[hidden] { display: none !important; }` so we also need the `!important` here to be able to override the default hidden behavior on the sphinx rendered scikit-learn.org. See: https://github.com/scikit-learn/scikit-learn/issues/21755 */display: inline-block !important;position: relative;}#sk-container-id-24 div.sk-text-repr-fallback {display: none;}</style><div id=\"sk-container-id-24\" class=\"sk-top-container\"><div class=\"sk-text-repr-fallback\"><pre>LogisticRegression()</pre><b>In a Jupyter environment, please rerun this cell to show the HTML representation or trust the notebook. <br />On GitHub, the HTML representation is unable to render, please try loading this page with nbviewer.org.</b></div><div class=\"sk-container\" hidden><div class=\"sk-item\"><div class=\"sk-estimator sk-toggleable\"><input class=\"sk-toggleable__control sk-hidden--visually\" id=\"sk-estimator-id-24\" type=\"checkbox\" checked><label for=\"sk-estimator-id-24\" class=\"sk-toggleable__label sk-toggleable__label-arrow\">LogisticRegression</label><div class=\"sk-toggleable__content\"><pre>LogisticRegression()</pre></div></div></div></div></div>"
            ],
            "text/plain": [
              "LogisticRegression()"
            ]
          },
          "execution_count": 243,
          "metadata": {},
          "output_type": "execute_result"
        }
      ],
      "source": [
        "# 훈련 데이터와 테스트 데이터로 나누기\n",
        "X_train, X_test, y_train, y_test = train_test_split(features, target, test_size=0.2, random_state=42)\n",
        "\n",
        "# 로지스틱 회귀 모델 생성 및 훈련\n",
        "logistic_model = LogisticRegression()\n",
        "logistic_model.fit(X_train, y_train)\n"
      ]
    },
    {
      "cell_type": "code",
      "execution_count": 244,
      "metadata": {
        "colab": {
          "base_uri": "https://localhost:8080/"
        },
        "id": "IIdvhkr_fWWv",
        "outputId": "7e31de3e-1af2-4d68-dd4b-38bf9decbb5c"
      },
      "outputs": [
        {
          "name": "stdout",
          "output_type": "stream",
          "text": [
            "Accuracy: 0.9516129032258065\n"
          ]
        }
      ],
      "source": [
        " #테스트 데이터로 성능 평가\n",
        "y_pred_logistic = logistic_model.predict(X_test)\n",
        "accuracy_logistic = accuracy_score(y_test, y_pred_logistic)\n",
        "print(f\"Accuracy: {accuracy_logistic}\")"
      ]
    },
    {
      "cell_type": "code",
      "execution_count": 245,
      "metadata": {
        "colab": {
          "base_uri": "https://localhost:8080/",
          "height": 661
        },
        "id": "YOeRfKFjgQwl",
        "outputId": "c46e0a09-5691-4380-bbd7-f786412231ee"
      },
      "outputs": [
        {
          "data": {
            "image/png": "[encoded data removed]",
            "text/plain": [
              "<Figure size 800x800 with 2 Axes>"
            ]
          },
          "metadata": {},
          "output_type": "display_data"
        }
      ],
      "source": [
        "# 혼동 행렬 생성\n",
        "conf_matrix = confusion_matrix(y_test, y_pred_logistic)\n",
        "\n",
        "# seaborn을 사용하여 시각화\n",
        "plt.figure(figsize=(8, 8))\n",
        "sns.heatmap(conf_matrix, annot=True, fmt=\"d\", cmap=\"Blues\", linewidths=.5, square=True)\n",
        "plt.title('Confusion Matrix')\n",
        "plt.xlabel('Predicted')\n",
        "plt.ylabel('Actual')\n",
        "plt.show()"
      ]
    },
    {
      "cell_type": "markdown",
      "metadata": {
        "id": "6_J3cWAih7rj"
      },
      "source": [
        "4. 사고 발생 횟수 및 사상자 수에 따른 차종 예측"
      ]
    },
    {
      "cell_type": "code",
      "execution_count": 246,
      "metadata": {
        "id": "gNh5ntGJhx7H"
      },
      "outputs": [],
      "source": [
        "# 필요한 열 선택\n",
        "features = data_set[['number of accidents', 'number of death', 'number of slanderers', 'number of casualties', 'number of reported injuries']]\n",
        "\n",
        "# 목표 변수: 차종\n",
        "target = data_set['Perpetrator vehicle use']"
      ]
    },
    {
      "cell_type": "code",
      "execution_count": 247,
      "metadata": {
        "colab": {
          "base_uri": "https://localhost:8080/",
          "height": 75
        },
        "id": "2ufBnfZehyHl",
        "outputId": "b6735a0e-d665-4e93-832c-e5ef4b8fb4b8"
      },
      "outputs": [
        {
          "data": {
            "text/html": [
              "<style>#sk-container-id-25 {color: black;background-color: white;}#sk-container-id-25 pre{padding: 0;}#sk-container-id-25 div.sk-toggleable {background-color: white;}#sk-container-id-25 label.sk-toggleable__label {cursor: pointer;display: block;width: 100%;margin-bottom: 0;padding: 0.3em;box-sizing: border-box;text-align: center;}#sk-container-id-25 label.sk-toggleable__label-arrow:before {content: \"▸\";float: left;margin-right: 0.25em;color: #696969;}#sk-container-id-25 label.sk-toggleable__label-arrow:hover:before {color: black;}#sk-container-id-25 div.sk-estimator:hover label.sk-toggleable__label-arrow:before {color: black;}#sk-container-id-25 div.sk-toggleable__content {max-height: 0;max-width: 0;overflow: hidden;text-align: left;background-color: #f0f8ff;}#sk-container-id-25 div.sk-toggleable__content pre {margin: 0.2em;color: black;border-radius: 0.25em;background-color: #f0f8ff;}#sk-container-id-25 input.sk-toggleable__control:checked~div.sk-toggleable__content {max-height: 200px;max-width: 100%;overflow: auto;}#sk-container-id-25 input.sk-toggleable__control:checked~label.sk-toggleable__label-arrow:before {content: \"▾\";}#sk-container-id-25 div.sk-estimator input.sk-toggleable__control:checked~label.sk-toggleable__label {background-color: #d4ebff;}#sk-container-id-25 div.sk-label input.sk-toggleable__control:checked~label.sk-toggleable__label {background-color: #d4ebff;}#sk-container-id-25 input.sk-hidden--visually {border: 0;clip: rect(1px 1px 1px 1px);clip: rect(1px, 1px, 1px, 1px);height: 1px;margin: -1px;overflow: hidden;padding: 0;position: absolute;width: 1px;}#sk-container-id-25 div.sk-estimator {font-family: monospace;background-color: #f0f8ff;border: 1px dotted black;border-radius: 0.25em;box-sizing: border-box;margin-bottom: 0.5em;}#sk-container-id-25 div.sk-estimator:hover {background-color: #d4ebff;}#sk-container-id-25 div.sk-parallel-item::after {content: \"\";width: 100%;border-bottom: 1px solid gray;flex-grow: 1;}#sk-container-id-25 div.sk-label:hover label.sk-toggleable__label {background-color: #d4ebff;}#sk-container-id-25 div.sk-serial::before {content: \"\";position: absolute;border-left: 1px solid gray;box-sizing: border-box;top: 0;bottom: 0;left: 50%;z-index: 0;}#sk-container-id-25 div.sk-serial {display: flex;flex-direction: column;align-items: center;background-color: white;padding-right: 0.2em;padding-left: 0.2em;position: relative;}#sk-container-id-25 div.sk-item {position: relative;z-index: 1;}#sk-container-id-25 div.sk-parallel {display: flex;align-items: stretch;justify-content: center;background-color: white;position: relative;}#sk-container-id-25 div.sk-item::before, #sk-container-id-25 div.sk-parallel-item::before {content: \"\";position: absolute;border-left: 1px solid gray;box-sizing: border-box;top: 0;bottom: 0;left: 50%;z-index: -1;}#sk-container-id-25 div.sk-parallel-item {display: flex;flex-direction: column;z-index: 1;position: relative;background-color: white;}#sk-container-id-25 div.sk-parallel-item:first-child::after {align-self: flex-end;width: 50%;}#sk-container-id-25 div.sk-parallel-item:last-child::after {align-self: flex-start;width: 50%;}#sk-container-id-25 div.sk-parallel-item:only-child::after {width: 0;}#sk-container-id-25 div.sk-dashed-wrapped {border: 1px dashed gray;margin: 0 0.4em 0.5em 0.4em;box-sizing: border-box;padding-bottom: 0.4em;background-color: white;}#sk-container-id-25 div.sk-label label {font-family: monospace;font-weight: bold;display: inline-block;line-height: 1.2em;}#sk-container-id-25 div.sk-label-container {text-align: center;}#sk-container-id-25 div.sk-container {/* jupyter's `normalize.less` sets `[hidden] { display: none; }` but bootstrap.min.css set `[hidden] { display: none !important; }` so we also need the `!important` here to be able to override the default hidden behavior on the sphinx rendered scikit-learn.org. See: https://github.com/scikit-learn/scikit-learn/issues/21755 */display: inline-block !important;position: relative;}#sk-container-id-25 div.sk-text-repr-fallback {display: none;}</style><div id=\"sk-container-id-25\" class=\"sk-top-container\"><div class=\"sk-text-repr-fallback\"><pre>RandomForestClassifier()</pre><b>In a Jupyter environment, please rerun this cell to show the HTML representation or trust the notebook. <br />On GitHub, the HTML representation is unable to render, please try loading this page with nbviewer.org.</b></div><div class=\"sk-container\" hidden><div class=\"sk-item\"><div class=\"sk-estimator sk-toggleable\"><input class=\"sk-toggleable__control sk-hidden--visually\" id=\"sk-estimator-id-25\" type=\"checkbox\" checked><label for=\"sk-estimator-id-25\" class=\"sk-toggleable__label sk-toggleable__label-arrow\">RandomForestClassifier</label><div class=\"sk-toggleable__content\"><pre>RandomForestClassifier()</pre></div></div></div></div></div>"
            ],
            "text/plain": [
              "RandomForestClassifier()"
            ]
          },
          "execution_count": 247,
          "metadata": {},
          "output_type": "execute_result"
        }
      ],
      "source": [
        "# 훈련 데이터와 테스트 데이터로 나누기\n",
        "X_train, X_test, y_train, y_test = train_test_split(features, target, test_size=0.2, random_state=42)\n",
        "\n",
        "# 랜덤 포레스트 분류기 모델 생성 및 훈련\n",
        "rf_classifier = RandomForestClassifier()\n",
        "rf_classifier.fit(X_train, y_train)"
      ]
    },
    {
      "cell_type": "code",
      "execution_count": 248,
      "metadata": {
        "colab": {
          "base_uri": "https://localhost:8080/"
        },
        "id": "VGrQWqr-hyLH",
        "outputId": "449be60c-6c95-4e0c-a723-8a247d118218"
      },
      "outputs": [
        {
          "name": "stdout",
          "output_type": "stream",
          "text": [
            "Accuracy: 0.4032258064516129\n"
          ]
        }
      ],
      "source": [
        "# 테스트 데이터로 성능 평가\n",
        "y_pred = rf_classifier.predict(X_test)\n",
        "accuracy = accuracy_score(y_test, y_pred)\n",
        "print(f\"Accuracy: {accuracy}\")"
      ]
    },
    {
      "cell_type": "code",
      "execution_count": 249,
      "metadata": {
        "id": "P2HhMqkGiL96"
      },
      "outputs": [],
      "source": [
        "# 특성 중요도 가져오기\n",
        "feature_importances = rf_classifier.feature_importances_\n",
        "\n",
        "# 특성 중요도를 내림차순으로 정렬하고 인덱스를 가져오기\n",
        "indices = feature_importances.argsort()[::-1]\n",
        "\n",
        "# 각 특성의 이름 가져오기\n",
        "feature_names = features.columns"
      ]
    },
    {
      "cell_type": "code",
      "execution_count": 250,
      "metadata": {
        "colab": {
          "base_uri": "https://localhost:8080/",
          "height": 715
        },
        "id": "7B0Nhc6XiNv1",
        "outputId": "a9bb47a8-83d5-44c8-978c-1164c9d3e88a"
      },
      "outputs": [
        {
          "data": {
            "image/png": "[encoded data removed]",
            "text/plain": [
              "<Figure size 1000x600 with 1 Axes>"
            ]
          },
          "metadata": {},
          "output_type": "display_data"
        }
      ],
      "source": [
        "# 특성 중요도 시각화\n",
        "plt.figure(figsize=(10, 6))\n",
        "plt.bar(range(features.shape[1]), feature_importances[indices], align=\"center\")\n",
        "plt.xticks(range(features.shape[1]), feature_names[indices], rotation=45)\n",
        "plt.xlabel(\"Feature\")\n",
        "plt.ylabel(\"Feature Importance\")\n",
        "plt.title(\"Random Forest Classifier - Feature Importance\")\n",
        "plt.show()"
      ]
    }
  ],
  "metadata": {
    "colab": {
      "provenance": []
    },
    "kernelspec": {
      "display_name": "Python 3",
      "name": "python3"
    },
    "language_info": {
      "name": "python"
    }
  },
  "nbformat": 4,
  "nbformat_minor": 0
}
