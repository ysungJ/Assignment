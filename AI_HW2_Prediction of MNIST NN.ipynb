{
  "cells": [
    {
      "cell_type": "markdown",
      "metadata": {
        "id": "Y2eaMYDk5n4e"
      },
      "source": [
        " MNIST NN모델의 prediction 실험\n",
        " "
      ]
    },
    {
      "cell_type": "code",
      "execution_count": 36,
      "metadata": {
        "colab": {
          "base_uri": "https://localhost:8080/"
        },
        "id": "WXNwaiSSoG6V",
        "outputId": "135596fa-0fb2-4d59-843d-3757981394ca"
      },
      "outputs": [
        {
          "name": "stdout",
          "output_type": "stream",
          "text": [
            "Drive already mounted at /content/drive; to attempt to forcibly remount, call drive.mount(\"/content/drive\", force_remount=True).\n"
          ]
        }
      ],
      "source": [
        "from google.colab import drive\n",
        "drive.mount('/content/drive')\n",
        "\n",
        "import numpy as np\n",
        "import time\n",
        "import tensorflow as tf\n",
        "import numpy as np\n",
        "import matplotlib.pyplot as plt\n",
        "from tensorflow.keras import layers, models\n",
        "from tensorflow import keras\n",
        "from tensorflow.keras.layers import Input\n",
        "from tensorflow.keras.layers import Dense\n",
        "from tensorflow.keras.models import Model"
      ]
    },
    {
      "cell_type": "code",
      "execution_count": null,
      "metadata": {
        "id": "OhmdTzjhqKiD"
      },
      "outputs": [],
      "source": [
        "# 1. 데이터 읽기 및 전처리 함수 정의\n",
        "def load_and_preprocess_data(file_path):\n",
        "    with open(file_path, \"r\") as fp:\n",
        "        lines = fp.readlines()\n",
        "\n",
        "    # 데이터를 저장할 리스트 초기화\n",
        "    x_data = []\n",
        "    y_data = []\n",
        "\n",
        "    for i in range(0, len(lines), 29):  # 한 예제는 29줄로 이루어짐\n",
        "        label = int(lines[i].strip())\n",
        "        y_data.append(label)\n",
        "\n",
        "        image_lines = lines[i + 1:i + 29]  # 이미지 데이터는 1부터 28번째 줄까지\n",
        "        image = []\n",
        "        for line in image_lines:\n",
        "            image += [float(pixel) / 255 for pixel in line.split()]  # 정규화\n",
        "        x_data.append(image)\n",
        "\n",
        "    return np.array(x_data), np.array(y_data)"
      ]
    },
    {
      "cell_type": "code",
      "execution_count": null,
      "metadata": {
        "id": "GM-pq5BaqOHa"
      },
      "outputs": [],
      "source": [
        "# 2. 데이터 로드\n",
        "train_data_path = \"/content/drive/MyDrive/인공지능실습/mnist_train.txt\"\n",
        "test_data_path = \"/content/drive/MyDrive/인공지능실습/mnist_test.txt\"\n",
        "\n",
        "x_train, y_train = load_and_preprocess_data(train_data_path)\n",
        "x_test, y_test = load_and_preprocess_data(test_data_path)\n",
        "\n",
        "# 3. 데이터를 훈련 및 검증 세트로 나눔 (80% 학습, 20% 검증)\n",
        "split_index = int(0.8 * len(x_train))\n",
        "x_val, y_val = x_train[split_index:], y_train[split_index:]\n",
        "x_train, y_train = x_train[:split_index], y_train[:split_index]"
      ]
    },
    {
      "cell_type": "code",
      "execution_count": null,
      "metadata": {
        "id": "Mqjllc8RqQVn"
      },
      "outputs": [],
      "source": [
        "# 4. 모델 정의\n",
        "model = models.Sequential([\n",
        "    layers.Input(shape=(784,)),\n",
        "    layers.Dense(256, activation='relu'),\n",
        "    layers.Dense(128, activation='relu'),\n",
        "    layers.Dense(10, activation='softmax')\n",
        "])\n",
        "\n",
        "# 5. 모델 컴파일\n",
        "model.compile(optimizer='adam',\n",
        "              loss='sparse_categorical_crossentropy',\n",
        "              metrics=['accuracy'])"
      ]
    },
    {
      "cell_type": "code",
      "execution_count": null,
      "metadata": {
        "colab": {
          "base_uri": "https://localhost:8080/"
        },
        "id": "SQImJJ6bqRhs",
        "outputId": "633cafff-8025-466a-ed90-6dca9995a2be"
      },
      "outputs": [
        {
          "name": "stdout",
          "output_type": "stream",
          "text": [
            "Epoch 1/10\n",
            "1500/1500 [==============================] - 10s 7ms/step - loss: 0.0089 - accuracy: 0.9973 - val_loss: 0.1398 - val_accuracy: 0.9800\n",
            "Epoch 2/10\n",
            "1500/1500 [==============================] - 11s 7ms/step - loss: 0.0094 - accuracy: 0.9970 - val_loss: 0.1584 - val_accuracy: 0.9777\n",
            "Epoch 3/10\n",
            "1500/1500 [==============================] - 12s 8ms/step - loss: 0.0089 - accuracy: 0.9971 - val_loss: 0.1407 - val_accuracy: 0.9787\n",
            "Epoch 4/10\n",
            "1500/1500 [==============================] - 13s 8ms/step - loss: 0.0102 - accuracy: 0.9965 - val_loss: 0.1604 - val_accuracy: 0.9768\n",
            "Epoch 5/10\n",
            "1500/1500 [==============================] - 11s 7ms/step - loss: 0.0067 - accuracy: 0.9981 - val_loss: 0.1612 - val_accuracy: 0.9786\n",
            "Epoch 6/10\n",
            "1500/1500 [==============================] - 12s 8ms/step - loss: 0.0081 - accuracy: 0.9974 - val_loss: 0.1777 - val_accuracy: 0.9771\n",
            "Epoch 7/10\n",
            "1500/1500 [==============================] - 20s 14ms/step - loss: 0.0112 - accuracy: 0.9969 - val_loss: 0.1486 - val_accuracy: 0.9792\n",
            "Epoch 8/10\n",
            "1500/1500 [==============================] - 11s 7ms/step - loss: 0.0032 - accuracy: 0.9990 - val_loss: 0.1648 - val_accuracy: 0.9762\n",
            "Epoch 9/10\n",
            "1500/1500 [==============================] - 11s 8ms/step - loss: 0.0100 - accuracy: 0.9973 - val_loss: 0.1697 - val_accuracy: 0.9785\n",
            "Epoch 10/10\n",
            "1500/1500 [==============================] - 12s 8ms/step - loss: 0.0081 - accuracy: 0.9979 - val_loss: 0.1783 - val_accuracy: 0.9761\n",
            "훈련(검증)의 마지막 epoch: 10\n",
            "pred의 shape: (1600, 10)\n"
          ]
        }
      ],
      "source": [
        "# 6. 모델 훈련\n",
        "batch_size = 32\n",
        "epochs = 10\n",
        "\n",
        "history = model.fit(x_train, y_train, batch_size=batch_size, epochs=epochs,\n",
        "                    validation_data=(x_val, y_val))\n",
        "# 훈련(검증)의 마지막 epoch 출력\n",
        "last_epoch = history.epoch[-1] + 1  # 0부터 시작하는 인덱스를 실제 epoch로 변환\n",
        "print(f\"훈련(검증)의 마지막 epoch: {last_epoch}\")\n",
        "\n",
        "# pred의 shape 출력\n",
        "print(f\"pred의 shape: {predictions.shape}\")\n"
      ]
    },
    {
      "cell_type": "code",
      "execution_count": null,
      "metadata": {
        "colab": {
          "base_uri": "https://localhost:8080/"
        },
        "id": "zscWjI5yrpUI",
        "outputId": "d83275d7-ac0e-4f22-ad3c-889b20a12423"
      },
      "outputs": [
        {
          "name": "stdout",
          "output_type": "stream",
          "text": [
            "100/100 - 0s - 181ms/epoch - 2ms/step\n"
          ]
        }
      ],
      "source": [
        "# 테스트 데이터 로드 및 전처리\n",
        "x_test, y_test = load_and_preprocess_data(test_data_path)\n",
        "\n",
        "# 테스트 데이터 중 처음 1,600개 데이터만 사용\n",
        "x_test_subset = x_test[:1600]\n",
        "y_test_subset = y_test[:1600]\n",
        "\n",
        "# 모델 예측 수행\n",
        "predictions = model.predict(x_test_subset, batch_size=16, verbose=2)"
      ]
    },
    {
      "cell_type": "code",
      "execution_count": null,
      "metadata": {
        "id": "LWE0d7Z1rsLY"
      },
      "outputs": [],
      "source": [
        "# 오분류된 예제를 찾고 가장 나쁜 예제 3개를 선택\n",
        "wrong_examples = []\n",
        "worst_examples = []\n",
        "worst_probabilities = []\n",
        "\n",
        "for i in range(len(x_test_subset)):\n",
        "    true_label = y_test_subset[i]\n",
        "    predicted_label = np.argmax(predictions[i])\n",
        "\n",
        "    if true_label != predicted_label:\n",
        "        wrong_examples.append(i)\n",
        "        predicted_probability = predictions[i][true_label]\n",
        "        worst_examples.append((i, predicted_probability))\n",
        "        worst_probabilities.append(predicted_probability)\n",
        "\n",
        "# 오분류된 예제 중 가장 나쁜 예제 3개 선택\n",
        "sorted_indices = np.argsort(worst_probabilities)[-3:]  # 가장 나쁜 3개 선택\n",
        "worst_examples = [worst_examples[i] for i in sorted_indices]"
      ]
    },
    {
      "cell_type": "code",
      "execution_count": null,
      "metadata": {
        "colab": {
          "base_uri": "https://localhost:8080/",
          "height": 1000
        },
        "id": "iDIw5Lnbrube",
        "outputId": "b401cfb0-10c5-4720-99e3-50446935b4f6"
      },
      "outputs": [
        {
          "name": "stdout",
          "output_type": "stream",
          "text": [
            "\n",
            "예제 1\n",
            "예제번호: 1270\n",
            "정답레이블: 4\n",
            "예측레이블: 9\n",
            "이 예제의 tg_prob: 0.4275\n"
          ]
        },
        {
          "data": {
            "image/png": "[encoded data removed]",
            "text/plain": [
              "<Figure size 400x400 with 1 Axes>"
            ]
          },
          "metadata": {},
          "output_type": "display_data"
        },
        {
          "name": "stdout",
          "output_type": "stream",
          "text": [
            "\n",
            "예제 2\n",
            "예제번호: 951\n",
            "정답레이블: 5\n",
            "예측레이블: 9\n",
            "이 예제의 tg_prob: 0.4316\n"
          ]
        },
        {
          "data": {
            "image/png": "[encoded data removed]",
            "text/plain": [
              "<Figure size 400x400 with 1 Axes>"
            ]
          },
          "metadata": {},
          "output_type": "display_data"
        },
        {
          "name": "stdout",
          "output_type": "stream",
          "text": [
            "\n",
            "예제 3\n",
            "예제번호: 432\n",
            "정답레이블: 4\n",
            "예측레이블: 5\n",
            "이 예제의 tg_prob: 0.4611\n"
          ]
        },
        {
          "data": {
            "image/png": "[encoded data removed]",
            "text/plain": [
              "<Figure size 400x400 with 1 Axes>"
            ]
          },
          "metadata": {},
          "output_type": "display_data"
        }
      ],
      "source": [
        "# 가장 나쁜 예제 3개에 대한 정보와 이미지 출력\n",
        "for i, (example_index, predicted_probability) in enumerate(worst_examples):\n",
        "    true_label = y_test_subset[example_index]\n",
        "    predicted_label = np.argmax(predictions[example_index])\n",
        "\n",
        "    print(f\"\\n예제 {i + 1}\")\n",
        "    print(f\"예제번호: {example_index}\")\n",
        "    print(f\"정답레이블: {true_label}\")\n",
        "    print(f\"예측레이블: {predicted_label}\")\n",
        "    print(f\"이 예제의 tg_prob: {predicted_probability:.4f}\")\n",
        "\n",
        "    # 이미지 출력\n",
        "    plt.figure(figsize=(4, 4))\n",
        "    plt.imshow(x_test_subset[example_index].reshape(28, 28), cmap='gray')\n",
        "    plt.axis('off')\n",
        "    plt.show()"
      ]
    }
  ],
  "metadata": {
    "colab": {
      "provenance": []
    },
    "kernelspec": {
      "display_name": "Python 3",
      "name": "python3"
    },
    "language_info": {
      "name": "python"
    }
  },
  "nbformat": 4,
  "nbformat_minor": 0
}
