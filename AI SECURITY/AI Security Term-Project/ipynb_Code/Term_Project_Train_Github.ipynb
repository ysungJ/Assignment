{
  "cells": [
    {
      "cell_type": "markdown",
      "id": "a6f79bad-1fe4-48e3-9170-26643ca89b9b",
      "metadata": {
        "id": "a6f79bad-1fe4-48e3-9170-26643ca89b9b"
      },
      "source": [
        " **딥러닝 기반 네트워크 트래픽 데이터 분류**\n",
        "- 정상 및 공격으로 분류하기\n",
        "\n",
        "학번 : 2019xxxxxx\n",
        "\n",
        "이름 : 전xx\n",
        "\n",
        "**<제출물>**\n",
        "\n",
        " 학습 코드 및 학습된 모델 (train/...)\n",
        "- 전처리 포함 학습을 직접 했다는 것을 증명할 수 있는 폴더\n",
        "- 개발에 사용한 모든 파일을 포함\n",
        "\n",
        "테스트 코드 (test/...)\n",
        "- 테스트 데이터를 통해 본인이 학습한 모델을 평가할 수 있도록 구성\n",
        "- 데이터 전처리, 학습모델 구조, 학습된 피라미터(.pt)파일을 포함\n",
        "- 실행 오류시 채점 x\n",
        "\n",
        "**목표 데이터 셋**\n",
        "  \n",
        "  네트워크 트래픽 데이터\n",
        "- 네트워크 환경에서 정상적인 활동과 다양한 공격 행위를 포함한 혼합 트래픽 데이터 수집를 수집하기 위해 설계된 데이터셋\n",
        "\n",
        "- 49개의 Feature(Feature.csv 파일참고)\n",
        "- 네트워크 트래픽의 다양한 특성을 반영\n",
        "- 트래픽의 정상 및 공격 유형을 분류하는 데 사용\n",
        "- 총 9가지 유형의 공격 포함 - Fuzzers, Analysis, Backdoors, Dos, Exploits, Generic, Reconnaissance, Shellcode, Worms\n",
        "\n",
        "- 학습 데이터 (배포) -> 약 17만 개의 데이터로 구성\n",
        "- 테스트 데이터 (평가) -> 약 8만개의 데이터로 구성"
      ]
    },
    {
      "cell_type": "code",
      "execution_count": null,
      "id": "2d93eb39-caa9-4981-a45f-afddedcb0638",
      "metadata": {
        "id": "2d93eb39-caa9-4981-a45f-afddedcb0638"
      },
      "outputs": [],
      "source": [
        "import torch\n",
        "import torch.nn as nn\n",
        "import torch.optim as optim\n",
        "import torch.nn.functional as F\n",
        "from torch.utils.data import DataLoader, TensorDataset, random_split\n",
        "from sklearn.preprocessing import LabelEncoder, StandardScaler,OneHotEncoder\n",
        "from sklearn.model_selection import train_test_split\n",
        "from sklearn.metrics import accuracy_score\n",
        "import pandas as pd\n",
        "import numpy as np\n",
        "import joblib\n",
        "import matplotlib.pyplot as plt"
      ]
    },
    {
      "cell_type": "code",
      "source": [
        "from google.colab import drive\n",
        "drive.mount('/content/drive')"
      ],
      "metadata": {
        "colab": {
          "base_uri": "https://localhost:8080/"
        },
        "id": "CsQVie4Oyi3E",
        "outputId": "da3edc15-be0e-4a92-f862-d9b44ebf0817"
      },
      "id": "CsQVie4Oyi3E",
      "execution_count": null,
      "outputs": [
        {
          "output_type": "stream",
          "name": "stdout",
          "text": [
            "Drive already mounted at /content/drive; to attempt to forcibly remount, call drive.mount(\"/content/drive\", force_remount=True).\n"
          ]
        }
      ]
    },
    {
      "cell_type": "code",
      "execution_count": null,
      "id": "631f9f9f-283e-479a-a56a-f11713ba0362",
      "metadata": {
        "id": "631f9f9f-283e-479a-a56a-f11713ba0362",
        "colab": {
          "base_uri": "https://localhost:8080/"
        },
        "outputId": "4507d9d2-92e4-4429-81b9-6d00490d9393"
      },
      "outputs": [
        {
          "output_type": "stream",
          "name": "stdout",
          "text": [
            "Now using cuda.\n"
          ]
        }
      ],
      "source": [
        "# 장치 설정\n",
        "device = torch.device(\"cuda\" if torch.cuda.is_available() else \"cpu\")\n",
        "print(f\"Now using {device}.\")"
      ]
    },
    {
      "cell_type": "markdown",
      "source": [
        " # **파일 경로 수정하는 곳 입니다**\n",
        "\n",
        " **반드시 train_save, scaler_save는 폴더가 있어야 합니다.**\n",
        "\n",
        " 폴더가 없으면 자동적으로 폴더를 생성하도록 구현하지 않아서 드라이브에 업로드하거나 직접 폴더를 만들어야 합니다.  \n",
        " 폴더가 없으면 실행이 안됩니다.\n",
        "\n",
        " 데이터 셋은 ai보안 데이터폴더에 있으며, 폴더를 업로드 하시거나 경로를 수정하시면 됩니다.\n",
        "\n",
        " ai보안 데이터셋 : 모델을 학습하기위한 training-set.csv등 데이터셋이 있는 폴더.\n",
        "\n",
        " train_save : 학습한 모델(pth)을 저장한 폴더\n",
        "\n",
        " scaler_save : onehot_encoder.pkl, scaler.pkl 등 pkl파일을 저장하는 폴더"
      ],
      "metadata": {
        "id": "_TZGy1eD3zUu"
      },
      "id": "_TZGy1eD3zUu"
    },
    {
      "cell_type": "code",
      "source": [
        "# trian 파일 경로\n",
        "filepath = '/content/drive/MyDrive/ai보안 데이터셋/training-set.csv'\n",
        "\n",
        "# 모델 저장 경로 및 저장한 모델 이름 정의\n",
        "model_path = f'/content/drive/MyDrive/train_save/cnn_model_epoch.pth'"
      ],
      "metadata": {
        "id": "1rrfuF1f2h93"
      },
      "id": "1rrfuF1f2h93",
      "execution_count": null,
      "outputs": []
    },
    {
      "cell_type": "markdown",
      "id": "a6d0b76f-857b-4bfe-9583-3b0f10711635",
      "metadata": {
        "id": "a6d0b76f-857b-4bfe-9583-3b0f10711635"
      },
      "source": [
        "#**학습 데이터 전처리**\n",
        "<과정>\n",
        "1. 데이터를 로드 및 불필요한 칼럼을 제거\n",
        "2. 다중 클래스 분류를 위해 목표 타겟인 attack_cat를 인코딩\n",
        "3. 결측치 제거\n",
        "4. 특정 변수 및 타겟 변수 분리\n",
        "5. 범주형 변수 처리를 원핫 인코더로 처리\n",
        "6. 훈련중에 새로운 범주형 데이터가 있으면 무시하고 학습\n",
        "7. 특정 데이터를 결합\n",
        "8. 스케일링을하여 변수들간 스케일 차이를 낮춤\n",
        "\n",
        "Q. 왜 attack_cat를 인코딩 했는가?  \n",
        "A: attack_cat은 문자열로되어 있어 데이터를 처리할수 없기때문에 숫자로 변환하여 데이터를 처리해야합니다.\n",
        "\n",
        "Q. 원핫인코더를 사용한 이유는?\n",
        "\n",
        "A: 라벨인코딩은 범주형 정수값을 변환하는 방식인데,이러한 단점은 모든 숫자들이 수차적인 순서나 크기를 가질수 있다고 잘 못된 해석을 할 수 있기때문에, 원핫인코딩을 사용하여 각 범주를 이진벡터로 변환하고, 각각의 범주를 별개의 변수로 취급하기 때문에잘못된 순서나 크기를 학습하지 않아도 되고 새로운 범주를 무시하는 기능이 있어 새범주가 있어도 무시하고 일관성있게 훈련을 할 수 있기때문입니다.  "
      ]
    },
    {
      "cell_type": "code",
      "execution_count": null,
      "id": "0a20b087-a6a7-4c54-9ea2-3b65907bd6db",
      "metadata": {
        "id": "0a20b087-a6a7-4c54-9ea2-3b65907bd6db"
      },
      "outputs": [],
      "source": [
        "# 학습 데이터 전처리\n",
        "def train_process_data(filepath, is_training):\n",
        "    data = pd.read_csv(filepath)\n",
        "\n",
        "    # id 칼럼 제거\n",
        "    if 'id' in data.columns:\n",
        "        data = data.drop('id', axis=1)\n",
        "\n",
        "    # 정상 공격인 Normal를 포함하여 attack_cat를 리스트로 매핑\n",
        "    attack_categories = ['Normal', 'Fuzzers', 'Analysis', 'Backdoor', 'DoS', 'Exploits',\n",
        "                         'Generic', 'Reconnaissance', 'Shellcode', 'Worms']\n",
        "    attack_cat_map = {category: idx for idx, category in enumerate(attack_categories)}\n",
        "\n",
        "    # attack_cat를 정수로 매핑\n",
        "    data['attack_cat'] = data['attack_cat'].map(attack_cat_map)\n",
        "\n",
        "    # 학습을 위해 features와 labels를 분리\n",
        "    if is_training:\n",
        "        y = data['attack_cat'].values  # 매핑된 공격 유형을 라벨로 사용.\n",
        "        X = data.drop(['attack_cat', 'label'], axis=1)   # attack_cat과 Label을 피처에서 제거\n",
        "    else:\n",
        "        X = data.drop(['attack_cat', 'label'], axis=1)\n",
        "\n",
        "    # 범주형 변수들에 원핫 인코딩을 정의\n",
        "    categorical_cols = ['proto', 'service', 'state']\n",
        "\n",
        "    # 원핫 인코딩\n",
        "    onehot_encoder = OneHotEncoder(sparse_output=False, handle_unknown='ignore')\n",
        "    X_cat = onehot_encoder.fit_transform(X[categorical_cols])\n",
        "\n",
        "    # 테스트 과정에서 일관된 전처리를 사용하기 위해 원핫 인코딩 저장\n",
        "    joblib.dump(onehot_encoder, '/content/drive/MyDrive/scaler_save/onehot_encoder.pkl')\n",
        "\n",
        "    # 원래 범주형 칼럼을 제거 및 원한 인코딩 칼럼을 추가\n",
        "    X = X.drop(columns=categorical_cols)\n",
        "    X = np.concatenate([X.values, X_cat], axis=1)\n",
        "\n",
        "    # features을 스케일링 후 테스트 코드에서 사용하기 위해 저장\n",
        "    scaler = StandardScaler()\n",
        "    X = scaler.fit_transform(X)\n",
        "    joblib.dump(scaler, '/content/drive/MyDrive/scaler_save/scaler.pkl')\n",
        "\n",
        "    # X의 타입이 float32로 되도록 바꿈\n",
        "    X = X.astype(np.float32)\n",
        "\n",
        "    if is_training:\n",
        "        return X, y, onehot_encoder, scaler\n",
        "    else:\n",
        "        return X, onehot_encoder, scaler\n"
      ]
    },
    {
      "cell_type": "markdown",
      "source": [
        "# Train 및 Validate\n",
        "\n",
        "훈련 및 검증을 하는 함수를 구현."
      ],
      "metadata": {
        "id": "XXu8D4wS5SNy"
      },
      "id": "XXu8D4wS5SNy"
    },
    {
      "cell_type": "code",
      "execution_count": null,
      "id": "dd63ff0c-22ca-45f6-981a-cc3f2d6fec45",
      "metadata": {
        "id": "dd63ff0c-22ca-45f6-981a-cc3f2d6fec45"
      },
      "outputs": [],
      "source": [
        "# 훈련 함수\n",
        "def train(device, model, train_loader, criterion, optimizer):\n",
        "    model.train()\n",
        "    total_loss = 0\n",
        "    for x, y in train_loader:\n",
        "        x, y = x.to(device), y.to(device)\n",
        "        optimizer.zero_grad()\n",
        "        output = model(x)\n",
        "        loss = criterion(output, y)\n",
        "        loss.backward()\n",
        "        optimizer.step()\n",
        "        total_loss += loss.item()\n",
        "    return total_loss / len(train_loader)\n",
        "\n",
        "# 검증 함수\n",
        "def validate(device, model, test_loader, criterion):\n",
        "    model.eval()\n",
        "    total_loss = 0\n",
        "    correct = 0\n",
        "    with torch.no_grad():\n",
        "        for x, y in test_loader:\n",
        "            x, y = x.to(device), y.to(device)\n",
        "            output = model(x)\n",
        "            loss = criterion(output, y)\n",
        "            total_loss += loss.item()\n",
        "            pred = output.argmax(dim=1)\n",
        "            correct += pred.eq(y).sum().item()\n",
        "    accuracy = correct / len(test_loader.dataset)\n",
        "    return total_loss / len(test_loader), accuracy\n",
        "\n",
        "def accuracy(y_true, y_pred):\n",
        "    return accuracy_score(y_true, y_pred)"
      ]
    },
    {
      "cell_type": "markdown",
      "source": [
        "# 데이터 준비\n",
        "\n",
        "데이터 로드, 데이터 분할, 데이터셋을 준비하고,\n",
        "\n",
        "모델에 배치 크기에 맞게 입력할 수록 준비합니다.\n"
      ],
      "metadata": {
        "id": "-xwmmZVABkhv"
      },
      "id": "-xwmmZVABkhv"
    },
    {
      "cell_type": "code",
      "execution_count": null,
      "id": "41e88e7e-bb55-48e9-b3d0-37a29c455a2d",
      "metadata": {
        "id": "41e88e7e-bb55-48e9-b3d0-37a29c455a2d"
      },
      "outputs": [],
      "source": [
        "# 데이터 트레이닝 셋 로드\n",
        "#filepath = '/content/drive/MyDrive/ai보안 데이터셋/training-set.csv'\n",
        "\n",
        "# 데이터 로드\n",
        "X_train, y_train, label_encoders, scaler =  train_process_data(filepath, is_training=True)\n",
        "\n",
        "# 학습 및 검증 데이터 8대2로 분할\n",
        "X_train, X_val, y_train, y_val = train_test_split(X_train, y_train, test_size=0.2, random_state=42)\n",
        "\n",
        "# TensorDataset 및 DataLoader 생성\n",
        "train_dataset = TensorDataset(torch.tensor(X_train, dtype=torch.float32), torch.tensor(y_train, dtype=torch.long))\n",
        "val_dataset = TensorDataset(torch.tensor(X_val, dtype=torch.float32), torch.tensor(y_val, dtype=torch.long))\n",
        "train_loader = DataLoader(train_dataset, batch_size=32, shuffle=True) #배치크기 64, 128 등 알맞게 설정.\n",
        "val_loader = DataLoader(val_dataset, batch_size=32, shuffle=False)\n",
        "\n"
      ]
    },
    {
      "cell_type": "markdown",
      "source": [
        "# 모델 정의\n",
        "\n",
        "CNN를 선택했습니다.\n",
        "\n",
        "이유 : 전처리 과정이 중요하고, 어떤 모델을 사용하든\n",
        "\n",
        "전처리를 제대로 하지 않으면 성능이 잘 안나오기 때문에\n",
        "\n",
        "전처리를 잘 했다면, 준수한 성능이 나오고, CNN의 지역적인 특성을 학습하는데\n",
        "\n",
        "뛰어나 네트워크 트래픽 분류라는 시계열 데이터에서 일정한 패턴을 찾아내는 것에\n",
        "\n",
        "적합하다고 판단 하였고 CNN의 특성한 레이어를 추가하거나 삭제하는듯 조정하는것이\n",
        "\n",
        "쉬워 모델 확장에도 용이하기 때문에 선택하였습니다"
      ],
      "metadata": {
        "id": "dgfn7AjjB6Sq"
      },
      "id": "dgfn7AjjB6Sq"
    },
    {
      "cell_type": "code",
      "execution_count": null,
      "id": "d3a4959c-b45e-44e8-b2db-af82e6f76fb6",
      "metadata": {
        "id": "d3a4959c-b45e-44e8-b2db-af82e6f76fb6"
      },
      "outputs": [],
      "source": [
        "# CNN 모델 정의\n",
        "class CNN(nn.Module):\n",
        "    def __init__(self, input_size, num_classes):\n",
        "        super(CNN, self).__init__()\n",
        "\n",
        "        # Conv1D 층\n",
        "        self.conv1 = nn.Conv1d(1, 32, kernel_size=3, padding=1)\n",
        "        self.conv2 = nn.Conv1d(32, 64, kernel_size=3, padding=1)\n",
        "        self.conv3 = nn.Conv1d(64, 128, kernel_size=3, padding=1)\n",
        "        self.conv4 = nn.Conv1d(128, 256, kernel_size=3, padding=1)\n",
        "\n",
        "        # 풀링 층\n",
        "        self.pool = nn.MaxPool1d(2)\n",
        "\n",
        "        #  완전 연결 층\n",
        "        self.fc1 = nn.Linear(256 * (input_size // 16), 512)  # input_size // 16은 4개의 풀링 레이어에서 줄어든 크기\n",
        "        self.fc2 = nn.Linear(512, 256)\n",
        "\n",
        "        # 출력층\n",
        "        self.fc3 = nn.Linear(256, num_classes)\n",
        "\n",
        "    def forward(self, x):\n",
        "        # Conv1D 입력을 위한 채널 추가\n",
        "        x = x.unsqueeze(1)\n",
        "\n",
        "        # Conv1D + ReLU + 풀링\n",
        "        x = F.relu(self.conv1(x))\n",
        "        x = self.pool(x)\n",
        "        x = F.relu(self.conv2(x))\n",
        "        x = self.pool(x)\n",
        "        x = F.relu(self.conv3(x))\n",
        "        x = self.pool(x)\n",
        "        x = F.relu(self.conv4(x))\n",
        "        x = self.pool(x)\n",
        "\n",
        "        # Flatten (배치 크기 및 특징을 펼침)\n",
        "        x = x.view(x.size(0), -1)\n",
        "\n",
        "        # 완전 연결층 + ReLU\n",
        "        x = F.relu(self.fc1(x))\n",
        "        x = F.relu(self.fc2(x))\n",
        "\n",
        "        # 출력층\n",
        "        x = self.fc3(x)\n",
        "        return x"
      ]
    },
    {
      "cell_type": "markdown",
      "source": [
        "# 모델 설정\n",
        "\n",
        "모델에 훈련 데이터의 특성 수의 입력 크기와 타겟의 클래스 수를 확인하고 모델에 입력\n",
        "\n",
        "손실함수는 다중 클래스 분류 문제에서 사용하는 CrossEntropyLoss설정하여  모델예측과 실제레이블 간의 차이를 계산 후 손실을 반환\n",
        "\n",
        "최적화는 아담 옵티마이저를 사용했고, 자동으로 학슬율이 조정됩니다\n",
        "초기값은 1e-4로 설정했습니다.\n"
      ],
      "metadata": {
        "id": "hQuYS5JMEgIh"
      },
      "id": "hQuYS5JMEgIh"
    },
    {
      "cell_type": "code",
      "execution_count": null,
      "id": "6592a95c-aa62-44c5-819b-33dbbbf1ef43",
      "metadata": {
        "id": "6592a95c-aa62-44c5-819b-33dbbbf1ef43",
        "colab": {
          "base_uri": "https://localhost:8080/"
        },
        "outputId": "781d665c-3d1d-44ba-f836-29aa4a0c5562"
      },
      "outputs": [
        {
          "output_type": "stream",
          "name": "stdout",
          "text": [
            "입력 크기 확인 :  194\n",
            "클래스 분류 값 확인 :  10\n"
          ]
        }
      ],
      "source": [
        "print(\"입력 크기 확인 : \", X_train.shape[1])\n",
        "print(\"클래스 분류 값 확인 : \", len(np.unique(y_train)))\n",
        "\n",
        "# 모델, 손실 함수, 옵티마이저 설정\n",
        "model = CNN(input_size=X_train.shape[1], num_classes=len(np.unique(y_train))).to(device)\n",
        "criterion = nn.CrossEntropyLoss()\n",
        "optimizer = optim.Adam(model.parameters(), lr=1e-4)\n",
        "\n",
        "# 손실 및 정확도 저장을 위한 리스트\n",
        "train_losses = []\n",
        "test_accuracies = []\n"
      ]
    },
    {
      "cell_type": "markdown",
      "source": [
        "#모델 학습\n",
        "\n",
        "모델을 학습하고 학습한 모델을 저장합니다"
      ],
      "metadata": {
        "id": "aSjyb3rfDbqE"
      },
      "id": "aSjyb3rfDbqE"
    },
    {
      "cell_type": "code",
      "execution_count": null,
      "id": "e417c86c-a06a-44da-b8ca-16180b089524",
      "metadata": {
        "scrolled": true,
        "id": "e417c86c-a06a-44da-b8ca-16180b089524",
        "colab": {
          "base_uri": "https://localhost:8080/"
        },
        "outputId": "96f3f3ca-ac70-44ba-c897-4320310655e1"
      },
      "outputs": [
        {
          "output_type": "stream",
          "name": "stdout",
          "text": [
            "Epoch 1/10, Train Loss: 0.6805, Val Loss: 0.5691, Val Acc: 78.07%\n",
            "Epoch 2/10, Train Loss: 0.5530, Val Loss: 0.5336, Val Acc: 79.04%\n",
            "Epoch 3/10, Train Loss: 0.5278, Val Loss: 0.5246, Val Acc: 78.99%\n",
            "Epoch 4/10, Train Loss: 0.5117, Val Loss: 0.5054, Val Acc: 80.19%\n",
            "Epoch 5/10, Train Loss: 0.5008, Val Loss: 0.5053, Val Acc: 80.01%\n",
            "Epoch 6/10, Train Loss: 0.4919, Val Loss: 0.4925, Val Acc: 80.60%\n",
            "Epoch 7/10, Train Loss: 0.4850, Val Loss: 0.4910, Val Acc: 80.46%\n",
            "Epoch 8/10, Train Loss: 0.4795, Val Loss: 0.4832, Val Acc: 80.89%\n",
            "Epoch 9/10, Train Loss: 0.4756, Val Loss: 0.4818, Val Acc: 80.91%\n",
            "Epoch 10/10, Train Loss: 0.4733, Val Loss: 0.4808, Val Acc: 81.00%\n",
            "Model saved to /content/drive/MyDrive/train_save/cnn_model_epoch.pth\n"
          ]
        }
      ],
      "source": [
        "# 학습 루프\n",
        "epochs = 10\n",
        "scheduler = torch.optim.lr_scheduler.CosineAnnealingLR(optimizer, T_max=epochs)\n",
        "for epoch in range(epochs):\n",
        "    train_loss = train(device, model, train_loader, criterion, optimizer)\n",
        "    val_loss, val_acc = validate(device, model, val_loader, criterion)\n",
        "    scheduler.step()\n",
        "    train_losses.append(train_loss)\n",
        "    test_accuracies.append(val_acc)\n",
        "    # 에폭, 훈련 손실, 검증 손실, 검증 정확도 출력\n",
        "    print(f'Epoch {epoch+1}/{epochs}, Train Loss: {train_loss:.4f}, Val Loss: {val_loss:.4f}, Val Acc: {val_acc*100:.2f}%')\n",
        "\n",
        "# 모델 저장\n",
        "# model_path = f'/content/drive/MyDrive/train_save/cnn_model_epoch.pth'\n",
        "torch.save(model.state_dict(), model_path)\n",
        "print(f'Model saved to {model_path}')\n"
      ]
    },
    {
      "cell_type": "markdown",
      "source": [
        "#**Visualization**"
      ],
      "metadata": {
        "id": "ls-Us0jvDSCX"
      },
      "id": "ls-Us0jvDSCX"
    },
    {
      "cell_type": "code",
      "source": [
        "# 손실과 정확도 시각화\n",
        "plt.figure(figsize=(12, 5))\n",
        "\n",
        "# 손실 그래프\n",
        "plt.subplot(1, 2, 1)\n",
        "plt.plot(range(1, epochs + 1), train_losses, label='Train Loss', color='blue')\n",
        "plt.title('Training Loss')\n",
        "plt.xlabel('Epoch')\n",
        "plt.ylabel('Loss')\n",
        "plt.grid()\n",
        "plt.legend()\n",
        "\n",
        "# 정확도 그래프\n",
        "plt.subplot(1, 2, 2)\n",
        "plt.plot(range(1, epochs + 1), test_accuracies, label='Test Accuracy', color='green')\n",
        "plt.title('Test Accuracy')\n",
        "plt.xlabel('Epoch')\n",
        "plt.ylabel('Accuracy')\n",
        "plt.grid()\n",
        "plt.legend()\n",
        "\n",
        "plt.tight_layout()\n",
        "plt.show()"
      ],
      "metadata": {
        "colab": {
          "base_uri": "https://localhost:8080/",
          "height": 473
        },
        "id": "thd274VliA9O",
        "outputId": "391ceb5c-b323-45e4-c61f-00347c4d0ba5"
      },
      "id": "thd274VliA9O",
      "execution_count": null,
      "outputs": [
        {
          "output_type": "display_data",
          "data": {
            "text/plain": [
              "<Figure size 1200x500 with 2 Axes>"
            ],
            "image/png": "[encoded data removed]"
          },
          "metadata": {}
        }
      ]
    }
  ],
  "metadata": {
    "kernelspec": {
      "display_name": "Python 3",
      "name": "python3"
    },
    "language_info": {
      "codemirror_mode": {
        "name": "ipython",
        "version": 3
      },
      "file_extension": ".py",
      "mimetype": "text/x-python",
      "name": "python",
      "nbconvert_exporter": "python",
      "pygments_lexer": "ipython3",
      "version": "3.11.5"
    },
    "colab": {
      "provenance": [],
      "gpuType": "T4"
    },
    "accelerator": "GPU"
  },
  "nbformat": 4,
  "nbformat_minor": 5
}