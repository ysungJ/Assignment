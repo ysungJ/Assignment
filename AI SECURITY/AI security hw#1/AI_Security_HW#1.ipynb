{
  "nbformat": 4,
  "nbformat_minor": 0,
  "metadata": {
    "colab": {
      "provenance": [],
      "gpuType": "T4"
    },
    "kernelspec": {
      "name": "python3",
      "display_name": "Python 3"
    },
    "language_info": {
      "name": "python"
    },
    "accelerator": "GPU"
  },
  "cells": [
    {
      "cell_type": "markdown",
      "source": [
        "#  AI 보안\n",
        "- 제공된 LeNet-5 모델 또는 코드를 수정해 CIFAR-10 데이터셋에서 테스트 정확도를 높이는 것을 목표로 함\n",
        "- 모델 구조 수정 및 다른 학습 기법을 자유롭게 적용\n",
        "- 재구성된 모델의 정확도가 기준 정확도(46.94%)를 넘을 경우 점수 부여"
      ],
      "metadata": {
        "id": "oiEWwt_CV4Zq"
      }
    },
    {
      "cell_type": "code",
      "execution_count": null,
      "metadata": {
        "id": "XLy_c4t9H4lM"
      },
      "outputs": [],
      "source": [
        "import os\n",
        "import torch\n",
        "import torch.nn as nn\n",
        "import torch.nn.functional as F\n",
        "import torch.optim as optim\n",
        "from torch.optim.lr_scheduler import OneCycleLR\n",
        "from torchvision import datasets, transforms\n",
        "from torch.utils.data import DataLoader\n",
        "import matplotlib.pyplot as plt"
      ]
    },
    {
      "cell_type": "markdown",
      "source": [
        "# 개요\n",
        " 기존에서 제공된 코드인 LeNet5의 구조조 한계를 극복하기 위해, 다양한 모델링을 적용하여 성능을 개선하고 정확도를 90%이상 달성하는게 목적입니다\n",
        "\n",
        "Resnet을 사용하여 구조를 개선하였고 이를 통하여 정확도 90퍼 달성하는것이 목적입니다."
      ],
      "metadata": {
        "id": "ngpmunfLRqnd"
      }
    },
    {
      "cell_type": "markdown",
      "source": [
        "# CIFAR-10 정의\n",
        "- CIFAR-1O 데이터 셋을 로드하고, 학습 및 테스트용으로 변환을 수행한 뒤, 데이터 로더(DataLoader)를 반환하는 역할을 한다.\n",
        "- CIFAR-10은 10개의 클래스로 이루어진 이미지 분류 데이터 셋, 각각의 이미지의 크기는 32 * 32 픽셀로 구성되어있다."
      ],
      "metadata": {
        "id": "dLIly5cMY3_1"
      }
    },
    {
      "cell_type": "code",
      "source": [
        "# 데이터셋 로드 함수 정의\n",
        "def load_CIFAR10(root_dataset, batch_size, width=32, height=32):\n",
        "     # 이미지에 대한 변환 작업 정의\n",
        "    image_transform = transforms.Compose([\n",
        "        transforms.RandomCrop(32, padding=4, padding_mode='reflect'), # 랜덤 크롭 후 패딩 추가\n",
        "        transforms.RandomHorizontalFlip(),  # 랜덤으로 수평 뒤집기\n",
        "        transforms.Resize((width, height)),  # 지정된 크기로 이미지 리사이즈\n",
        "        transforms.ToTensor(),   # 이미지를 Tensor 형태로 변환\n",
        "        transforms.Normalize((0.4914, 0.4822, 0.4465), (0.2023, 0.1994, 0.2010)), # 데이터 정규화 - 채널 평균과 표준 편차로 정규화\n",
        "    ])\n",
        "\n",
        "    # 테스트 데이터 변환 파이프라인 정의\n",
        "    test_transform = transforms.Compose([\n",
        "        transforms.Resize((width, height)), # 지정된 크기로 이미지 리사이주\n",
        "        transforms.ToTensor(),  # 이미지를 Tensor 형태로 변환\n",
        "        transforms.Normalize((0.4914, 0.4822, 0.4465), (0.2023, 0.1994, 0.2010)), # 데이터 정규화 - 채널 평균과 표준 편차로 정규화\n",
        "    ])\n",
        "\n",
        "    # CIFAR-10 훈련 데이터셋  및 테스트 데이터셋 로드\n",
        "    train_cifar10 = datasets.CIFAR10(root=root_dataset, train=True, download=True, transform=image_transform)\n",
        "    test_cifar10 = datasets.CIFAR10(root=root_dataset, train=False, download=True, transform=test_transform)\n",
        "\n",
        "    # 훈련 데이터 로더 및 테스트 데이터 로 생성\n",
        "    train_cifar10_loader = DataLoader(dataset=train_cifar10, batch_size=batch_size, shuffle=True, num_workers=4, pin_memory=True)\n",
        "    test_cifar10_loader = DataLoader(dataset=test_cifar10, batch_size=batch_size, shuffle=False, num_workers=4, pin_memory=True)\n",
        "\n",
        "     # 클래스 수 계산\n",
        "    nb_classes_cifar10 = len(test_cifar10.classes)\n",
        "\n",
        "    # 데이터 수 및 클래스 수 출력\n",
        "    print(f'\\nNumber of Train Data\\t: {len(train_cifar10_loader.dataset)}')\n",
        "    print(f'Number of Test Data\\t: {len(test_cifar10_loader.dataset)}')\n",
        "    print(f'Number of Classes\\t: {nb_classes_cifar10}')\n",
        "\n",
        "     # 훈련 및 테스트 데이터 로더와 클래스 수 반환\n",
        "    return train_cifar10_loader, test_cifar10_loader, nb_classes_cifar10"
      ],
      "metadata": {
        "id": "Xdl_xM2ZH6C3"
      },
      "execution_count": null,
      "outputs": []
    },
    {
      "cell_type": "markdown",
      "source": [
        "# GPU 사용\n",
        "\n",
        "- 딥러닝 모델을 효율적으로 학습하기 위해, 사용 가능한 장치를 자동으로 설정 및 데이터를 쉽게 이동하도록 정의함.\n",
        "\n",
        "- 데이터 로더를 래핑하여 GPU로의 데이터 전송을 간소화 하며, 학습과정에서 성능을 향상시킴."
      ],
      "metadata": {
        "id": "dXvT9W41bdiM"
      }
    },
    {
      "cell_type": "code",
      "source": [
        "# GPU 설정 함수\n",
        "def get_default_device():\n",
        "    return torch.device('cuda') if torch.cuda.is_available() else torch.device('cpu') # 사용할 수 있는 GPU가 있으면 CUDA 장치를 반환하고, 그렇지 않으면 CPU를 반환\n",
        "\n",
        "# 입력 데이터가 리스트나 튜플인 경우, 각각의 요소를 재귀적으로 to_device 호출\n",
        "def to_device(data, device):\n",
        "    if isinstance(data, (list, tuple)):\n",
        "        return [to_device(x, device) for x in data]\n",
        "    return data.to(device, non_blocking=True)  # 데이터 텐서를 지정된 장치로 이동 (비차단 모드)\n",
        "\n",
        "  # 데이터 로더(dl)와 이동할 장치(device) 저장\n",
        "class DeviceDataLoader():\n",
        "    def __init__(self, dl, device):\n",
        "        self.dl = dl\n",
        "        self.device = device\n",
        "\n",
        " # 데이터 로더에서 배치별로 데이터를 가져와서 지정된 장치로 전송\n",
        "    def __iter__(self):\n",
        "        for batch in self.dl:\n",
        "            yield to_device(batch, self.device)\n",
        "\n",
        "  # 데이터 로더의 길이 반환 (전체 배치 수)\n",
        "    def __len__(self):\n",
        "        return len(self.dl)"
      ],
      "metadata": {
        "id": "W21gAQzyNmmg"
      },
      "execution_count": null,
      "outputs": []
    },
    {
      "cell_type": "markdown",
      "source": [
        "# ResNet 모델(Residual Network)\n",
        "- 기울기 소실(Gradient Vanishing) 문제를 해결하기 위해 개발된 모델, 잔차 연결(Residual Connection)을 통해서 shortcut 연결을 추가하는 방식으로 학습 성능을 유지하거나 개선하는게 목적.\n",
        "-잔차 블록 때문에, 단순한 9, 18 Layer가 아니라 50, 101, 152Layer 등 더 깊은 신경망을 사용해도 성능이 더 개선될 수 있음.\n",
        "-즉, Resnet는 네트워크가 깊더라도 기울기 소실(Gradient Vanishing) 문제를 해결하거나 완화시켜주며, 네트워크 깊이를 더 확장해서 복잡한 데이터에서도 좋은 성능을 낼 수 있게 해줌.\n",
        "- 하지만 잔차블록은 보통 컨볼루션 레이어 2개이상 쌓아서 구성됨\n",
        "-밑에 코드는 직접적으로 잔차블록을 사용하지 않고 시퀀스 연결로 구성하여 만듬"
      ],
      "metadata": {
        "id": "oRsOvIoCZHF2"
      }
    },
    {
      "cell_type": "code",
      "source": [
        "# Conv Block 정의\n",
        "def conv_block(in_channels, out_channels, pool=False):\n",
        "     # 주어진 입력 채널 수와 출력 채널 수를 사용하여 컨볼루션 블록 생성\n",
        "    layers = [nn.Conv2d(in_channels, out_channels, kernel_size=3, padding=1),  # 3x3 컨볼루션\n",
        "              nn.BatchNorm2d(out_channels), # 배치 정규화\n",
        "              nn.ReLU(inplace=True)] #  ReLU 활성화 함수\n",
        "    if pool: # 풀링이 필요한 경우\n",
        "        layers.append(nn.MaxPool2d(2)) # 2x2 맥스 풀링 추가\n",
        "    return nn.Sequential(*layers) # 레이어를 순차적으로 연결하여 반환\n",
        "\n",
        "# ResNet9 모델 정의\n",
        "class ResNet9(nn.Module):\n",
        "    def __init__(self, in_channels, num_classes):\n",
        "        super().__init__() # 부모 클래스 초기화\n",
        "        self.conv1 = conv_block(in_channels, 64)  # 첫 번째 컨볼루션 블록\n",
        "        self.conv2 = conv_block(64, 128, pool=True) # 두 번째 컨볼루션 블록 (풀링 포함)\n",
        "        self.res1 = nn.Sequential(conv_block(128, 128), conv_block(128, 128))  # 첫 번째 잔차 블록\n",
        "        self.conv3 = conv_block(128, 256, pool=True) # 세 번째 컨볼루션 블록 (풀링 포함)\n",
        "        self.conv4 = conv_block(256, 512, pool=True) # 네 번째 컨볼루션 블록 (풀링 포함)\n",
        "        self.res2 = nn.Sequential(conv_block(512, 512), conv_block(512, 512)) # 두 번째 잔차 블록\n",
        "        self.classifier = nn.Sequential(nn.MaxPool2d(4),   # 4x4 맥스 풀링\n",
        "                                        nn.Flatten(), # 텐서를 1차원으로 변환\n",
        "                                        nn.Linear(512, num_classes)) # 최종 선형 계층\n",
        "\n",
        "    # Forward 함수 정의\n",
        "    def forward(self, xb):\n",
        "        out = self.conv1(xb)  # 첫 번째 컨볼루션 블록을 통과\n",
        "        out = self.conv2(out)  # 두 번째 컨볼루션 블록을 통과\n",
        "        out = self.res1(out) + out  # 첫 번째 잔차 블록을 통과하고 skip connection 추가\n",
        "        out = self.conv3(out)  # 세 번째 컨볼루션 블록을 통과\n",
        "        out = self.conv4(out)  # 네 번째 컨볼루션 블록을 통과\n",
        "        out = self.res2(out) + out  # 두 번째 잔차 블록을 통과하고 skip connection 추가\n",
        "        out = self.classifier(out)  # 분류기 통과\n",
        "        return out  # 출력 반환\n",
        "\n",
        "    # 훈련 단계, 각 배치에 대한 손실을 계산하는 함수\n",
        "    def training_step(self, batch):\n",
        "        images, labels = batch  # 배치에서 이미지와 레이블 추출\n",
        "        out = self(images)  # 모델에서 예측값을 생성\n",
        "        loss = F.cross_entropy(out, labels)  # 손실 계산 (크로스 엔트로피)\n",
        "        return loss  # 손실 반환\n",
        "\n",
        "    # 검증 단계. 각 배치에 대한 손실과 정확도를 계산하는 함수\n",
        "    def validation_step(self, batch):\n",
        "        images, labels = batch  # 배치에서 이미지와 레이블 추출\n",
        "        out = self(images)  # 모델에서 예측값을 생성\n",
        "        loss = F.cross_entropy(out, labels)  # 손실 계산 (크로스 엔트로피)\n",
        "        acc = accuracy(out, labels)  # 정확도 계산\n",
        "        return {'val_loss': loss.detach(), 'val_acc': acc}  # 손실과 정확도를 딕셔너리 형태로 반환\n",
        "\n",
        "    # 검증 단계의 모든 배치에 대한 결과를 집계, 에폭의 손실과 정확도를 계산하는 함수.\n",
        "    def validation_epoch_end(self, outputs):\n",
        "        batch_losses = [x['val_loss'] for x in outputs]  # 각 배치의 손실을 추출\n",
        "        epoch_loss = torch.stack(batch_losses).mean()  # 에포크 손실의 평균 계산\n",
        "        batch_accs = [x['val_acc'] for x in outputs]  # 각 배치의 정확도를 추출\n",
        "        epoch_acc = torch.stack(batch_accs).mean()  # 에포크 정확도의 평균 계산\n",
        "        return {'val_loss': epoch_loss.item(), 'val_acc': epoch_acc.item()}  # 평균 손실과 정확도를 반환"
      ],
      "metadata": {
        "id": "NGq3Rt0fH9RV"
      },
      "execution_count": null,
      "outputs": []
    },
    {
      "cell_type": "code",
      "source": [
        "# 학습률 스케줄러 및 옵티마이저 정의\n",
        "#파라미터에 대해 Adam 옵티마이저를 생성하고, max_lr를 학습률로 설정\n",
        "def get_optimizer(model, max_lr):\n",
        "    return torch.optim.Adam(model.parameters(), max_lr)\n"
      ],
      "metadata": {
        "id": "Bak3Fo_ONtLJ"
      },
      "execution_count": null,
      "outputs": []
    },
    {
      "cell_type": "code",
      "source": [
        "# 손실 및 정확도 계산 함수\n",
        "def accuracy(outputs, labels):\n",
        "    _, preds = torch.max(outputs, dim=1)  # 모델의 출력에서 예측된 클래스의 인덱스를 가져옴\n",
        "    return torch.tensor(torch.sum(preds == labels).item() / len(preds)) # preds와 labels를 비교 및 정확도 계산, 서로 같은 경우의 수를 세고, 전체 예측 수로 나누어 정확도를 구함.\n"
      ],
      "metadata": {
        "id": "Ny0N4t-8Nvvv"
      },
      "execution_count": null,
      "outputs": []
    },
    {
      "cell_type": "code",
      "source": [
        "# 모델 평가\n",
        "def evaluate(model, val_loader):\n",
        "    model.eval() # 모델을 평가 모드로 전환.\n",
        "    outputs = [model.validation_step(batch) for batch in val_loader] # 검증 데이터 로더를 통해 배치별로 검증 단계를 수행하고 결과를 저장.\n",
        "    return model.validation_epoch_end(outputs)  # validation_epoch_end함수 호출, 에포크의 결과를 종합적으로 계산."
      ],
      "metadata": {
        "id": "cC68a6wgOSst"
      },
      "execution_count": null,
      "outputs": []
    },
    {
      "cell_type": "markdown",
      "source": [
        "# 모델 학습 및 검증 과정 정의\n",
        "\n",
        "- 모델을 주어진 데이터로 학습하고 검증하는 코드\n",
        "- One Cycle 학습 방법을 통해 모델 학습 및 검증을 하며\n",
        "ResNet9 모델에 대한 훈련 및 검증 프로세스"
      ],
      "metadata": {
        "id": "47l1-SOIfS3V"
      }
    },
    {
      "cell_type": "code",
      "source": [
        "# 주어진 에폭 수 만큼 모델을 학습하고 검증.\n",
        "def fit_one_cycle(epochs, max_lr, model, train_loader, val_loader, grad_clip=None):\n",
        "    torch.cuda.empty_cache() # GPU 메모리 캐시를 비워서 메모리 확보\n",
        "    optimizer = get_optimizer(model, max_lr) # 옵티마이저 정의\n",
        "    sched = torch.optim.lr_scheduler.OneCycleLR(optimizer, max_lr, epochs=epochs, steps_per_epoch=len(train_loader))  # OneCycleLR 스케줄러 정의\n",
        "\n",
        "    history = []  # 에포크 결과를 저장할 리스트 초기화\n",
        "    for epoch in range(epochs):\n",
        "        model.train()  # 모델을 훈련 모드로 설정\n",
        "        train_losses = []  # 훈련 손실을 저장할 리스트 초기화\n",
        "        for batch in train_loader:\n",
        "            loss = model.training_step(batch) # 현재 배치에 대한 손실 계산\n",
        "            train_losses.append(loss) # 손실 리스트에 추가\n",
        "            loss.backward()  # 손실에 대한 기울기 계산\n",
        "\n",
        "            # 기울기 클러핑, 과도한 기울기 폭발을 방지.\n",
        "            if grad_clip:\n",
        "                nn.utils.clip_grad_value_(model.parameters(), grad_clip)\n",
        "\n",
        "            optimizer.step() # 옵티마이저를 사용하여 가중치 업데이트\n",
        "            optimizer.zero_grad()  # 기울기를 0으로 초기화\n",
        "            sched.step()  # 학습률 스케줄러 업데이트\n",
        "\n",
        "        # 검증 단계\n",
        "        result = evaluate(model, val_loader)\n",
        "        result['train_loss'] = torch.stack(train_losses).mean().item() # 평균 훈련 손실 계산\n",
        "\n",
        "        # 에포크 결과 출력\n",
        "        print(f'{epoch+1}/{epochs:5d}: Train Loss [{result[\"train_loss\"]:.2f}] / Test Loss [{result[\"val_loss\"]:.2f}], Test Accuracy [{result[\"val_acc\"]*100:.2f}%]')\n",
        "\n",
        "        history.append(result) # 현재 에포크 결과를 히스토리에 추가\n",
        "\n",
        "    return history  # 모든 에포크 결과 반환"
      ],
      "metadata": {
        "id": "vgZl71e4OTHE"
      },
      "execution_count": null,
      "outputs": []
    },
    {
      "cell_type": "markdown",
      "source": [
        "# 메인 함수\n",
        "\n",
        "- Cifar 10 데이터셋을 로드 및 모델 학습시키고 검증을 하는 메인함수  "
      ],
      "metadata": {
        "id": "RgqhP_OHhNBs"
      }
    },
    {
      "cell_type": "code",
      "source": [
        "# 메인 함수\n",
        "if __name__ == '__main__':\n",
        "    device = get_default_device()   # 사용할 기본 장치(GPU 또는 CPU) 설정\n",
        "\n",
        "     # 데이터셋 경로 및 하이퍼파라미터 설정\n",
        "    root_dataset = './cifar10'  # 데이터셋이 저장될 경로\n",
        "    batch_size = 400 # 배치 크기 설정\n",
        "    epochs = 20 # 에포크 수 설정\n",
        "    max_lr = 0.01 # 최대 학습률 설정\n",
        "\n",
        "\n",
        "    # CIFAR-10 데이터셋 로드\n",
        "    train_loader, test_loader, nb_classes = load_CIFAR10(root_dataset, batch_size)\n",
        "\n",
        "    # 데이터 로더를 지정된 장치로 전송\n",
        "    train_loader = DeviceDataLoader(train_loader, device)\n",
        "    test_loader = DeviceDataLoader(test_loader, device)\n",
        "\n",
        "    # ResNet9 모델을 장치에 맞게 초기화, 3은 입력 클래스\n",
        "    model = to_device(ResNet9(3, nb_classes), device)\n",
        "\n",
        "    # 모델 학습 및 검증 실행\n",
        "    history = fit_one_cycle(epochs, max_lr, model, train_loader, test_loader)"
      ],
      "metadata": {
        "id": "RfqPCO8PIDvi",
        "colab": {
          "base_uri": "https://localhost:8080/"
        },
        "outputId": "2edf0e58-243e-4402-9531-fe80e314695d"
      },
      "execution_count": null,
      "outputs": [
        {
          "output_type": "stream",
          "name": "stdout",
          "text": [
            "Downloading https://www.cs.toronto.edu/~kriz/cifar-10-python.tar.gz to ./cifar10/cifar-10-python.tar.gz\n"
          ]
        },
        {
          "output_type": "stream",
          "name": "stderr",
          "text": [
            "100%|██████████| 170498071/170498071 [00:04<00:00, 41817057.88it/s]\n"
          ]
        },
        {
          "output_type": "stream",
          "name": "stdout",
          "text": [
            "Extracting ./cifar10/cifar-10-python.tar.gz to ./cifar10\n",
            "Files already downloaded and verified\n"
          ]
        },
        {
          "output_type": "stream",
          "name": "stderr",
          "text": [
            "/usr/local/lib/python3.10/dist-packages/torch/utils/data/dataloader.py:557: UserWarning: This DataLoader will create 4 worker processes in total. Our suggested max number of worker in current system is 2, which is smaller than what this DataLoader is going to create. Please be aware that excessive worker creation might get DataLoader running slow or even freeze, lower the worker number to avoid potential slowness/freeze if necessary.\n",
            "  warnings.warn(_create_warning_msg(\n"
          ]
        },
        {
          "output_type": "stream",
          "name": "stdout",
          "text": [
            "\n",
            "Number of Train Data\t: 50000\n",
            "Number of Test Data\t: 10000\n",
            "Number of Classes\t: 10\n",
            "1/   20: Train Loss [1.31] / Test Loss [1.11], Test Accuracy [60.82%]\n",
            "2/   20: Train Loss [0.86] / Test Loss [0.91], Test Accuracy [67.84%]\n",
            "3/   20: Train Loss [0.72] / Test Loss [1.01], Test Accuracy [68.55%]\n",
            "4/   20: Train Loss [0.64] / Test Loss [0.86], Test Accuracy [72.71%]\n",
            "5/   20: Train Loss [0.61] / Test Loss [0.66], Test Accuracy [78.98%]\n",
            "6/   20: Train Loss [0.50] / Test Loss [0.70], Test Accuracy [79.51%]\n",
            "7/   20: Train Loss [0.42] / Test Loss [0.96], Test Accuracy [75.86%]\n",
            "8/   20: Train Loss [0.36] / Test Loss [0.43], Test Accuracy [85.89%]\n",
            "9/   20: Train Loss [0.30] / Test Loss [0.40], Test Accuracy [86.88%]\n",
            "10/   20: Train Loss [0.26] / Test Loss [0.37], Test Accuracy [88.06%]\n",
            "11/   20: Train Loss [0.21] / Test Loss [0.36], Test Accuracy [88.68%]\n",
            "12/   20: Train Loss [0.18] / Test Loss [0.35], Test Accuracy [89.01%]\n",
            "13/   20: Train Loss [0.14] / Test Loss [0.31], Test Accuracy [90.46%]\n",
            "14/   20: Train Loss [0.11] / Test Loss [0.30], Test Accuracy [91.21%]\n",
            "15/   20: Train Loss [0.08] / Test Loss [0.28], Test Accuracy [91.33%]\n",
            "16/   20: Train Loss [0.06] / Test Loss [0.26], Test Accuracy [92.13%]\n",
            "17/   20: Train Loss [0.05] / Test Loss [0.26], Test Accuracy [92.52%]\n",
            "18/   20: Train Loss [0.04] / Test Loss [0.25], Test Accuracy [92.54%]\n",
            "19/   20: Train Loss [0.03] / Test Loss [0.25], Test Accuracy [92.71%]\n",
            "20/   20: Train Loss [0.03] / Test Loss [0.25], Test Accuracy [92.82%]\n"
          ]
        }
      ]
    },
    {
      "cell_type": "markdown",
      "source": [
        "# 시각화 (Visualization)\n",
        "- 학습 손실과 검증 손실을 시각화\n",
        "- 정확도 시각화"
      ],
      "metadata": {
        "id": "BxiBSbY2YTD1"
      }
    },
    {
      "cell_type": "code",
      "source": [
        "# 손실 시각화 (Train Loss 및 Test Loss)\n",
        "train_losses = [x.get('train_loss') for x in history]  # 각 에포크에서의 train_loss\n",
        "val_losses = [x.get('val_loss') for x in history]  # 각 에포크에서의 val_loss\n",
        "\n",
        "plt.figure()\n",
        "plt.title('Train vs Test Loss')\n",
        "plt.xlabel('Epoch')\n",
        "plt.ylabel('Loss')\n",
        "plt.plot(train_losses, label='Train Loss', color='blue')\n",
        "plt.plot(val_losses, label='Test Loss', color='red')\n",
        "plt.legend()\n",
        "plt.show()\n"
      ],
      "metadata": {
        "id": "ibX4tarJIGak",
        "colab": {
          "base_uri": "https://localhost:8080/",
          "height": 472
        },
        "outputId": "610f9fd9-ad3d-43cd-8203-a1c61f6e4f22"
      },
      "execution_count": null,
      "outputs": [
        {
          "output_type": "display_data",
          "data": {
            "text/plain": [
              "<Figure size 640x480 with 1 Axes>"
            ],
            "image/png": "[encoded data removed]"
          },
          "metadata": {}
        }
      ]
    },
    {
      "cell_type": "code",
      "source": [
        "# 정확도 시각화 (Test Accuracy)\n",
        "val_accuracies = [x.get('val_acc') for x in history]  # 각 에포크에서의 val_acc\n",
        "\n",
        "plt.figure()\n",
        "plt.title('Test Accuracy')\n",
        "plt.xlabel('Epoch')\n",
        "plt.ylabel('Accuracy')\n",
        "plt.plot(val_accuracies, label='Test Accuracy', color='green')\n",
        "plt.legend()\n",
        "plt.show()"
      ],
      "metadata": {
        "id": "EfbAL8u7Spuv",
        "colab": {
          "base_uri": "https://localhost:8080/",
          "height": 472
        },
        "outputId": "cbded063-7afa-44de-c73b-7b5c172d90c5"
      },
      "execution_count": null,
      "outputs": [
        {
          "output_type": "display_data",
          "data": {
            "text/plain": [
              "<Figure size 640x480 with 1 Axes>"
            ],
            "image/png": "[encoded data removed]"
          },
          "metadata": {}
        }
      ]
    }
  ]
}