{
  "cells": [
    {
      "cell_type": "markdown",
      "metadata": {
        "id": "PcIm4-pperqe"
      },
      "source": [
        "# 00. 개발 환경 설정"
      ]
    },
    {
      "cell_type": "markdown",
      "metadata": {
        "id": "oq3UTYbpfIWz"
      },
      "source": [
        "## 00-0. 필요 라이브러리 설치"
      ]
    },
    {
      "cell_type": "code",
      "execution_count": 1,
      "metadata": {
        "colab": {
          "base_uri": "https://localhost:8080/"
        },
        "id": "IlbI9lmLaYxV",
        "outputId": "f4ea9796-4d50-467b-d5b5-335ce511ea7b"
      },
      "outputs": [
        {
          "output_type": "stream",
          "name": "stdout",
          "text": [
            "Requirement already satisfied: pandas in /usr/local/lib/python3.10/dist-packages (2.2.2)\n",
            "Requirement already satisfied: matplotlib in /usr/local/lib/python3.10/dist-packages (3.7.1)\n",
            "Requirement already satisfied: scikit-learn in /usr/local/lib/python3.10/dist-packages (1.5.2)\n",
            "Requirement already satisfied: numpy>=1.22.4 in /usr/local/lib/python3.10/dist-packages (from pandas) (1.26.4)\n",
            "Requirement already satisfied: python-dateutil>=2.8.2 in /usr/local/lib/python3.10/dist-packages (from pandas) (2.8.2)\n",
            "Requirement already satisfied: pytz>=2020.1 in /usr/local/lib/python3.10/dist-packages (from pandas) (2024.2)\n",
            "Requirement already satisfied: tzdata>=2022.7 in /usr/local/lib/python3.10/dist-packages (from pandas) (2024.2)\n",
            "Requirement already satisfied: contourpy>=1.0.1 in /usr/local/lib/python3.10/dist-packages (from matplotlib) (1.3.0)\n",
            "Requirement already satisfied: cycler>=0.10 in /usr/local/lib/python3.10/dist-packages (from matplotlib) (0.12.1)\n",
            "Requirement already satisfied: fonttools>=4.22.0 in /usr/local/lib/python3.10/dist-packages (from matplotlib) (4.54.1)\n",
            "Requirement already satisfied: kiwisolver>=1.0.1 in /usr/local/lib/python3.10/dist-packages (from matplotlib) (1.4.7)\n",
            "Requirement already satisfied: packaging>=20.0 in /usr/local/lib/python3.10/dist-packages (from matplotlib) (24.1)\n",
            "Requirement already satisfied: pillow>=6.2.0 in /usr/local/lib/python3.10/dist-packages (from matplotlib) (10.4.0)\n",
            "Requirement already satisfied: pyparsing>=2.3.1 in /usr/local/lib/python3.10/dist-packages (from matplotlib) (3.1.4)\n",
            "Requirement already satisfied: scipy>=1.6.0 in /usr/local/lib/python3.10/dist-packages (from scikit-learn) (1.13.1)\n",
            "Requirement already satisfied: joblib>=1.2.0 in /usr/local/lib/python3.10/dist-packages (from scikit-learn) (1.4.2)\n",
            "Requirement already satisfied: threadpoolctl>=3.1.0 in /usr/local/lib/python3.10/dist-packages (from scikit-learn) (3.5.0)\n",
            "Requirement already satisfied: six>=1.5 in /usr/local/lib/python3.10/dist-packages (from python-dateutil>=2.8.2->pandas) (1.16.0)\n"
          ]
        }
      ],
      "source": [
        "!pip3 install pandas matplotlib scikit-learn"
      ]
    },
    {
      "cell_type": "markdown",
      "metadata": {
        "id": "iZzJkOj1ezLN"
      },
      "source": [
        "## 00-1. 라이브러리 import"
      ]
    },
    {
      "cell_type": "code",
      "execution_count": 2,
      "metadata": {
        "id": "NUVh695PaW_A"
      },
      "outputs": [],
      "source": [
        "import torch\n",
        "from torch import nn, optim\n",
        "from torch.utils.data import DataLoader, Dataset\n",
        "\n",
        "import pandas as pd\n",
        "import numpy as np\n",
        "import matplotlib.pyplot as plt\n",
        "\n",
        "from sklearn.model_selection import train_test_split\n",
        "from sklearn.preprocessing import LabelEncoder\n",
        "import re\n",
        "from collections import Counter"
      ]
    },
    {
      "cell_type": "markdown",
      "metadata": {
        "id": "PLyGEpaMe8vA"
      },
      "source": [
        "## 00-3. 학습 디바이스 정의"
      ]
    },
    {
      "cell_type": "code",
      "execution_count": 3,
      "metadata": {
        "colab": {
          "base_uri": "https://localhost:8080/"
        },
        "id": "pNRFHY7yeaSl",
        "outputId": "d2580ba4-b334-4e6c-cde5-bfaa316c724d"
      },
      "outputs": [
        {
          "output_type": "stream",
          "name": "stdout",
          "text": [
            "Now using cuda.\n"
          ]
        }
      ],
      "source": [
        "device = torch.device('cuda' if torch.cuda.is_available() else 'cpu')\n",
        "print(f\"Now using {device}.\")"
      ]
    },
    {
      "cell_type": "markdown",
      "metadata": {
        "id": "ImR6mmLze_cO"
      },
      "source": [
        "# 01. 학습 준비"
      ]
    },
    {
      "cell_type": "markdown",
      "metadata": {
        "id": "lhi8y79_fZ7h"
      },
      "source": [
        "## 01-1. 데이터셋 로드"
      ]
    },
    {
      "cell_type": "code",
      "execution_count": 4,
      "metadata": {
        "colab": {
          "base_uri": "https://localhost:8080/"
        },
        "id": "nGFpDkE4zZvZ",
        "outputId": "5d2b79b8-aced-4f55-e3bf-a767096ac6a0"
      },
      "outputs": [
        {
          "output_type": "stream",
          "name": "stdout",
          "text": [
            "Drive already mounted at /content/drive; to attempt to forcibly remount, call drive.mount(\"/content/drive\", force_remount=True).\n"
          ]
        }
      ],
      "source": [
        "from google.colab import drive\n",
        "drive.mount('/content/drive')"
      ]
    },
    {
      "cell_type": "code",
      "execution_count": 5,
      "metadata": {
        "colab": {
          "base_uri": "https://localhost:8080/"
        },
        "id": "ldzjj-PFxkRn",
        "outputId": "816ae824-2cc6-4bfa-b79f-74b7412365e9"
      },
      "outputs": [
        {
          "output_type": "stream",
          "name": "stdout",
          "text": [
            "                                              review sentiment\n",
            "0  One of the other reviewers has mentioned that ...  positive\n",
            "1  A wonderful little production. <br /><br />The...  positive\n",
            "2  I thought this was a wonderful way to spend ti...  positive\n",
            "3  Basically there's a family where a little boy ...  negative\n",
            "4  Petter Mattei's \"Love in the Time of Money\" is...  positive\n"
          ]
        }
      ],
      "source": [
        "# 본인 환경에 맞게 조정\n",
        "file_path = '/content/drive/MyDrive/실습/IMDB.csv'\n",
        "\n",
        "df = pd.read_csv(file_path)\n",
        "\n",
        "print(df.head())"
      ]
    },
    {
      "cell_type": "markdown",
      "metadata": {
        "id": "z6Dxkg_9Str1"
      },
      "source": [
        "## 01-02. 데이터셋 전처리"
      ]
    },
    {
      "cell_type": "code",
      "execution_count": 6,
      "metadata": {
        "colab": {
          "base_uri": "https://localhost:8080/"
        },
        "id": "DuleFdo8xmJS",
        "outputId": "f4714f6f-bfb4-4581-a148-b1eaaaa1fd5e"
      },
      "outputs": [
        {
          "output_type": "stream",
          "name": "stdout",
          "text": [
            "Vocabulary Size: 35706\n"
          ]
        }
      ],
      "source": [
        "def text_cleaning(text):\n",
        "    text = re.sub(r'<[^>]+>', '', text)\n",
        "    text = re.sub(r'[^a-zA-Z]', ' ', text)\n",
        "    text = text.lower()\n",
        "    text = text.split()\n",
        "    return ' '.join(text)\n",
        "\n",
        "df['review'] = df['review'].apply(text_cleaning)\n",
        "\n",
        "label_encoder = LabelEncoder()\n",
        "df['sentiment'] = label_encoder.fit_transform(df['sentiment'])\n",
        "\n",
        "text = df['review'].tolist()\n",
        "label = df['sentiment'].tolist()\n",
        "\n",
        "x_train, x_test, y_train, y_test = train_test_split(text, label, test_size=0.2, random_state=42, shuffle=True)\n",
        "\n",
        "def build_vocab(data, min_freq=5):\n",
        "    counter = Counter()\n",
        "\n",
        "    for review in data:\n",
        "        words = review.split()\n",
        "        counter.update(words)\n",
        "\n",
        "    vocab = {'<unk>': 0}\n",
        "    index = 1\n",
        "\n",
        "    for word, count in counter.items():\n",
        "        if count >= min_freq:\n",
        "            vocab[word] = index\n",
        "            index += 1\n",
        "\n",
        "    return vocab\n",
        "\n",
        "vocab = build_vocab(x_train)\n",
        "\n",
        "print(f\"Vocabulary Size: {len(vocab)}\")"
      ]
    },
    {
      "cell_type": "code",
      "execution_count": 7,
      "metadata": {
        "id": "buJwUwOc2Izz"
      },
      "outputs": [],
      "source": [
        "def get_avg_length(text_list):\n",
        "    avg_length = 0\n",
        "    for sentence in text_list:\n",
        "        tokens = sentence.split()\n",
        "        avg_length += len(tokens)\n",
        "\n",
        "    avg_length /= len(text_list)\n",
        "    return int(avg_length)\n",
        "\n",
        "def pad_sequence(seq, max_length, pad_value=0):\n",
        "    if len(seq) < max_length:\n",
        "        return seq + [pad_value] * (max_length - len(seq))\n",
        "    else:\n",
        "        return seq[:max_length]\n",
        "\n",
        "def text_encoding(text_list, vocab, max_length):\n",
        "    encoded_padded_sequences = []\n",
        "\n",
        "    for sentence in text_list:\n",
        "        encoded_sentence = [vocab.get(word, vocab['<unk>']) for word in sentence.split()]\n",
        "        padded_sentence = pad_sequence(encoded_sentence, max_length)\n",
        "        encoded_padded_sequences.append(padded_sentence)\n",
        "\n",
        "    return encoded_padded_sequences\n",
        "\n",
        "x_train = text_encoding(x_train, vocab, max_length=get_avg_length(x_train))\n",
        "x_test = text_encoding(x_test, vocab, max_length=get_avg_length(x_test))"
      ]
    },
    {
      "cell_type": "code",
      "execution_count": 8,
      "metadata": {
        "id": "tDyt1E170XTP"
      },
      "outputs": [],
      "source": [
        "class IMDBDataset(Dataset):\n",
        "    def __init__(self, text_encoded, label):\n",
        "        self.text_encoded = text_encoded\n",
        "        self.label = label\n",
        "\n",
        "    def __len__(self):\n",
        "        return len(self.label)\n",
        "\n",
        "    def __getitem__(self, idx):\n",
        "        review = self.text_encoded[idx]  # 리뷰 텍스트\n",
        "        label = self.label[idx]   # 감정 라벨\n",
        "        return review, label\n",
        "\n",
        "train_dataset = IMDBDataset(torch.tensor(x_train), torch.tensor(y_train))\n",
        "train_loader = DataLoader(train_dataset, batch_size=1024, shuffle=True)\n",
        "\n",
        "test_dataset = IMDBDataset(torch.tensor(x_test), torch.tensor(y_test))\n",
        "test_loader = DataLoader(test_dataset, batch_size=1024, shuffle=True)"
      ]
    },
    {
      "cell_type": "markdown",
      "metadata": {
        "id": "Ofe5mD3lTeTN"
      },
      "source": [
        "# 02. 모델 준비"
      ]
    },
    {
      "cell_type": "markdown",
      "metadata": {
        "id": "YCmxQsRcTgeT"
      },
      "source": [
        "## 02-01. RNN"
      ]
    },
    {
      "cell_type": "code",
      "execution_count": 9,
      "metadata": {
        "id": "LIeECl_HXP93"
      },
      "outputs": [],
      "source": [
        "import torch.nn as nn\n",
        "import torch\n",
        "\n",
        "class RNNModel(nn.Module):\n",
        "    def __init__(self, input_dim, embedding_dim, hidden_dim, output_dim, padding_idx=0):\n",
        "        super(RNNModel, self).__init__()\n",
        "\n",
        "        self.embedding = nn.Embedding(input_dim, embedding_dim, padding_idx=padding_idx)\n",
        "        self.rnn = nn.RNN(embedding_dim, hidden_dim, batch_first=True)\n",
        "        self.fc = nn.Linear(hidden_dim, output_dim)\n",
        "        self.padding_idx = padding_idx\n",
        "\n",
        "    def forward(self, text):\n",
        "        lengths = (text != self.padding_idx).sum(dim=1)\n",
        "        embedded = self.embedding(text)\n",
        "\n",
        "        packed_embedded = nn.utils.rnn.pack_padded_sequence(embedded, lengths.cpu(), batch_first=True, enforce_sorted=False)\n",
        "\n",
        "        packed_output, hidden = self.rnn(packed_embedded)  # RNN에서는 hidden만 반환\n",
        "\n",
        "        output, _ = nn.utils.rnn.pad_packed_sequence(packed_output, batch_first=True)\n",
        "\n",
        "        batch_size = text.size(0)\n",
        "        idx = torch.arange(batch_size)\n",
        "        last_outputs = output[idx, lengths - 1, :]\n",
        "\n",
        "        output = self.fc(last_outputs)\n",
        "        return output"
      ]
    },
    {
      "cell_type": "code",
      "execution_count": 15,
      "metadata": {
        "colab": {
          "base_uri": "https://localhost:8080/"
        },
        "id": "HzKPT-30ZAZM",
        "outputId": "c8ba5040-b566-48f6-8b2f-ac0248b86a4d"
      },
      "outputs": [
        {
          "output_type": "execute_result",
          "data": {
            "text/plain": [
              "RNNModel(\n",
              "  (embedding): Embedding(35706, 32, padding_idx=0)\n",
              "  (rnn): RNN(32, 16, batch_first=True)\n",
              "  (fc): Linear(in_features=16, out_features=1, bias=True)\n",
              ")"
            ]
          },
          "metadata": {},
          "execution_count": 15
        }
      ],
      "source": [
        "vocab_size = len(vocab)\n",
        "embed_size = 32\n",
        "hidden_size = 16\n",
        "output_size = 1\n",
        "\n",
        "model = RNNModel(vocab_size, embed_size, hidden_size, output_size).to(device)\n",
        "\n",
        "model"
      ]
    },
    {
      "cell_type": "markdown",
      "metadata": {
        "id": "Qt2reYWXTmWX"
      },
      "source": [
        "# 03. 모델 학습"
      ]
    },
    {
      "cell_type": "code",
      "execution_count": 17,
      "metadata": {
        "colab": {
          "base_uri": "https://localhost:8080/"
        },
        "id": "RxD_DacsTun2",
        "outputId": "5e37713d-fa43-4d24-87e4-5319a2915d29"
      },
      "outputs": [
        {
          "output_type": "stream",
          "name": "stdout",
          "text": [
            "Epoch 1, Train Loss: 0.692, Validation Loss: 0.690, Validation Accuracy: 53.18%\n",
            "Epoch 2, Train Loss: 0.688, Validation Loss: 0.688, Validation Accuracy: 53.77%\n",
            "Epoch 3, Train Loss: 0.686, Validation Loss: 0.686, Validation Accuracy: 54.62%\n",
            "Epoch 4, Train Loss: 0.681, Validation Loss: 0.682, Validation Accuracy: 55.85%\n",
            "Epoch 5, Train Loss: 0.675, Validation Loss: 0.675, Validation Accuracy: 57.71%\n"
          ]
        }
      ],
      "source": [
        "epochs = 5\n",
        "loss_fn = nn.BCEWithLogitsLoss()\n",
        "optimizer = optim.Adam(model.parameters(), lr=0.001)\n",
        "\n",
        "def train(model, data_loader, optimizer, loss_fn):\n",
        "    model.train()\n",
        "    total_loss = 0\n",
        "    correct = 0\n",
        "\n",
        "    for batch in data_loader:\n",
        "        text, label = batch\n",
        "        text = text.to(device)\n",
        "        label = label.to(device)\n",
        "        label = label.unsqueeze(1).float()\n",
        "        optimizer.zero_grad()\n",
        "        output = model(text)\n",
        "        loss = loss_fn(output, label)\n",
        "        loss.backward()\n",
        "        optimizer.step()\n",
        "        total_loss += loss.item()\n",
        "\n",
        "    return total_loss / len(data_loader)\n",
        "\n",
        "def evaluate(model, data_loader, loss_fn):\n",
        "    model.eval()\n",
        "    total_loss = 0\n",
        "    correct = 0\n",
        "    with torch.no_grad():\n",
        "        for batch in data_loader:\n",
        "            text, label = batch\n",
        "            text = text.to(device)\n",
        "            label = label.to(device)\n",
        "            label = label.unsqueeze(1).float()\n",
        "            output = model(text)\n",
        "            loss = loss_fn(output, label)\n",
        "            total_loss += loss.item()\n",
        "            predictions = torch.round(torch.sigmoid(output))\n",
        "            correct += (predictions == label).float().sum()\n",
        "\n",
        "    return total_loss / len(data_loader), correct / len(data_loader.dataset)\n",
        "\n",
        "train_losses = []\n",
        "val_losses = []\n",
        "val_accuracies = []\n",
        "for epoch in range(epochs):\n",
        "    train_loss = train(model, train_loader, optimizer, loss_fn)\n",
        "    val_loss, val_acc = evaluate(model, test_loader, loss_fn)\n",
        "    print(f'Epoch {epoch+1}, Train Loss: {train_loss:.3f}, Validation Loss: {val_loss:.3f}, Validation Accuracy: {val_acc*100:.2f}%')\n",
        "\n",
        "    train_losses.append(train_loss)\n",
        "    val_losses.append(val_loss)\n",
        "    val_accuracies.append(val_acc.detach().cpu())"
      ]
    },
    {
      "cell_type": "markdown",
      "metadata": {
        "id": "aFi5Bq7VT8PP"
      },
      "source": [
        "# 05. 결과 시각화"
      ]
    },
    {
      "cell_type": "markdown",
      "metadata": {
        "id": "1sGyFfzHUBQr"
      },
      "source": [
        "## 05-01. 학습 결과"
      ]
    },
    {
      "cell_type": "code",
      "execution_count": 18,
      "metadata": {
        "id": "ZTjBp4skopIi",
        "colab": {
          "base_uri": "https://localhost:8080/",
          "height": 542
        },
        "outputId": "0058aadb-418c-471d-f8a3-475a2044753f"
      },
      "outputs": [
        {
          "output_type": "display_data",
          "data": {
            "text/plain": [
              "<Figure size 1200x600 with 2 Axes>"
            ],
            "image/png": "[encoded data removed]"
          },
          "metadata": {}
        }
      ],
      "source": [
        "# 손실 및 정확도 시각화\n",
        "plt.figure(figsize=(12, 6))\n",
        "\n",
        "# 손실 그래프\n",
        "plt.subplot(1, 2, 1)\n",
        "plt.plot(range(1, epochs+1), train_losses, label='Train Loss')\n",
        "plt.plot(range(1, epochs+1), val_losses, label='Validation Loss')\n",
        "plt.xlabel('Epochs')\n",
        "plt.ylabel('Loss')\n",
        "plt.legend()\n",
        "\n",
        "# 정확도 그래프\n",
        "plt.subplot(1, 2, 2)\n",
        "plt.plot(range(1, epochs+1), val_accuracies, label='Validation Accuracy')\n",
        "plt.xlabel('Epochs')\n",
        "plt.ylabel('Accuracy')\n",
        "plt.legend()\n",
        "\n",
        "plt.show()\n"
      ]
    }
  ],
  "metadata": {
    "accelerator": "GPU",
    "colab": {
      "gpuType": "T4",
      "provenance": []
    },
    "kernelspec": {
      "display_name": "Python 3",
      "name": "python3"
    },
    "language_info": {
      "name": "python"
    }
  },
  "nbformat": 4,
  "nbformat_minor": 0
}