{
  "nbformat": 4,
  "nbformat_minor": 0,
  "metadata": {
    "colab": {
      "provenance": [],
      "machine_shape": "hm",
      "gpuType": "A100"
    },
    "kernelspec": {
      "name": "python3",
      "display_name": "Python 3"
    },
    "language_info": {
      "name": "python"
    },
    "accelerator": "GPU"
  },
  "cells": [
    {
      "cell_type": "markdown",
      "source": [
        "# **AI 보안 과제2**\n",
        "\n",
        "RNN 성능 개선\n",
        "\n",
        "학번 : 2019253084 이름 : 전유성\n",
        "- 제공된 모델 또는 코드를 수정해 IMDB 데이터셋에서 테스트 정확도를 높이는 것을 목표로 함\n",
        "- 모델 구조 수정 및 다른 학습 기법을 \"자유롭게\" 적용"
      ],
      "metadata": {
        "id": "MEfMusWTlxwX"
      }
    },
    {
      "cell_type": "markdown",
      "source": [
        "#1. 필요한 라이브러리 설치 및 라이브러리 사용."
      ],
      "metadata": {
        "id": "4kNWp0qgmHds"
      }
    },
    {
      "cell_type": "code",
      "execution_count": 25,
      "metadata": {
        "colab": {
          "base_uri": "https://localhost:8080/"
        },
        "id": "kgZk2Re5gI4i",
        "outputId": "0f1b104e-d6d6-4fa9-e398-fafd0aa5f0cd"
      },
      "outputs": [
        {
          "output_type": "stream",
          "name": "stdout",
          "text": [
            "Requirement already satisfied: pandas in /usr/local/lib/python3.10/dist-packages (2.2.2)\n",
            "Requirement already satisfied: matplotlib in /usr/local/lib/python3.10/dist-packages (3.7.1)\n",
            "Requirement already satisfied: scikit-learn in /usr/local/lib/python3.10/dist-packages (1.5.2)\n",
            "Requirement already satisfied: transformers in /usr/local/lib/python3.10/dist-packages (4.44.2)\n",
            "Requirement already satisfied: numpy>=1.22.4 in /usr/local/lib/python3.10/dist-packages (from pandas) (1.26.4)\n",
            "Requirement already satisfied: python-dateutil>=2.8.2 in /usr/local/lib/python3.10/dist-packages (from pandas) (2.8.2)\n",
            "Requirement already satisfied: pytz>=2020.1 in /usr/local/lib/python3.10/dist-packages (from pandas) (2024.2)\n",
            "Requirement already satisfied: tzdata>=2022.7 in /usr/local/lib/python3.10/dist-packages (from pandas) (2024.2)\n",
            "Requirement already satisfied: contourpy>=1.0.1 in /usr/local/lib/python3.10/dist-packages (from matplotlib) (1.3.0)\n",
            "Requirement already satisfied: cycler>=0.10 in /usr/local/lib/python3.10/dist-packages (from matplotlib) (0.12.1)\n",
            "Requirement already satisfied: fonttools>=4.22.0 in /usr/local/lib/python3.10/dist-packages (from matplotlib) (4.54.1)\n",
            "Requirement already satisfied: kiwisolver>=1.0.1 in /usr/local/lib/python3.10/dist-packages (from matplotlib) (1.4.7)\n",
            "Requirement already satisfied: packaging>=20.0 in /usr/local/lib/python3.10/dist-packages (from matplotlib) (24.1)\n",
            "Requirement already satisfied: pillow>=6.2.0 in /usr/local/lib/python3.10/dist-packages (from matplotlib) (10.4.0)\n",
            "Requirement already satisfied: pyparsing>=2.3.1 in /usr/local/lib/python3.10/dist-packages (from matplotlib) (3.1.4)\n",
            "Requirement already satisfied: scipy>=1.6.0 in /usr/local/lib/python3.10/dist-packages (from scikit-learn) (1.13.1)\n",
            "Requirement already satisfied: joblib>=1.2.0 in /usr/local/lib/python3.10/dist-packages (from scikit-learn) (1.4.2)\n",
            "Requirement already satisfied: threadpoolctl>=3.1.0 in /usr/local/lib/python3.10/dist-packages (from scikit-learn) (3.5.0)\n",
            "Requirement already satisfied: filelock in /usr/local/lib/python3.10/dist-packages (from transformers) (3.16.1)\n",
            "Requirement already satisfied: huggingface-hub<1.0,>=0.23.2 in /usr/local/lib/python3.10/dist-packages (from transformers) (0.24.7)\n",
            "Requirement already satisfied: pyyaml>=5.1 in /usr/local/lib/python3.10/dist-packages (from transformers) (6.0.2)\n",
            "Requirement already satisfied: regex!=2019.12.17 in /usr/local/lib/python3.10/dist-packages (from transformers) (2024.9.11)\n",
            "Requirement already satisfied: requests in /usr/local/lib/python3.10/dist-packages (from transformers) (2.32.3)\n",
            "Requirement already satisfied: safetensors>=0.4.1 in /usr/local/lib/python3.10/dist-packages (from transformers) (0.4.5)\n",
            "Requirement already satisfied: tokenizers<0.20,>=0.19 in /usr/local/lib/python3.10/dist-packages (from transformers) (0.19.1)\n",
            "Requirement already satisfied: tqdm>=4.27 in /usr/local/lib/python3.10/dist-packages (from transformers) (4.66.5)\n",
            "Requirement already satisfied: fsspec>=2023.5.0 in /usr/local/lib/python3.10/dist-packages (from huggingface-hub<1.0,>=0.23.2->transformers) (2024.6.1)\n",
            "Requirement already satisfied: typing-extensions>=3.7.4.3 in /usr/local/lib/python3.10/dist-packages (from huggingface-hub<1.0,>=0.23.2->transformers) (4.12.2)\n",
            "Requirement already satisfied: six>=1.5 in /usr/local/lib/python3.10/dist-packages (from python-dateutil>=2.8.2->pandas) (1.16.0)\n",
            "Requirement already satisfied: charset-normalizer<4,>=2 in /usr/local/lib/python3.10/dist-packages (from requests->transformers) (3.3.2)\n",
            "Requirement already satisfied: idna<4,>=2.5 in /usr/local/lib/python3.10/dist-packages (from requests->transformers) (3.10)\n",
            "Requirement already satisfied: urllib3<3,>=1.21.1 in /usr/local/lib/python3.10/dist-packages (from requests->transformers) (2.2.3)\n",
            "Requirement already satisfied: certifi>=2017.4.17 in /usr/local/lib/python3.10/dist-packages (from requests->transformers) (2024.8.30)\n"
          ]
        }
      ],
      "source": [
        "!pip3 install pandas matplotlib scikit-learn transformers"
      ]
    },
    {
      "cell_type": "code",
      "source": [
        "import torch\n",
        "from torch import nn, optim\n",
        "from torch.utils.data import DataLoader, Dataset\n",
        "from transformers import BertTokenizer, BertModel\n",
        "import pandas as pd\n",
        "import re\n",
        "import matplotlib.pyplot as plt\n",
        "from sklearn.model_selection import train_test_split\n",
        "from sklearn.preprocessing import LabelEncoder"
      ],
      "metadata": {
        "id": "2vYygNlRgMKy"
      },
      "execution_count": 26,
      "outputs": []
    },
    {
      "cell_type": "code",
      "source": [
        "device = torch.device('cuda' if torch.cuda.is_available() else 'cpu')\n",
        "print(f\"Now using {device}.\")\n",
        "\n",
        "from google.colab import drive\n",
        "drive.mount('/content/drive')\n",
        "file_path = '/content/drive/MyDrive/ai보안 데이터셋/IMDB.csv'\n"
      ],
      "metadata": {
        "colab": {
          "base_uri": "https://localhost:8080/"
        },
        "id": "dUgXOdPMhPIm",
        "outputId": "c798a375-6b88-4f2b-aa0b-b3af8b530d6a"
      },
      "execution_count": 27,
      "outputs": [
        {
          "output_type": "stream",
          "name": "stdout",
          "text": [
            "Now using cuda.\n",
            "Drive already mounted at /content/drive; to attempt to forcibly remount, call drive.mount(\"/content/drive\", force_remount=True).\n"
          ]
        }
      ]
    },
    {
      "cell_type": "markdown",
      "source": [
        "# 2. CSV 파일을 읽고 텍스트 전처리\n",
        "\n",
        "- CSV파일을 읽어와서 텍스트 전처리를 합니다.\n",
        "- 텍스트 전처리할 때에는 HTML 태그 제거: r'<[^>]+>' 정규식을 사용해 HTML 태그를 모두 제거, 알파벳 외의 모든 문자를 공백으로 변환,\n",
        "소문자로 변환하여 일관성 유지, 단어를 공백 기준으로 나누고, 다시 하나의 문자열로 결합합니다."
      ],
      "metadata": {
        "id": "Z3t0dCRpmTiY"
      }
    },
    {
      "cell_type": "code",
      "source": [
        "df = pd.read_csv(file_path)\n",
        "def text_cleaning(text):\n",
        "    text = re.sub(r'<[^>]+>', '', text) # HTML 태그 제거\n",
        "    text = re.sub(r'[^a-zA-Z]', ' ', text) # 알파벳 이외의 문자 제거\n",
        "    text = text.lower()  # 모든 텍스트를 소문자로 변환\n",
        "    text = text.split()  # 공백 기준으로 단어 분리\n",
        "    return ' '.join(text) # 단어들을 다시 공백으로 연결하여 반환\n",
        "\n",
        "df['review'] = df['review'].apply(text_cleaning) # 리뷰 데이터 정제 적용\n",
        "\n",
        "label_encoder = LabelEncoder() # 레이블 인코딩, 긍정은 1 부정은 0로 변환\n",
        "df['sentiment'] = label_encoder.fit_transform(df['sentiment'])\n",
        "\n",
        "tokenizer = BertTokenizer.from_pretrained('bert-base-uncased') # BERT 토크나이저 로드\n",
        "MAX_LEN = 200 # 리뷰 길이 설정\n",
        "\n",
        "#  토큰화 및 패딩 함수 정의\n",
        "def tokenize_and_pad(text, tokenizer, max_length):\n",
        "    return tokenizer(text, padding='max_length', truncation=True, max_length=max_length, return_tensors=\"pt\")['input_ids']\n",
        "\n",
        "# 리뷰 데이터에 토큰화 및 패딩 적용\n",
        "df['input_ids'] = df['review'].apply(lambda x: tokenize_and_pad(x, tokenizer, MAX_LEN).squeeze(0).tolist())\n",
        "\n",
        "# 데이터셋 분할 8 대 2 비율\n",
        "train_df, test_df = train_test_split(df, test_size=0.2, random_state=42)\n"
      ],
      "metadata": {
        "colab": {
          "base_uri": "https://localhost:8080/"
        },
        "id": "pH5ld2AYhQ9D",
        "outputId": "b5fcd0fc-fe5b-4469-8e7f-4cce875208cc"
      },
      "execution_count": 28,
      "outputs": [
        {
          "output_type": "stream",
          "name": "stderr",
          "text": [
            "/usr/local/lib/python3.10/dist-packages/transformers/tokenization_utils_base.py:1601: FutureWarning: `clean_up_tokenization_spaces` was not set. It will be set to `True` by default. This behavior will be depracted in transformers v4.45, and will be then set to `False` by default. For more details check this issue: https://github.com/huggingface/transformers/issues/31884\n",
            "  warnings.warn(\n"
          ]
        }
      ]
    },
    {
      "cell_type": "markdown",
      "source": [
        "# 3.IMDB 데이터셋의 PyTorch Dataset 및 DataLoader 정의\n",
        "\n",
        "- DataFrame에서 데이터를 PyTorch가 처리할 수 있는 형태로 변환\n",
        "- 데이터를 모델 학습과 평가에 더 효율적으로 공급하기 위해서 사용"
      ],
      "metadata": {
        "id": "pVKaPc_9pLhE"
      }
    },
    {
      "cell_type": "code",
      "source": [
        "class IMDBDataset(Dataset):\n",
        "    def __init__(self, dataframe):\n",
        "        self.input_ids = dataframe['input_ids'].tolist()  # input_ids 데이터를 리스트로 저장.\n",
        "        self.labels = dataframe['sentiment'].tolist()  # 레이블 데이터를 리스트로 저장.\n",
        "\n",
        "    def __len__(self):\n",
        "        return len(self.labels)  # 데이터셋의 전체 길이(샘플 수)를 반환.\n",
        "\n",
        "    def __getitem__(self, idx):\n",
        "        input_ids = torch.tensor(self.input_ids[idx], dtype=torch.long)  # 해당 인덱스의 input_ids를 텐서로 변환.\n",
        "        label = torch.tensor(self.labels[idx], dtype=torch.float)  # 해당 인덱스의 레이블을 텐서로 변환.\n",
        "        return input_ids, label  # input_ids와 레이블을 반환.\n",
        "\n",
        "train_dataset = IMDBDataset(train_df)  # 학습용 데이터셋 객체를 생성\n",
        "test_dataset = IMDBDataset(test_df)  # 테스트용 데이터셋 객체를 생성\n",
        "\n",
        "# 훈련 및 테스트를 위한 데이터를 로더\n",
        "train_loader = DataLoader(train_dataset, batch_size=128, shuffle=True)\n",
        "test_loader = DataLoader(test_dataset, batch_size=128, shuffle=False)\n",
        "\n"
      ],
      "metadata": {
        "id": "1a8DwWpihW-j"
      },
      "execution_count": 29,
      "outputs": []
    },
    {
      "cell_type": "markdown",
      "source": [
        "# 4. 모델링 설명\n",
        "BERT + GRU 결합한 모델\n",
        "\n",
        "- GRU는 RNN 기반의 모델로 순차적 의존성을 학습 그리고 기존의 RNN 모델의 기울기 소실 문제를 해결하기 위한 게이트 매커니즘을 도입한 모델\n",
        "\n",
        "- BERT는 트랜스포머 기반 모델이기에 RNN모델이 아니지만 병럴 처리가 가능하며 순차적 의존성을 따르지 않음 하지만 BERT 출력을 하여 GRU에 시퀀스의 시간적 흐름을 전달하여 학습함.\n",
        "\n",
        "- RNN 모델인 이유 : BERT쪽은 텍스트 임베딩을 생성하는 역할만 하고, 순환적 의존성 학습은 GRU에서 수행하고 양방향 GRU이기 때문에 텍스트의 앞뒤 맥락을 모두 학습하여 시퀸스 모델링을 강화하여 RNN모델 계열임."
      ],
      "metadata": {
        "id": "Kye8GGrCrnpg"
      }
    },
    {
      "cell_type": "code",
      "source": [
        "class BertGRUModel(nn.Module):  # nn.Module을 상속하여 모델을 정의.\n",
        "    def __init__(self, bert_model, hidden_dim, output_dim, dropout):\n",
        "        super(BertGRUModel, self).__init__()  # 부모 클래스 초기화.\n",
        "        self.bert = bert_model  # 사전 학습된 BERT 모델을 할당.\n",
        "        self.embedding_dim = bert_model.config.hidden_size  # BERT 임베딩 차원 저장.\n",
        "\n",
        "        # BERT의 모든 파라미터의 학습을 고정.\n",
        "        for param in self.bert.parameters():\n",
        "            param.requires_grad = False\n",
        "\n",
        "        # 양방향 GRU 정의 (batch_first=True로 배치가 첫 번째 차원).\n",
        "        self.gru = nn.GRU(self.embedding_dim, hidden_dim, num_layers=1,\n",
        "                          bidirectional=True, batch_first=True)\n",
        "\n",
        "        # GRU의 양방향 hidden state를 받아 출력으로 변환할 fully connected layer.\n",
        "        self.fc = nn.Linear(hidden_dim * 2, output_dim)\n",
        "\n",
        "        #  과적합 방지를 위하여 드롭아웃 레이어를 설정.\n",
        "        self.dropout = nn.Dropout(dropout)\n",
        "\n",
        "    def forward(self, text):  # 순전파 함수 정의.\n",
        "        with torch.no_grad():  # BERT는 학습되지 않도록 설정.\n",
        "            embedded = self.bert(text)[0]  # BERT의 마지막 은닉 상태 텐서.\n",
        "\n",
        "        # GRU에 임베딩 텐서를 전달해 순환 신경망 처리.\n",
        "        gru_out, hidden = self.gru(embedded)\n",
        "\n",
        "        # 양방향 GRU의 마지막 두 hidden state를 결합.\n",
        "        hidden = self.dropout(torch.cat((hidden[-2, :, :], hidden[-1, :, :]), dim=1))\n",
        "\n",
        "        # 최종 fully connected layer를 통해 예측값을 반환.\n",
        "        return self.fc(hidden)\n"
      ],
      "metadata": {
        "id": "jTQFqJPChYqI"
      },
      "execution_count": 30,
      "outputs": []
    },
    {
      "cell_type": "code",
      "source": [
        "#하이퍼 파라미터 정의\n",
        "hidden_dim = 128  # GRU의 은닉 차원의 크기를 128로 설정.\n",
        "output_dim = 1  # 이진 분류(긍정/부정)를 위해 설정.\n",
        "dropout = 0.5  # 과적합 방지을 위해 설정.\n",
        "\n",
        "#BERT 모델 로드 및 BERT-GRU 모델 초기화\n",
        "bert_model = BertModel.from_pretrained('bert-base-uncased')  # 사전 학습된 BERT 모델 로드\n",
        "model = BertGRUModel(bert_model, hidden_dim, output_dim, dropout).to(device) # BERT-GRU 모델 초기화 및 디바이스로 이동\n",
        "\n",
        "criterion = nn.BCEWithLogitsLoss() # 이진 분류 문제를 위한 손실 함수.\n",
        "optimizer = optim.Adam(model.parameters(), lr=1e-3, weight_decay=1e-5) # 최적화 알고리즘 정의 및 학습률 가중치 감쇠 설정.\n",
        "\n",
        "scheduler = optim.lr_scheduler.ReduceLROnPlateau(optimizer, mode='min', factor=0.1, patience=3, verbose=True) # Learning Rate Scheduler 정의로 성능 개선 없으면 학습률을 줄임.\n",
        "\n"
      ],
      "metadata": {
        "id": "yU-Veb_rhcgA"
      },
      "execution_count": 31,
      "outputs": []
    },
    {
      "cell_type": "markdown",
      "source": [
        "# 5. 평가 및 학습  \n",
        "- train() 함수: 모델을 학습 모드로 전환하고, 옵티마이저와 손실 함수를 사용해 모델의 가중치를 업데이트. 매 배치에서 손실을 계산하고 기울기를 업데이트하며, 한 에폭의 평균 손실을 반환함.\n",
        "\n",
        "- evaluate() 함수:모델을 평가 모드로 전환하고, 테스트 데이터셋에서 손실과 정확도를 계산. 기울기 계산을 비활성화하여 메모리 사용량을 줄임.예측값을 0 또는 1로 반올림하여 정확한 샘플 수를 계산하고, 최종 평균 손실과 정확도를 반환함."
      ],
      "metadata": {
        "id": "o7oOM7LQt__5"
      }
    },
    {
      "cell_type": "code",
      "source": [
        "def train(model, iterator, optimizer, criterion):\n",
        "    model.train()  # 모델을 학습 모드로 전환\n",
        "    epoch_loss = 0  # 에폭 동안의 총 손실을 저장할 변수 초기화.\n",
        "\n",
        "    # 데이터셋의 각 배치에 대해 반복.\n",
        "    for text, label in iterator:\n",
        "        text = text.to(device)  # 입력 텍스트를 GPU 또는 CPU로 이동.\n",
        "        label = label.to(device).unsqueeze(1)  # 레이블을 디바이스로 이동하고 차원을 확장합.\n",
        "\n",
        "        optimizer.zero_grad()  # 이전 배치의 기울기를 초기화.\n",
        "        output = model(text)  # 텍스트를 입력하여 예측값 얻음.\n",
        "        loss = criterion(output, label)  # 예측값과 레이블 간의 손실을 계산.\n",
        "\n",
        "        loss.backward()  # 손실에 대한 기울기를 계산.\n",
        "        optimizer.step()  # 옵티마이저를 통해 가중치를 업데이트.\n",
        "\n",
        "        epoch_loss += loss.item()  # 배치 손실을 누적.\n",
        "\n",
        "    # 전체 배치의 평균 손실을 반환.\n",
        "    return epoch_loss / len(iterator)\n",
        "\n",
        "def evaluate(model, iterator, criterion):\n",
        "    model.eval()  # 모델을 평가 모드로 전환.\n",
        "    epoch_loss = 0  # 에폭 동안의 총 손실을 저장할 변수를 초기화합니다.\n",
        "    correct = 0  # 정확하게 예측한 샘플 수를 저장할 변수를 초기화합니다.\n",
        "\n",
        "    with torch.no_grad():  # 평가 중에는 기울기를 계산하지 않습니다.\n",
        "        # 데이터셋의 각 배치에 대해 반복합니다.\n",
        "        for text, label in iterator:\n",
        "            text = text.to(device)  # 입력 텍스트를 GPU 또는 CPU로 이동합니다.\n",
        "            label = label.to(device).unsqueeze(1)  # 레이블을 디바이스로 이동하고 차원을 확장합니다.\n",
        "\n",
        "            output = model(text)  # 모델에 텍스트를 입력하여 예측값을 얻습니다.\n",
        "            loss = criterion(output, label)  # 예측값과 레이블 간의 손실을 계산합니다.\n",
        "            epoch_loss += loss.item()  # 배치 손실을 누적합니다.\n",
        "\n",
        "            # 출력에 시그모이드를 적용하고, 0.5 이상이면 1로, 미만이면 0으로 예측합니다.\n",
        "            predictions = torch.round(torch.sigmoid(output))\n",
        "\n",
        "            # 예측값과 실제 레이블이 일치하는 샘플 수를 누적합니다.\n",
        "            correct += (predictions == label).sum().item()\n",
        "\n",
        "    # 전체 배치의 평균 손실과 정확도를 반환합니다.\n",
        "    return epoch_loss / len(iterator), correct / len(iterator.dataset)"
      ],
      "metadata": {
        "id": "X_vaxr5ZheaA"
      },
      "execution_count": 32,
      "outputs": []
    },
    {
      "cell_type": "markdown",
      "source": [
        "# **6. 메인**\n",
        "- 모델 학습 루프 및 조기 종료 적용\n",
        "- BERT-GRU 모델의 학습과 평가를 여러번 반복하여 학습하다가 성능이 개선되지 않으면 학습을 조기 종료함."
      ],
      "metadata": {
        "id": "UXyhXbSgxzpv"
      }
    },
    {
      "cell_type": "code",
      "source": [
        "num_epochs = 5  # 에포크 수 정의 10번 반복 훈련.\n",
        "best_valid_acc = 0  # 가장 높은 검증 정확도를 저장할 변수를 초기화.\n",
        "patience = 5  # 조기 종료를 위한 값 설정 성능 개선이 없을 때, 기달릴 최대 에폭수 .\n",
        "\n",
        "# 시각화를 위한 정의\n",
        "train_losses = []  # 각 에폭의 학습 손실을 저장할 리스트를 초기화.\n",
        "valid_losses = []  # 각 에폭의 검증 손실을 저장할 리스트를 초기화.\n",
        "valid_accuracies = []  # 각 에폭의 검증 정확도를 저장할 리스트를 초기화.\n",
        "\n",
        "# 반복 학습.\n",
        "for epoch in range(num_epochs):\n",
        "    # 한 에폭 동안 학습을 수행하고 평균 학습 손실을 계산.\n",
        "    train_loss = train(model, train_loader, optimizer, criterion)\n",
        "    # 한 에폭 동안 검증을 수행하고 검증 손실과 정확도를 계산.\n",
        "    valid_loss, valid_acc = evaluate(model, test_loader, criterion)\n",
        "\n",
        "    train_losses.append(train_loss)  # 학습 손실을 리스트에 저장.\n",
        "    valid_losses.append(valid_loss)  # 검증 손실을 리스트에 저장.\n",
        "    valid_accuracies.append(valid_acc)  # 검증 정확도를 리스트에 저장.\n",
        "\n",
        "    # 학습률 스케줄러를 사용해 검증 손실에 따라 학습률을 조정.\n",
        "    scheduler.step(valid_loss)\n",
        "\n",
        "    # 검증 정확도가 최고 기록을 갱신하면, best_valid_acc를 업데이트.\n",
        "    if valid_acc > best_valid_acc:\n",
        "        best_valid_acc = valid_acc\n",
        "\n",
        "    # Early Stopping 조건을 체크.\n",
        "    if epoch >= patience and valid_acc <= best_valid_acc:\n",
        "        print(f\"Early stopping at epoch {epoch+1}\")  # Early Stopping 메시지를 출력.\n",
        "        break  # 성능 개선이 없으면 학습을 조기 종료.\n",
        "\n",
        "    # 에폭 번호, 학습 및 검증 손실, 검증 정확도를 출력.\n",
        "    print(f'Epoch {epoch+1}, Train Loss: {train_loss:.3f}, Validation Loss: {valid_loss:.3f}, Validation Accuracy: {valid_acc*100:.2f}%')\n"
      ],
      "metadata": {
        "colab": {
          "base_uri": "https://localhost:8080/"
        },
        "id": "PyAZDTADhf3b",
        "outputId": "f147e1a6-e9d1-453a-b783-1ddb24b44775"
      },
      "execution_count": 33,
      "outputs": [
        {
          "output_type": "stream",
          "name": "stdout",
          "text": [
            "Epoch 1, Train Loss: 0.413, Validation Loss: 0.292, Validation Accuracy: 88.10%\n",
            "Epoch 2, Train Loss: 0.281, Validation Loss: 0.260, Validation Accuracy: 89.28%\n",
            "Epoch 3, Train Loss: 0.251, Validation Loss: 0.245, Validation Accuracy: 89.91%\n",
            "Epoch 4, Train Loss: 0.231, Validation Loss: 0.261, Validation Accuracy: 89.10%\n",
            "Epoch 5, Train Loss: 0.211, Validation Loss: 0.245, Validation Accuracy: 90.38%\n"
          ]
        }
      ]
    },
    {
      "cell_type": "markdown",
      "source": [
        "# 7.시각화"
      ],
      "metadata": {
        "id": "QcCJQeySqYtu"
      }
    },
    {
      "cell_type": "code",
      "source": [
        "plt.figure(figsize=(12, 5))\n",
        "plt.subplot(1, 2, 1)\n",
        "plt.plot(train_losses, label='Train Loss')\n",
        "plt.plot(valid_losses, label='Validation Loss')\n",
        "plt.xlabel('Epoch')\n",
        "plt.ylabel('Loss')\n",
        "plt.legend()\n",
        "plt.subplot(1, 2, 2)\n",
        "plt.plot(valid_accuracies, label='Validation Accuracy')\n",
        "plt.xlabel('Epoch')\n",
        "plt.ylabel('Accuracy')\n",
        "plt.legend()\n",
        "plt.show()"
      ],
      "metadata": {
        "colab": {
          "base_uri": "https://localhost:8080/",
          "height": 465
        },
        "id": "qCnN1BOYhh7z",
        "outputId": "c3992887-d7ab-487a-c833-d17d2cb6ebfb"
      },
      "execution_count": 34,
      "outputs": [
        {
          "output_type": "display_data",
          "data": {
            "text/plain": [
              "<Figure size 1200x500 with 2 Axes>"
            ],
            "image/png": "[encoded data removed]"
          },
          "metadata": {}
        }
      ]
    }
  ]
}