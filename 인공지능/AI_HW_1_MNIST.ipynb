{
  "cells": [
    {
      "cell_type": "markdown",
      "metadata": {
        "id": "BlVB-0z21czX"
      },
      "source": [
        "텐서플로우를 이용하여 MNIST구현"
      ]
    },
    {
      "cell_type": "code",
      "execution_count": 3,
      "metadata": {
        "colab": {
          "base_uri": "https://localhost:8080/"
        },
        "id": "emq2MYIp02aW",
        "outputId": "f61e757b-e480-4d7f-cc47-c93ed6a3df34"
      },
      "outputs": [
        {
          "name": "stdout",
          "output_type": "stream",
          "text": [
            "Drive already mounted at /content/drive; to attempt to forcibly remount, call drive.mount(\"/content/drive\", force_remount=True).\n"
          ]
        }
      ],
      "source": [
        "from google.colab import drive\n",
        "drive.mount('/content/drive')\n",
        "\n",
        "import numpy as np\n",
        "import time\n",
        "import tensorflow as tf\n",
        "from tensorflow.keras import layers, models\n",
        "from tensorflow import keras\n",
        "from tensorflow.keras.layers import Input\n",
        "from tensorflow.keras.layers import Dense\n",
        "from tensorflow.keras.models import Model\n"
      ]
    },
    {
      "cell_type": "markdown",
      "metadata": {
        "id": "HncmsiRj68CK"
      },
      "source": [
        "데이터 읽기, 함수, 초기화 및 정규화 정의\n"
      ]
    },
    {
      "cell_type": "code",
      "execution_count": 4,
      "metadata": {
        "id": "nJWswQ-91rjn"
      },
      "outputs": [],
      "source": [
        "# 1. 데이터 읽기 및 전처리 함수 정의\n",
        "def load_and_preprocess_data(file_path):\n",
        "    with open(file_path, \"r\") as fp:\n",
        "        lines = fp.readlines()\n",
        "\n",
        "    # 데이터를 저장할 리스트 초기화\n",
        "    x_data = []\n",
        "    y_data = []\n",
        "\n",
        "    for i in range(0, len(lines), 29):  # 한 예제는 29줄로 이루어짐\n",
        "        label = int(lines[i].strip())\n",
        "        y_data.append(label)\n",
        "\n",
        "        image_lines = lines[i + 1:i + 29]  # 이미지 데이터는 1부터 28번째 줄까지\n",
        "        image = []\n",
        "        for line in image_lines:\n",
        "            image += [float(pixel) / 255 for pixel in line.split()]  # 정규화\n",
        "        x_data.append(image)\n",
        "\n",
        "    return np.array(x_data), np.array(y_data)"
      ]
    },
    {
      "cell_type": "markdown",
      "metadata": {
        "id": "JtapAEKe7EA_"
      },
      "source": [
        "파일 불러오기 및 훈련 테스트 8:2로 나누기"
      ]
    },
    {
      "cell_type": "code",
      "execution_count": 5,
      "metadata": {
        "id": "W7JauothCjiX"
      },
      "outputs": [],
      "source": [
        "# 2. 데이터 로드\n",
        "train_data_path = \"/content/drive/MyDrive/인공지능실습/mnist_train.txt\"\n",
        "test_data_path = \"/content/drive/MyDrive/인공지능실습/mnist_test.txt\"\n",
        "\n",
        "x_train, y_train = load_and_preprocess_data(train_data_path)\n",
        "x_test, y_test = load_and_preprocess_data(test_data_path)\n",
        "\n",
        "# 3. 데이터를 훈련 및 검증 세트로 나눔 (80% 학습, 20% 검증)\n",
        "split_index = int(0.8 * len(x_train))\n",
        "x_val, y_val = x_train[split_index:], y_train[split_index:]\n",
        "x_train, y_train = x_train[:split_index], y_train[:split_index]"
      ]
    },
    {
      "cell_type": "markdown",
      "metadata": {
        "id": "2iIDBVep91cX"
      },
      "source": [
        "훈련 테스트\n"
      ]
    },
    {
      "cell_type": "code",
      "execution_count": 6,
      "metadata": {
        "id": "_xwokVke2oWH"
      },
      "outputs": [],
      "source": [
        "# 4. 모델 정의\n",
        "model = models.Sequential([\n",
        "    layers.Input(shape=(784,)),\n",
        "    layers.Dense(256, activation='relu'),\n",
        "    layers.Dense(128, activation='relu'),\n",
        "    layers.Dense(10, activation='softmax')\n",
        "])\n",
        "\n",
        "# 5. 모델 컴파일\n",
        "model.compile(optimizer='adam',\n",
        "              loss='sparse_categorical_crossentropy',\n",
        "              metrics=['accuracy'])"
      ]
    },
    {
      "cell_type": "code",
      "execution_count": 7,
      "metadata": {
        "colab": {
          "base_uri": "https://localhost:8080/"
        },
        "id": "E6UwHPwWHPfz",
        "outputId": "22dabaa2-5d9c-418c-83a4-d9b50836ac9c"
      },
      "outputs": [
        {
          "name": "stdout",
          "output_type": "stream",
          "text": [
            "Epoch 1/10\n",
            "1500/1500 [==============================] - 11s 7ms/step - loss: 0.2274 - accuracy: 0.9327 - val_loss: 0.1207 - val_accuracy: 0.9643\n",
            "Epoch 2/10\n",
            "1500/1500 [==============================] - 11s 7ms/step - loss: 0.0913 - accuracy: 0.9720 - val_loss: 0.1190 - val_accuracy: 0.9652\n",
            "Epoch 3/10\n",
            "1500/1500 [==============================] - 12s 8ms/step - loss: 0.0613 - accuracy: 0.9808 - val_loss: 0.0883 - val_accuracy: 0.9736\n",
            "Epoch 4/10\n",
            "1500/1500 [==============================] - 11s 7ms/step - loss: 0.0456 - accuracy: 0.9854 - val_loss: 0.0984 - val_accuracy: 0.9732\n",
            "Epoch 5/10\n",
            "1500/1500 [==============================] - 9s 6ms/step - loss: 0.0375 - accuracy: 0.9884 - val_loss: 0.0780 - val_accuracy: 0.9781\n",
            "Epoch 6/10\n",
            "1500/1500 [==============================] - 11s 8ms/step - loss: 0.0268 - accuracy: 0.9911 - val_loss: 0.0979 - val_accuracy: 0.9753\n",
            "Epoch 7/10\n",
            "1500/1500 [==============================] - 11s 7ms/step - loss: 0.0238 - accuracy: 0.9916 - val_loss: 0.1229 - val_accuracy: 0.9743\n",
            "Epoch 8/10\n",
            "1500/1500 [==============================] - 10s 7ms/step - loss: 0.0219 - accuracy: 0.9926 - val_loss: 0.1189 - val_accuracy: 0.9746\n",
            "Epoch 9/10\n",
            "1500/1500 [==============================] - 10s 7ms/step - loss: 0.0181 - accuracy: 0.9939 - val_loss: 0.0993 - val_accuracy: 0.9786\n",
            "Epoch 10/10\n",
            "1500/1500 [==============================] - 11s 8ms/step - loss: 0.0153 - accuracy: 0.9949 - val_loss: 0.1350 - val_accuracy: 0.9735\n",
            "313/313 - 1s - loss: 0.1180 - accuracy: 0.9755 - 792ms/epoch - 3ms/step\n",
            "Test accuracy: 97.55%\n"
          ]
        }
      ],
      "source": [
        "# 6. 모델 훈련\n",
        "batch_size = 32\n",
        "epochs = 10\n",
        "\n",
        "history = model.fit(x_train, y_train, batch_size=batch_size, epochs=epochs,\n",
        "                    validation_data=(x_val, y_val))\n",
        "\n",
        "# 7. 모델 평가\n",
        "test_loss, test_accuracy = model.evaluate(x_test, y_test, verbose=2)\n",
        "print(f'Test accuracy: {test_accuracy * 100:.2f}%')"
      ]
    },
    {
      "cell_type": "markdown",
      "metadata": {
        "id": "J6y4b4tJoUx5"
      },
      "source": [
        "모델 1 정의 및 테스트\n",
        "층 개수는 2개, 층들의 크기는 16, 10"
      ]
    },
    {
      "cell_type": "code",
      "execution_count": 10,
      "metadata": {
        "colab": {
          "base_uri": "https://localhost:8080/"
        },
        "id": "Z_u4YkD1KDyO",
        "outputId": "684b73f7-1854-4532-e93d-61f7a17b6565"
      },
      "outputs": [
        {
          "name": "stdout",
          "output_type": "stream",
          "text": [
            "Model: \"model_2\"\n",
            "_________________________________________________________________\n",
            " Layer (type)                Output Shape              Param #   \n",
            "=================================================================\n",
            " input_4 (InputLayer)        [(None, 784)]             0         \n",
            "                                                                 \n",
            " dense_8 (Dense)             (None, 16)                12560     \n",
            "                                                                 \n",
            " dense_9 (Dense)             (None, 10)                170       \n",
            "                                                                 \n",
            "=================================================================\n",
            "Total params: 12730 (49.73 KB)\n",
            "Trainable params: 12730 (49.73 KB)\n",
            "Non-trainable params: 0 (0.00 Byte)\n",
            "_________________________________________________________________\n",
            "Epoch 1/30\n",
            "1500/1500 [==============================] - 4s 2ms/step - loss: 0.4801 - accuracy: 0.8673 - val_loss: 0.2766 - val_accuracy: 0.9213\n",
            "Epoch 2/30\n",
            "1500/1500 [==============================] - 5s 3ms/step - loss: 0.2735 - accuracy: 0.9229 - val_loss: 0.2469 - val_accuracy: 0.9316\n",
            "Epoch 3/30\n",
            "1500/1500 [==============================] - 3s 2ms/step - loss: 0.2381 - accuracy: 0.9327 - val_loss: 0.2230 - val_accuracy: 0.9388\n",
            "Epoch 4/30\n",
            "1500/1500 [==============================] - 4s 2ms/step - loss: 0.2146 - accuracy: 0.9386 - val_loss: 0.2079 - val_accuracy: 0.9426\n",
            "Epoch 5/30\n",
            "1500/1500 [==============================] - 4s 3ms/step - loss: 0.1976 - accuracy: 0.9430 - val_loss: 0.2045 - val_accuracy: 0.9423\n",
            "Epoch 6/30\n",
            "1500/1500 [==============================] - 4s 3ms/step - loss: 0.1845 - accuracy: 0.9469 - val_loss: 0.1931 - val_accuracy: 0.9457\n",
            "Epoch 7/30\n",
            "1500/1500 [==============================] - 3s 2ms/step - loss: 0.1747 - accuracy: 0.9484 - val_loss: 0.1919 - val_accuracy: 0.9457\n",
            "Epoch 8/30\n",
            "1500/1500 [==============================] - 3s 2ms/step - loss: 0.1652 - accuracy: 0.9514 - val_loss: 0.1879 - val_accuracy: 0.9483\n",
            "Epoch 9/30\n",
            "1500/1500 [==============================] - 5s 3ms/step - loss: 0.1597 - accuracy: 0.9535 - val_loss: 0.1809 - val_accuracy: 0.9489\n",
            "Epoch 10/30\n",
            "1500/1500 [==============================] - 4s 2ms/step - loss: 0.1530 - accuracy: 0.9555 - val_loss: 0.1803 - val_accuracy: 0.9498\n",
            "Epoch 11/30\n",
            "1500/1500 [==============================] - 4s 2ms/step - loss: 0.1470 - accuracy: 0.9565 - val_loss: 0.1774 - val_accuracy: 0.9480\n",
            "Epoch 12/30\n",
            "1500/1500 [==============================] - 4s 3ms/step - loss: 0.1417 - accuracy: 0.9583 - val_loss: 0.1720 - val_accuracy: 0.9517\n",
            "Epoch 13/30\n",
            "1500/1500 [==============================] - 5s 3ms/step - loss: 0.1368 - accuracy: 0.9601 - val_loss: 0.1723 - val_accuracy: 0.9513\n",
            "Epoch 14/30\n",
            "1500/1500 [==============================] - 4s 2ms/step - loss: 0.1332 - accuracy: 0.9605 - val_loss: 0.1752 - val_accuracy: 0.9498\n",
            "Epoch 15/30\n",
            "1500/1500 [==============================] - 4s 2ms/step - loss: 0.1298 - accuracy: 0.9612 - val_loss: 0.1843 - val_accuracy: 0.9485\n",
            "Epoch 16/30\n",
            "1500/1500 [==============================] - 5s 4ms/step - loss: 0.1262 - accuracy: 0.9626 - val_loss: 0.1749 - val_accuracy: 0.9512\n",
            "Epoch 17/30\n",
            "1500/1500 [==============================] - 3s 2ms/step - loss: 0.1229 - accuracy: 0.9630 - val_loss: 0.1751 - val_accuracy: 0.9501\n",
            "Epoch 18/30\n",
            "1500/1500 [==============================] - 4s 2ms/step - loss: 0.1212 - accuracy: 0.9638 - val_loss: 0.1774 - val_accuracy: 0.9512\n",
            "Epoch 19/30\n",
            "1500/1500 [==============================] - 4s 3ms/step - loss: 0.1184 - accuracy: 0.9647 - val_loss: 0.1762 - val_accuracy: 0.9493\n",
            "Epoch 20/30\n",
            "1500/1500 [==============================] - 5s 3ms/step - loss: 0.1162 - accuracy: 0.9653 - val_loss: 0.1771 - val_accuracy: 0.9489\n",
            "Epoch 21/30\n",
            "1500/1500 [==============================] - 4s 2ms/step - loss: 0.1139 - accuracy: 0.9648 - val_loss: 0.1777 - val_accuracy: 0.9489\n",
            "Epoch 22/30\n",
            "1500/1500 [==============================] - 4s 2ms/step - loss: 0.1125 - accuracy: 0.9659 - val_loss: 0.1791 - val_accuracy: 0.9494\n",
            "Epoch 23/30\n",
            "1500/1500 [==============================] - 5s 3ms/step - loss: 0.1094 - accuracy: 0.9672 - val_loss: 0.1758 - val_accuracy: 0.9517\n",
            "Epoch 24/30\n",
            "1500/1500 [==============================] - 4s 3ms/step - loss: 0.1078 - accuracy: 0.9676 - val_loss: 0.1764 - val_accuracy: 0.9511\n",
            "Epoch 25/30\n",
            "1500/1500 [==============================] - 4s 2ms/step - loss: 0.1059 - accuracy: 0.9678 - val_loss: 0.1816 - val_accuracy: 0.9488\n",
            "Epoch 26/30\n",
            "1500/1500 [==============================] - 4s 2ms/step - loss: 0.1044 - accuracy: 0.9684 - val_loss: 0.1767 - val_accuracy: 0.9513\n",
            "Epoch 27/30\n",
            "1500/1500 [==============================] - 5s 3ms/step - loss: 0.1024 - accuracy: 0.9689 - val_loss: 0.1774 - val_accuracy: 0.9517\n",
            "Epoch 28/30\n",
            "1500/1500 [==============================] - 3s 2ms/step - loss: 0.1019 - accuracy: 0.9698 - val_loss: 0.1848 - val_accuracy: 0.9487\n",
            "Epoch 29/30\n",
            "1500/1500 [==============================] - 4s 2ms/step - loss: 0.1001 - accuracy: 0.9697 - val_loss: 0.1880 - val_accuracy: 0.9497\n",
            "Epoch 30/30\n",
            "1500/1500 [==============================] - 4s 3ms/step - loss: 0.0977 - accuracy: 0.9704 - val_loss: 0.1871 - val_accuracy: 0.9488\n",
            "313/313 [==============================] - 1s 2ms/step - loss: 0.1799 - accuracy: 0.9519\n"
          ]
        },
        {
          "data": {
            "text/plain": [
              "[0.17993777990341187, 0.9519000053405762]"
            ]
          },
          "execution_count": 10,
          "metadata": {},
          "output_type": "execute_result"
        }
      ],
      "source": [
        "# 모델1 정의\n",
        "input_layer = Input(shape=(784,))\n",
        "hidden_layer1 = Dense(16, activation='relu')(input_layer) #크기 16\n",
        "output_layer = Dense(10, activation='softmax')(hidden_layer1) #크기 10\n",
        "\n",
        "model1 = Model(inputs=input_layer, outputs=output_layer)\n",
        "\n",
        "# 모델 컴파일\n",
        "model1.compile(optimizer='adam',\n",
        "               loss='sparse_categorical_crossentropy',\n",
        "               metrics=['accuracy'])\n",
        "\n",
        "# 모델 요약\n",
        "model1.summary()\n",
        "\n",
        "# 모델 1 훈련\n",
        "model1.fit(x_train, y_train, batch_size=32, epochs=30, validation_data=(x_val, y_val))\n",
        "\n",
        "# 모델 1 평가\n",
        "model1.evaluate(x_test, y_test)"
      ]
    },
    {
      "cell_type": "markdown",
      "metadata": {
        "id": "rFmQXVOK6qWq"
      },
      "source": [
        "모델2 정의 및 테스트\n",
        "층개수 3개 1층 256, 2층 128, 3층 10"
      ]
    },
    {
      "cell_type": "code",
      "execution_count": 11,
      "metadata": {
        "colab": {
          "base_uri": "https://localhost:8080/"
        },
        "id": "c84rY9fb6pMe",
        "outputId": "e5e3c831-3be3-437f-9fae-078780013a41"
      },
      "outputs": [
        {
          "name": "stdout",
          "output_type": "stream",
          "text": [
            "Model: \"model_3\"\n",
            "_________________________________________________________________\n",
            " Layer (type)                Output Shape              Param #   \n",
            "=================================================================\n",
            " input_5 (InputLayer)        [(None, 784)]             0         \n",
            "                                                                 \n",
            " dense_10 (Dense)            (None, 256)               200960    \n",
            "                                                                 \n",
            " dense_11 (Dense)            (None, 128)               32896     \n",
            "                                                                 \n",
            " dense_12 (Dense)            (None, 10)                1290      \n",
            "                                                                 \n",
            "=================================================================\n",
            "Total params: 235146 (918.54 KB)\n",
            "Trainable params: 235146 (918.54 KB)\n",
            "Non-trainable params: 0 (0.00 Byte)\n",
            "_________________________________________________________________\n",
            "Epoch 1/30\n",
            "1500/1500 [==============================] - 12s 8ms/step - loss: 0.2324 - accuracy: 0.9305 - val_loss: 0.1363 - val_accuracy: 0.9613\n",
            "Epoch 2/30\n",
            "1500/1500 [==============================] - 9s 6ms/step - loss: 0.0945 - accuracy: 0.9703 - val_loss: 0.0946 - val_accuracy: 0.9707\n",
            "Epoch 3/30\n",
            "1500/1500 [==============================] - 12s 8ms/step - loss: 0.0631 - accuracy: 0.9801 - val_loss: 0.0927 - val_accuracy: 0.9730\n",
            "Epoch 4/30\n",
            "1500/1500 [==============================] - 11s 8ms/step - loss: 0.0468 - accuracy: 0.9849 - val_loss: 0.0892 - val_accuracy: 0.9750\n",
            "Epoch 5/30\n",
            "1500/1500 [==============================] - 10s 7ms/step - loss: 0.0358 - accuracy: 0.9884 - val_loss: 0.0920 - val_accuracy: 0.9754\n",
            "Epoch 6/30\n",
            "1500/1500 [==============================] - 10s 7ms/step - loss: 0.0288 - accuracy: 0.9905 - val_loss: 0.1011 - val_accuracy: 0.9743\n",
            "Epoch 7/30\n",
            "1500/1500 [==============================] - 11s 7ms/step - loss: 0.0238 - accuracy: 0.9926 - val_loss: 0.1037 - val_accuracy: 0.9737\n",
            "Epoch 8/30\n",
            "1500/1500 [==============================] - 11s 8ms/step - loss: 0.0208 - accuracy: 0.9930 - val_loss: 0.1317 - val_accuracy: 0.9697\n",
            "Epoch 9/30\n",
            "1500/1500 [==============================] - 9s 6ms/step - loss: 0.0176 - accuracy: 0.9940 - val_loss: 0.1079 - val_accuracy: 0.9764\n",
            "Epoch 10/30\n",
            "1500/1500 [==============================] - 10s 7ms/step - loss: 0.0169 - accuracy: 0.9945 - val_loss: 0.1017 - val_accuracy: 0.9788\n",
            "Epoch 11/30\n",
            "1500/1500 [==============================] - 11s 7ms/step - loss: 0.0163 - accuracy: 0.9945 - val_loss: 0.1234 - val_accuracy: 0.9746\n",
            "Epoch 12/30\n",
            "1500/1500 [==============================] - 9s 6ms/step - loss: 0.0138 - accuracy: 0.9953 - val_loss: 0.1495 - val_accuracy: 0.9712\n",
            "Epoch 13/30\n",
            "1500/1500 [==============================] - 11s 7ms/step - loss: 0.0125 - accuracy: 0.9957 - val_loss: 0.1755 - val_accuracy: 0.9665\n",
            "Epoch 14/30\n",
            "1500/1500 [==============================] - 11s 8ms/step - loss: 0.0131 - accuracy: 0.9956 - val_loss: 0.1155 - val_accuracy: 0.9788\n",
            "Epoch 15/30\n",
            "1500/1500 [==============================] - 11s 7ms/step - loss: 0.0112 - accuracy: 0.9967 - val_loss: 0.1159 - val_accuracy: 0.9799\n",
            "Epoch 16/30\n",
            "1500/1500 [==============================] - 9s 6ms/step - loss: 0.0123 - accuracy: 0.9960 - val_loss: 0.1349 - val_accuracy: 0.9779\n",
            "Epoch 17/30\n",
            "1500/1500 [==============================] - 11s 8ms/step - loss: 0.0085 - accuracy: 0.9974 - val_loss: 0.1388 - val_accuracy: 0.9789\n",
            "Epoch 18/30\n",
            "1500/1500 [==============================] - 11s 8ms/step - loss: 0.0134 - accuracy: 0.9958 - val_loss: 0.1291 - val_accuracy: 0.9809\n",
            "Epoch 19/30\n",
            "1500/1500 [==============================] - 10s 7ms/step - loss: 0.0065 - accuracy: 0.9979 - val_loss: 0.1254 - val_accuracy: 0.9802\n",
            "Epoch 20/30\n",
            "1500/1500 [==============================] - 10s 7ms/step - loss: 0.0084 - accuracy: 0.9972 - val_loss: 0.1426 - val_accuracy: 0.9789\n",
            "Epoch 21/30\n",
            "1500/1500 [==============================] - 11s 8ms/step - loss: 0.0090 - accuracy: 0.9974 - val_loss: 0.1292 - val_accuracy: 0.9787\n",
            "Epoch 22/30\n",
            "1500/1500 [==============================] - 12s 8ms/step - loss: 0.0112 - accuracy: 0.9969 - val_loss: 0.1511 - val_accuracy: 0.9779\n",
            "Epoch 23/30\n",
            "1500/1500 [==============================] - 9s 6ms/step - loss: 0.0098 - accuracy: 0.9971 - val_loss: 0.1677 - val_accuracy: 0.9781\n",
            "Epoch 24/30\n",
            "1500/1500 [==============================] - 11s 7ms/step - loss: 0.0091 - accuracy: 0.9974 - val_loss: 0.1500 - val_accuracy: 0.9771\n",
            "Epoch 25/30\n",
            "1500/1500 [==============================] - 11s 7ms/step - loss: 0.0080 - accuracy: 0.9979 - val_loss: 0.1649 - val_accuracy: 0.9772\n",
            "Epoch 26/30\n",
            "1500/1500 [==============================] - 11s 7ms/step - loss: 0.0084 - accuracy: 0.9977 - val_loss: 0.1405 - val_accuracy: 0.9805\n",
            "Epoch 27/30\n",
            "1500/1500 [==============================] - 10s 7ms/step - loss: 0.0084 - accuracy: 0.9975 - val_loss: 0.1833 - val_accuracy: 0.9753\n",
            "Epoch 28/30\n",
            "1500/1500 [==============================] - 12s 8ms/step - loss: 0.0076 - accuracy: 0.9978 - val_loss: 0.1856 - val_accuracy: 0.9773\n",
            "Epoch 29/30\n",
            "1500/1500 [==============================] - 11s 7ms/step - loss: 0.0083 - accuracy: 0.9977 - val_loss: 0.1733 - val_accuracy: 0.9788\n",
            "Epoch 30/30\n",
            "1500/1500 [==============================] - 10s 7ms/step - loss: 0.0080 - accuracy: 0.9981 - val_loss: 0.1622 - val_accuracy: 0.9799\n",
            "313/313 [==============================] - 1s 3ms/step - loss: 0.1561 - accuracy: 0.9794\n"
          ]
        },
        {
          "data": {
            "text/plain": [
              "[0.15606315433979034, 0.9793999791145325]"
            ]
          },
          "execution_count": 11,
          "metadata": {},
          "output_type": "execute_result"
        }
      ],
      "source": [
        "# 모델 2 정의\n",
        "input_layer2 = Input(shape=(784,))\n",
        "hidden_layer2_1 = Dense(256, activation='relu')(input_layer2) #모델2의 1층 256\n",
        "hidden_layer2_2 = Dense(128, activation='relu')(hidden_layer2_1) #모델2의 2층 128\n",
        "output_layer2 = Dense(10, activation='softmax')(hidden_layer2_2) #모델2의 3층 10\n",
        "model2 = Model(inputs=input_layer2, outputs=output_layer2)\n",
        "\n",
        "# 모델 2 컴파일\n",
        "model2.compile(optimizer='adam',\n",
        "               loss='sparse_categorical_crossentropy',\n",
        "               metrics=['accuracy'])\n",
        "\n",
        "# 모델 2 요약\n",
        "model2.summary()\n",
        "\n",
        "# 모델 2 훈련\n",
        "model2.fit(x_train, y_train, batch_size=32, epochs=30, validation_data=(x_val, y_val))\n",
        "\n",
        "# 모델 2 평가\n",
        "model2.evaluate(x_test, y_test)"
      ]
    }
  ],
  "metadata": {
    "colab": {
      "provenance": []
    },
    "kernelspec": {
      "display_name": "Python 3",
      "name": "python3"
    },
    "language_info": {
      "name": "python"
    }
  },
  "nbformat": 4,
  "nbformat_minor": 0
}
