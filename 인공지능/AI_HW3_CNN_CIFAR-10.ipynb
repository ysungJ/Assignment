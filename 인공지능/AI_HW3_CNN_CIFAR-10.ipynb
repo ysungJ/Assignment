{
  "cells": [
    {
      "cell_type": "markdown",
      "metadata": {
        "id": "U8Eb2EotsH6q"
      },
      "source": [
        "CNN 기반 CIFAR-10 분류모델 개발 및 실험"
      ]
    },
    {
      "cell_type": "code",
      "execution_count": 1,
      "metadata": {
        "colab": {
          "base_uri": "https://localhost:8080/"
        },
        "id": "Kdbv_gHrGzy_",
        "outputId": "bd12415f-0a70-4118-ad12-334b4020f12b"
      },
      "outputs": [
        {
          "name": "stdout",
          "output_type": "stream",
          "text": [
            "Mounted at /content/drive\n"
          ]
        }
      ],
      "source": [
        "from google.colab import drive\n",
        "drive.mount('/content/drive')"
      ]
    },
    {
      "cell_type": "code",
      "execution_count": 8,
      "metadata": {
        "id": "tLzE3yh8sDyV"
      },
      "outputs": [],
      "source": [
        "import tensorflow as tf\n",
        "from tensorflow import keras\n",
        "from tensorflow.keras import layers\n",
        "from tensorflow.keras import Sequential\n",
        "from tensorflow.keras.layers import Conv2D, MaxPooling2D, Flatten, Dense\n",
        "from tensorflow.keras.datasets import cifar10\n",
        "from tensorflow.keras.utils import to_categorical"
      ]
    },
    {
      "cell_type": "code",
      "execution_count": 9,
      "metadata": {
        "colab": {
          "base_uri": "https://localhost:8080/"
        },
        "id": "ue4fGcoNtZXc",
        "outputId": "45b512f9-d8b3-4d36-c9c7-d2b808cc6198"
      },
      "outputs": [
        {
          "name": "stdout",
          "output_type": "stream",
          "text": [
            "Downloading data from https://www.cs.toronto.edu/~kriz/cifar-10-python.tar.gz\n",
            "170498071/170498071 [==============================] - 4s 0us/step\n"
          ]
        }
      ],
      "source": [
        "# 데이터 불러오기 및 전처리\n",
        "(x_train, y_train), (x_test, y_test) = cifar10.load_data()\n",
        "x_train, x_test = x_train / 255.0, x_test / 255.0\n",
        "\n",
        "#원핫 인코딩\n",
        "y_train = keras.utils.to_categorical(y_train, 10)\n",
        "y_test = keras.utils.to_categorical(y_test, 10)"
      ]
    },
    {
      "cell_type": "markdown",
      "metadata": {
        "id": "MkLPAusUwYu0"
      },
      "source": [
        "모델1, 모델2 설정\n"
      ]
    },
    {
      "cell_type": "code",
      "execution_count": 10,
      "metadata": {
        "id": "iA-ti3BrtaI2"
      },
      "outputs": [],
      "source": [
        "# 모델1\n",
        "model1 = Sequential([\n",
        "    Conv2D(2, (5, 5), activation='relu', input_shape=(32, 32, 3), use_bias=True),\n",
        "    MaxPooling2D((2, 2), strides=(2, 2)),\n",
        "    Conv2D(2, (3, 3), activation='relu', use_bias=True),\n",
        "    MaxPooling2D((2, 2), strides=(2, 2)),\n",
        "    Conv2D(2, (3, 3), activation='relu', use_bias=True),\n",
        "    MaxPooling2D((2, 2), strides=(2, 2)),\n",
        "    Flatten(),\n",
        "    Dense(256, activation='relu', use_bias=True),\n",
        "    Dense(128, activation='relu', use_bias=True),\n",
        "    Dense(10, activation='softmax', use_bias=True)\n",
        "])"
      ]
    },
    {
      "cell_type": "code",
      "execution_count": 11,
      "metadata": {
        "id": "uKTOCw29taLs"
      },
      "outputs": [],
      "source": [
        "# 모델2\n",
        "model2 = Sequential([\n",
        "    Conv2D(32, (5, 5), activation='relu', input_shape=(32, 32, 3), use_bias=True),\n",
        "    MaxPooling2D((2, 2), strides=(2, 2)),\n",
        "    Conv2D(24, (3, 3), activation='relu', use_bias=True),\n",
        "    MaxPooling2D((2, 2), strides=(2, 2)),\n",
        "    Conv2D(16, (3, 3), activation='relu', use_bias=True),\n",
        "    MaxPooling2D((2, 2), strides=(2, 2)),\n",
        "    Flatten(),\n",
        "    Dense(256, activation='relu', use_bias=True),\n",
        "    Dense(128, activation='relu', use_bias=True),\n",
        "    Dense(10, activation='softmax', use_bias=True)\n",
        "])\n"
      ]
    },
    {
      "cell_type": "markdown",
      "metadata": {
        "id": "qr7_JXodwgqW"
      },
      "source": [
        "모델1, 2학습"
      ]
    },
    {
      "cell_type": "code",
      "execution_count": 12,
      "metadata": {
        "colab": {
          "base_uri": "https://localhost:8080/"
        },
        "id": "aePMc6IYticl",
        "outputId": "2963e417-9fe8-4f31-de0d-a552253759ea"
      },
      "outputs": [
        {
          "name": "stdout",
          "output_type": "stream",
          "text": [
            "Epoch 1/10\n",
            "2813/2813 [==============================] - 35s 12ms/step - loss: 1.9732 - accuracy: 0.2520 - val_loss: 1.8460 - val_accuracy: 0.2996\n",
            "Epoch 2/10\n",
            "2813/2813 [==============================] - 33s 12ms/step - loss: 1.8443 - accuracy: 0.3083 - val_loss: 1.7934 - val_accuracy: 0.3306\n",
            "Epoch 3/10\n",
            "2813/2813 [==============================] - 32s 11ms/step - loss: 1.7976 - accuracy: 0.3260 - val_loss: 1.7483 - val_accuracy: 0.3440\n",
            "Epoch 4/10\n",
            "2813/2813 [==============================] - 34s 12ms/step - loss: 1.7423 - accuracy: 0.3452 - val_loss: 1.6895 - val_accuracy: 0.3670\n",
            "Epoch 5/10\n",
            "2813/2813 [==============================] - 33s 12ms/step - loss: 1.7190 - accuracy: 0.3523 - val_loss: 1.6993 - val_accuracy: 0.3616\n",
            "Epoch 6/10\n",
            "2813/2813 [==============================] - 32s 12ms/step - loss: 1.7048 - accuracy: 0.3577 - val_loss: 1.6690 - val_accuracy: 0.3720\n",
            "Epoch 7/10\n",
            "2813/2813 [==============================] - 34s 12ms/step - loss: 1.6925 - accuracy: 0.3621 - val_loss: 1.6532 - val_accuracy: 0.3744\n",
            "Epoch 8/10\n",
            "2813/2813 [==============================] - 33s 12ms/step - loss: 1.6855 - accuracy: 0.3680 - val_loss: 1.6444 - val_accuracy: 0.3792\n",
            "Epoch 9/10\n",
            "2813/2813 [==============================] - 33s 12ms/step - loss: 1.6779 - accuracy: 0.3704 - val_loss: 1.6599 - val_accuracy: 0.3762\n",
            "Epoch 10/10\n",
            "2813/2813 [==============================] - 32s 11ms/step - loss: 1.6716 - accuracy: 0.3712 - val_loss: 1.6581 - val_accuracy: 0.3776\n"
          ]
        }
      ],
      "source": [
        "# 모델1 학습\n",
        "model1.compile(optimizer='adam',\n",
        "              loss='categorical_crossentropy',\n",
        "              metrics=['accuracy'])\n",
        "\n",
        "# 데이터를 train과 validation으로 나누기\n",
        "num_samples = len(x_train)\n",
        "train_size = int(0.9 * num_samples)\n",
        "x_train_partial = x_train[:train_size]\n",
        "y_train_partial = y_train[:train_size]\n",
        "x_val = x_train[train_size:]\n",
        "y_val = y_train[train_size:]\n",
        "\n",
        "history1 = model1.fit(x_train_partial, y_train_partial, epochs=10, batch_size=16, validation_data=(x_val, y_val))"
      ]
    },
    {
      "cell_type": "code",
      "execution_count": 13,
      "metadata": {
        "colab": {
          "base_uri": "https://localhost:8080/"
        },
        "id": "65UGxi9nHa1T",
        "outputId": "a21791d8-141c-4108-bd14-a3e1d6490202"
      },
      "outputs": [
        {
          "name": "stdout",
          "output_type": "stream",
          "text": [
            "Epoch 1/10\n",
            "2813/2813 [==============================] - 56s 20ms/step - loss: 1.6122 - accuracy: 0.4048 - val_loss: 1.3981 - val_accuracy: 0.4854\n",
            "Epoch 2/10\n",
            "2813/2813 [==============================] - 55s 19ms/step - loss: 1.3379 - accuracy: 0.5192 - val_loss: 1.3594 - val_accuracy: 0.5210\n",
            "Epoch 3/10\n",
            "2813/2813 [==============================] - 53s 19ms/step - loss: 1.2283 - accuracy: 0.5596 - val_loss: 1.1860 - val_accuracy: 0.5720\n",
            "Epoch 4/10\n",
            "2813/2813 [==============================] - 55s 20ms/step - loss: 1.1556 - accuracy: 0.5867 - val_loss: 1.1388 - val_accuracy: 0.5938\n",
            "Epoch 5/10\n",
            "2813/2813 [==============================] - 55s 20ms/step - loss: 1.0953 - accuracy: 0.6091 - val_loss: 1.1607 - val_accuracy: 0.5836\n",
            "Epoch 6/10\n",
            "2813/2813 [==============================] - 54s 19ms/step - loss: 1.0524 - accuracy: 0.6234 - val_loss: 1.0805 - val_accuracy: 0.6200\n",
            "Epoch 7/10\n",
            "2813/2813 [==============================] - 54s 19ms/step - loss: 1.0075 - accuracy: 0.6387 - val_loss: 1.0518 - val_accuracy: 0.6372\n",
            "Epoch 8/10\n",
            "2813/2813 [==============================] - 54s 19ms/step - loss: 0.9684 - accuracy: 0.6557 - val_loss: 1.1032 - val_accuracy: 0.6156\n",
            "Epoch 9/10\n",
            "2813/2813 [==============================] - 59s 21ms/step - loss: 0.9343 - accuracy: 0.6653 - val_loss: 1.0021 - val_accuracy: 0.6416\n",
            "Epoch 10/10\n",
            "2813/2813 [==============================] - 54s 19ms/step - loss: 0.8993 - accuracy: 0.6794 - val_loss: 1.0700 - val_accuracy: 0.6332\n"
          ]
        }
      ],
      "source": [
        "# 모델2 학습\n",
        "model2.compile(optimizer='adam',\n",
        "              loss='categorical_crossentropy',\n",
        "              metrics=['accuracy'])\n",
        "\n",
        "history2 = model2.fit(x_train_partial, y_train_partial, epochs=10, batch_size=16, validation_data=(x_val, y_val))\n"
      ]
    },
    {
      "cell_type": "markdown",
      "metadata": {
        "id": "VrPZ2xKKwz7w"
      },
      "source": [
        "\n",
        " 테스트 결과 출력"
      ]
    },
    {
      "cell_type": "code",
      "execution_count": 14,
      "metadata": {
        "colab": {
          "base_uri": "https://localhost:8080/"
        },
        "id": "JI91gQRsx81t",
        "outputId": "d341f0bd-3feb-4c81-9ab0-5f7a25eee486"
      },
      "outputs": [
        {
          "name": "stdout",
          "output_type": "stream",
          "text": [
            "Last Epoch Loss for Model1: 1.658138632774353\n",
            "Last Epoch Accuracy for Model1: 0.3776000142097473\n",
            "Last Epoch Loss for Model2: 1.0699748992919922\n",
            "Last Epoch Accuracy for Model2: 0.6331999897956848\n"
          ]
        }
      ],
      "source": [
        "last_epoch_loss1 = history1.history['val_loss'][-1]\n",
        "last_epoch_accuracy1 = history1.history['val_accuracy'][-1]\n",
        "\n",
        "last_epoch_loss2 = history2.history['val_loss'][-1]\n",
        "last_epoch_accuracy2 = history2.history['val_accuracy'][-1]\n",
        "\n",
        "print(f\"Last Epoch Loss for Model1: {last_epoch_loss1}\")\n",
        "print(f\"Last Epoch Accuracy for Model1: {last_epoch_accuracy1}\")\n",
        "print(f\"Last Epoch Loss for Model2: {last_epoch_loss2}\")\n",
        "print(f\"Last Epoch Accuracy for Model2: {last_epoch_accuracy2}\")"
      ]
    },
    {
      "cell_type": "code",
      "execution_count": 15,
      "metadata": {
        "colab": {
          "base_uri": "https://localhost:8080/"
        },
        "id": "g6LwyZJwtaOH",
        "outputId": "dc792398-24df-4136-f7b7-2b13f2fef1b1"
      },
      "outputs": [
        {
          "name": "stdout",
          "output_type": "stream",
          "text": [
            "313/313 - 2s - loss: 1.6743 - accuracy: 0.3741 - 2s/epoch - 6ms/step\n",
            "313/313 - 3s - loss: 1.0848 - accuracy: 0.6243 - 3s/epoch - 8ms/step\n",
            "Test accuracy for Model1: 0.374099999666214\n",
            "Test accuracy for Model2: 0.6243000030517578\n"
          ]
        }
      ],
      "source": [
        "test_loss1, test_acc1 = model1.evaluate(x_test, y_test, verbose=2)\n",
        "test_loss2, test_acc2 = model2.evaluate(x_test, y_test, verbose=2)\n",
        "\n",
        "print(f'Test accuracy for Model1: {test_acc1}')\n",
        "print(f'Test accuracy for Model2: {test_acc2}')\n",
        "CIFAR_10_CLASSES = [\"airplane\", \"automobile\", \"bird\", \"cat\", \"deer\", \"dog\", \"frog\", \"horse\", \"ship\", \"truck\"]"
      ]
    },
    {
      "cell_type": "markdown",
      "metadata": {
        "id": "28iEr3bx3WhV"
      },
      "source": [
        "오분류된 예제 함수 출력\n"
      ]
    },
    {
      "cell_type": "code",
      "execution_count": 22,
      "metadata": {
        "id": "abaEYiyGw4BB"
      },
      "outputs": [],
      "source": [
        "# 오분류된 예제 출력 함수\n",
        "def print_misclassified_examples(model, model_name, x_test, y_test):\n",
        "    predictions = model.predict(x_test)\n",
        "    misclassified_indices = []\n",
        "\n",
        "    for i in range(len(x_test)):\n",
        "        predicted_label = tf.argmax(predictions[i])\n",
        "        true_label = tf.argmax(y_test[i])\n",
        "\n",
        "        if predicted_label != true_label:\n",
        "            misclassified_indices.append(i)\n",
        "\n",
        "    print(f\"Model {model_name} - Number of Misclassifications: {len(misclassified_indices)}\")\n",
        "\n",
        "    misclassified_counts = [0] * 10\n",
        "\n",
        "    for idx in misclassified_indices:\n",
        "        predicted_label = tf.argmax(predictions[idx])\n",
        "        true_label = tf.argmax(y_test[idx])\n",
        "\n",
        "        # 출력하기 위해 예제 인덱스 저장\n",
        "        misclassified_counts[true_label] += 1\n",
        "        if misclassified_counts[true_label] <= 10:\n",
        "            print(f\"({idx}) {CIFAR_10_CLASSES[true_label]} (true) -> {CIFAR_10_CLASSES[predicted_label]} (predicted)\", end=\"    \")\n",
        "\n",
        "    print()  # 들여쓰기를 맞춘 상태\n",
        "\n",
        "    for i, class_name in enumerate(CIFAR_10_CLASSES):\n",
        "        print(f\"Class: {class_name}, Misclassifications: {misclassified_counts[i]}\")"
      ]
    },
    {
      "cell_type": "code",
      "execution_count": 23,
      "metadata": {
        "colab": {
          "base_uri": "https://localhost:8080/"
        },
        "id": "wpoD96AcQpKO",
        "outputId": "a9eafc9b-d35f-44a0-f3a6-a1274c6c3b82"
      },
      "outputs": [
        {
          "name": "stdout",
          "output_type": "stream",
          "text": [
            "313/313 [==============================] - 2s 6ms/step\n",
            "Model Model1 - Number of Misclassifications: 6259\n",
            "(3) airplane (true) -> ship (predicted)    (4) frog (true) -> bird (predicted)    (6) automobile (true) -> truck (predicted)    (9) automobile (true) -> ship (predicted)    (11) truck (true) -> automobile (predicted)    (12) dog (true) -> frog (predicted)    (13) horse (true) -> automobile (predicted)    (14) truck (true) -> automobile (predicted)    (15) ship (true) -> airplane (predicted)    (16) dog (true) -> automobile (predicted)    (17) horse (true) -> cat (predicted)    (18) ship (true) -> truck (predicted)    (20) horse (true) -> airplane (predicted)    (22) deer (true) -> airplane (predicted)    (23) truck (true) -> automobile (predicted)    (24) dog (true) -> deer (predicted)    (25) bird (true) -> cat (predicted)    (26) deer (true) -> frog (predicted)    (27) airplane (true) -> bird (predicted)    (30) frog (true) -> cat (predicted)    (32) deer (true) -> cat (predicted)    (33) dog (true) -> cat (predicted)    (34) truck (true) -> automobile (predicted)    (35) bird (true) -> automobile (predicted)    (36) deer (true) -> frog (predicted)    (38) truck (true) -> automobile (predicted)    (39) dog (true) -> bird (predicted)    (40) deer (true) -> ship (predicted)    (43) frog (true) -> dog (predicted)    (45) truck (true) -> automobile (predicted)    (46) cat (true) -> frog (predicted)    (48) horse (true) -> deer (predicted)    (51) ship (true) -> truck (predicted)    (52) airplane (true) -> frog (predicted)    (53) cat (true) -> frog (predicted)    (56) horse (true) -> cat (predicted)    (57) horse (true) -> automobile (predicted)    (58) deer (true) -> dog (predicted)    (59) frog (true) -> cat (predicted)    (61) cat (true) -> frog (predicted)    (63) cat (true) -> truck (predicted)    (65) bird (true) -> frog (predicted)    (66) automobile (true) -> truck (predicted)    (67) bird (true) -> airplane (predicted)    (70) bird (true) -> deer (predicted)    (74) airplane (true) -> truck (predicted)    (75) bird (true) -> dog (predicted)    (76) truck (true) -> automobile (predicted)    (77) cat (true) -> truck (predicted)    (78) cat (true) -> frog (predicted)    (83) horse (true) -> dog (predicted)    (84) bird (true) -> dog (predicted)    (85) dog (true) -> horse (predicted)    (87) horse (true) -> ship (predicted)    (88) ship (true) -> truck (predicted)    (89) truck (true) -> ship (predicted)    (90) airplane (true) -> automobile (predicted)    (91) cat (true) -> frog (predicted)    (93) frog (true) -> cat (predicted)    (98) airplane (true) -> horse (predicted)    (99) horse (true) -> cat (predicted)    (100) deer (true) -> dog (predicted)    (101) dog (true) -> horse (predicted)    (103) cat (true) -> frog (predicted)    (105) automobile (true) -> ship (predicted)    (106) cat (true) -> automobile (predicted)    (108) ship (true) -> automobile (predicted)    (109) horse (true) -> dog (predicted)    (110) deer (true) -> frog (predicted)    (112) frog (true) -> dog (predicted)    (115) cat (true) -> horse (predicted)    (117) deer (true) -> horse (predicted)    (118) bird (true) -> cat (predicted)    (123) bird (true) -> dog (predicted)    (125) airplane (true) -> ship (predicted)    (128) dog (true) -> horse (predicted)    (131) automobile (true) -> truck (predicted)    (134) automobile (true) -> airplane (predicted)    (135) bird (true) -> dog (predicted)    (136) truck (true) -> automobile (predicted)    (139) truck (true) -> ship (predicted)    (140) frog (true) -> cat (predicted)    (142) frog (true) -> dog (predicted)    (148) dog (true) -> frog (predicted)    (150) ship (true) -> automobile (predicted)    (152) frog (true) -> cat (predicted)    (155) dog (true) -> frog (predicted)    (162) frog (true) -> truck (predicted)    (165) deer (true) -> horse (predicted)    (169) airplane (true) -> horse (predicted)    (173) ship (true) -> truck (predicted)    (179) airplane (true) -> truck (predicted)    (180) airplane (true) -> truck (predicted)    (185) ship (true) -> airplane (predicted)    (191) ship (true) -> automobile (predicted)    (196) ship (true) -> truck (predicted)    (201) automobile (true) -> truck (predicted)    (204) automobile (true) -> ship (predicted)    (241) automobile (true) -> ship (predicted)    (246) automobile (true) -> horse (predicted)    \n",
            "Class: airplane, Misclassifications: 606\n",
            "Class: automobile, Misclassifications: 466\n",
            "Class: bird, Misclassifications: 813\n",
            "Class: cat, Misclassifications: 737\n",
            "Class: deer, Misclassifications: 771\n",
            "Class: dog, Misclassifications: 735\n",
            "Class: frog, Misclassifications: 459\n",
            "Class: horse, Misclassifications: 614\n",
            "Class: ship, Misclassifications: 525\n",
            "Class: truck, Misclassifications: 533\n"
          ]
        }
      ],
      "source": [
        "# 모델1의 오분류된 예제 출력\n",
        "print_misclassified_examples(model1, \"Model1\", x_test, y_test)"
      ]
    },
    {
      "cell_type": "code",
      "execution_count": 25,
      "metadata": {
        "colab": {
          "base_uri": "https://localhost:8080/"
        },
        "id": "XEoK6zUYw8Gv",
        "outputId": "bbd7a1c0-03b3-4c51-9b51-153a4d2d2b37"
      },
      "outputs": [
        {
          "name": "stdout",
          "output_type": "stream",
          "text": [
            "313/313 [==============================] - 3s 9ms/step\n",
            "Model Model2 - Number of Misclassifications: 3757\n",
            "(1) ship (true) -> automobile (predicted)    (3) airplane (true) -> ship (predicted)    (4) frog (true) -> deer (predicted)    (6) automobile (true) -> bird (predicted)    (12) dog (true) -> frog (predicted)    (16) dog (true) -> cat (predicted)    (17) horse (true) -> cat (predicted)    (22) deer (true) -> airplane (predicted)    (24) dog (true) -> deer (predicted)    (25) bird (true) -> deer (predicted)    (27) airplane (true) -> frog (predicted)    (32) deer (true) -> bird (predicted)    (33) dog (true) -> cat (predicted)    (35) bird (true) -> cat (predicted)    (36) deer (true) -> horse (predicted)    (40) deer (true) -> airplane (predicted)    (42) dog (true) -> cat (predicted)    (51) ship (true) -> airplane (predicted)    (52) airplane (true) -> frog (predicted)    (56) horse (true) -> dog (predicted)    (57) horse (true) -> cat (predicted)    (58) deer (true) -> frog (predicted)    (59) frog (true) -> cat (predicted)    (63) cat (true) -> bird (predicted)    (65) bird (true) -> frog (predicted)    (67) bird (true) -> airplane (predicted)    (69) horse (true) -> airplane (predicted)    (76) truck (true) -> airplane (predicted)    (77) cat (true) -> ship (predicted)    (81) automobile (true) -> truck (predicted)    (85) dog (true) -> horse (predicted)    (86) bird (true) -> airplane (predicted)    (87) horse (true) -> airplane (predicted)    (88) ship (true) -> truck (predicted)    (91) cat (true) -> frog (predicted)    (99) horse (true) -> cat (predicted)    (101) dog (true) -> cat (predicted)    (103) cat (true) -> frog (predicted)    (106) cat (true) -> ship (predicted)    (108) ship (true) -> horse (predicted)    (110) deer (true) -> frog (predicted)    (112) frog (true) -> bird (predicted)    (115) cat (true) -> horse (predicted)    (117) deer (true) -> horse (predicted)    (118) bird (true) -> frog (predicted)    (121) cat (true) -> horse (predicted)    (126) ship (true) -> airplane (predicted)    (128) dog (true) -> frog (predicted)    (129) bird (true) -> airplane (predicted)    (139) truck (true) -> automobile (predicted)    (143) cat (true) -> horse (predicted)    (145) horse (true) -> bird (predicted)    (147) bird (true) -> frog (predicted)    (149) bird (true) -> cat (predicted)    (151) truck (true) -> automobile (predicted)    (153) airplane (true) -> cat (predicted)    (155) dog (true) -> frog (predicted)    (158) dog (true) -> cat (predicted)    (160) bird (true) -> airplane (predicted)    (162) frog (true) -> truck (predicted)    (165) deer (true) -> horse (predicted)    (167) deer (true) -> frog (predicted)    (173) ship (true) -> airplane (predicted)    (184) cat (true) -> frog (predicted)    (188) deer (true) -> horse (predicted)    (201) automobile (true) -> ship (predicted)    (206) airplane (true) -> ship (predicted)    (210) horse (true) -> deer (predicted)    (213) truck (true) -> horse (predicted)    (216) horse (true) -> airplane (predicted)    (218) ship (true) -> airplane (predicted)    (226) frog (true) -> cat (predicted)    (228) horse (true) -> cat (predicted)    (245) cat (true) -> frog (predicted)    (247) truck (true) -> ship (predicted)    (258) airplane (true) -> ship (predicted)    (269) airplane (true) -> bird (predicted)    (287) airplane (true) -> ship (predicted)    (293) truck (true) -> automobile (predicted)    (304) frog (true) -> bird (predicted)    (308) automobile (true) -> truck (predicted)    (309) frog (true) -> bird (predicted)    (310) ship (true) -> airplane (predicted)    (315) airplane (true) -> horse (predicted)    (335) truck (true) -> automobile (predicted)    (349) truck (true) -> automobile (predicted)    (351) automobile (true) -> truck (predicted)    (352) airplane (true) -> ship (predicted)    (358) ship (true) -> automobile (predicted)    (363) automobile (true) -> ship (predicted)    (385) ship (true) -> airplane (predicted)    (394) truck (true) -> horse (predicted)    (400) truck (true) -> frog (predicted)    (439) automobile (true) -> truck (predicted)    (459) frog (true) -> bird (predicted)    (556) frog (true) -> deer (predicted)    (672) frog (true) -> bird (predicted)    (941) automobile (true) -> truck (predicted)    (1047) automobile (true) -> ship (predicted)    (1054) automobile (true) -> truck (predicted)    \n",
            "Class: airplane, Misclassifications: 309\n",
            "Class: automobile, Misclassifications: 135\n",
            "Class: bird, Misclassifications: 524\n",
            "Class: cat, Misclassifications: 558\n",
            "Class: deer, Misclassifications: 536\n",
            "Class: dog, Misclassifications: 639\n",
            "Class: frog, Misclassifications: 146\n",
            "Class: horse, Misclassifications: 305\n",
            "Class: ship, Misclassifications: 218\n",
            "Class: truck, Misclassifications: 387\n"
          ]
        }
      ],
      "source": [
        "#모델2의 오분류된 예제 출력\n",
        "print_misclassified_examples(model2, \"Model2\", x_test, y_test)"
      ]
    }
  ],
  "metadata": {
    "colab": {
      "provenance": []
    },
    "kernelspec": {
      "display_name": "Python 3",
      "name": "python3"
    },
    "language_info": {
      "name": "python"
    }
  },
  "nbformat": 4,
  "nbformat_minor": 0
}
